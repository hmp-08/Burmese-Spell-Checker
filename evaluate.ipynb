{
  "nbformat": 4,
  "nbformat_minor": 0,
  "metadata": {
    "colab": {
      "provenance": []
    },
    "kernelspec": {
      "name": "python3",
      "display_name": "Python 3"
    },
    "language_info": {
      "name": "python"
    }
  },
  "cells": [
    {
      "cell_type": "code",
      "execution_count": 1,
      "metadata": {
        "colab": {
          "base_uri": "https://localhost:8080/"
        },
        "id": "XoOP30S45Biq",
        "outputId": "287b0336-b75e-4e38-ca2a-ab2920085455"
      },
      "outputs": [
        {
          "output_type": "stream",
          "name": "stdout",
          "text": [
            "Mounted at /content/drive\n"
          ]
        }
      ],
      "source": [
        "from google.colab import drive\n",
        "drive.mount('/content/drive')"
      ]
    },
    {
      "cell_type": "code",
      "source": [
        "inputs = [\n",
        "    'ငါ တို ရှင် သန် ရာ ပတ် ဝန်း ကျင်',\n",
        "    'လက် ညှိုး တွေ မျာ တယ်',\n",
        "    'တစ် လှမ်း ချင်း လျှောက် လဲ ရောက် ရ မယ်'\n",
        "]"
      ],
      "metadata": {
        "id": "wJ_Gaj5C6CVb"
      },
      "execution_count": 2,
      "outputs": []
    },
    {
      "cell_type": "code",
      "source": [
        "import tensorflow as tf\n",
        "reloaded = tf.saved_model.load('/content/drive/MyDrive/translator')\n",
        "#_ = reloaded.translate(tf.constant(inputs)) #warmup"
      ],
      "metadata": {
        "id": "IFJcUG7u5k4q"
      },
      "execution_count": 3,
      "outputs": []
    },
    {
      "cell_type": "code",
      "source": [
        "result = reloaded.translate(tf.constant(inputs))\n",
        "\n",
        "print(result[0].numpy().decode())\n",
        "print(result[1].numpy().decode())\n",
        "print(result[2].numpy().decode())\n",
        "print()"
      ],
      "metadata": {
        "colab": {
          "base_uri": "https://localhost:8080/"
        },
        "id": "m4KiJgJR55dc",
        "outputId": "4ce2d84f-1a61-49ab-e681-669156a08a76"
      },
      "execution_count": 4,
      "outputs": [
        {
          "output_type": "stream",
          "name": "stdout",
          "text": [
            "ငါ တို့ ရှင် သန် ရာ ပတ် ဝန်း ကျင်                                          \n",
            "လက် ညှိုး တွေ များ တယ်                                             \n",
            "တစ် လှမ်း ချင်း လျှောက် လည်း ရောက် ရ မယ်                                          \n",
            "\n"
          ]
        }
      ]
    },
    {
      "cell_type": "code",
      "source": [
        "!wc -l src-test.txt"
      ],
      "metadata": {
        "colab": {
          "base_uri": "https://localhost:8080/"
        },
        "id": "iBaooHXzI2vG",
        "outputId": "1a9bd1fd-9865-42df-c713-57b0a706e9c4"
      },
      "execution_count": 5,
      "outputs": [
        {
          "output_type": "stream",
          "name": "stdout",
          "text": [
            "1000 src-test.txt\n"
          ]
        }
      ]
    },
    {
      "cell_type": "code",
      "source": [
        "!head src-test.txt"
      ],
      "metadata": {
        "colab": {
          "base_uri": "https://localhost:8080/"
        },
        "id": "NVOcKny5I9MU",
        "outputId": "daa66057-6e6d-40ab-df4b-14785d2e1037"
      },
      "execution_count": 6,
      "outputs": [
        {
          "output_type": "stream",
          "name": "stdout",
          "text": [
            "သူ က ငါ့ အစ် ကို နဲ့ ငါ့ ကို လူ မှား ခဲ့ တယ် ။\n",
            "ဘာ ကြောင့် ဖြပ် လည်း တော့ မ သေိ ဘူး ။\n",
            "တ ကယ် အ ကြိ ထး ရှိ မယ့် ထုက် ကုန် မျိုး ထုက် နိုင် ဖို့ ကျ နော် တို့ စိတ် ရှည် လတ် ရှည် စောင့် ဆိုင်း နေ ပါ တယ် ။\n",
            "ဘေ ဂ ဗေ ဒ သ ဘော တ ရား အ ရ ဘယ် ဟာ မျှ အ ရမ်း တပ် တာ မ ကောင်း သ လို အ ရမ်း ကျ တာ လဲ မ ကောင်း ဘူး ။\n",
            "အဲ ဒီ အ ခိန် က စ ပြီး ကျ နော် တို့ အ တွပ် အ ရန်း ရှင်း လင်း သွား ပါဳ တယ် ။\n",
            "ခင် ဗျား မှာ ရွှေ တို့ ရ တ နာ ပစ္စည်း တို့ များ ရှိ ပါ သ လား\n",
            "အဲ ဒီ လို ယူ ဆ ခက်ာ တွေ ကွဲ လွဲ တော့ မ ဖျစ် သင့် မ ဖြစ် ထိုက် တာ တွေ ဖြစ် လာ တယ် ။\n",
            "သင့် ကျန်း မာ ရေဳး အ တွက် အ ကောင်း ဆုံး နှာ ခေင်း စည်း များ ကို သာ ရွေး ချယ် ပါ\n",
            "လူ နာ မှာ ဆီး ချို မ ရှိ ဖို့ အ ရန်း လို အက် တယ်\n",
            "အား လေံး ပါ ဝင် လာ အောင် လုက် ဆောင် နေ တဲ့ နိုင် ငံ ရေး ဆွေး နွေး မှု လမ်း ကြောင်း က နေ လည်း သွေ ဖတ် သွား နိုင် တယ် ။\n"
          ]
        }
      ]
    },
    {
      "cell_type": "code",
      "source": [
        "!wc -l tgt-test.txt"
      ],
      "metadata": {
        "colab": {
          "base_uri": "https://localhost:8080/"
        },
        "id": "ZVU9pv7oI_5l",
        "outputId": "57b4f5f4-24c8-446d-e245-459929a836d8"
      },
      "execution_count": 7,
      "outputs": [
        {
          "output_type": "stream",
          "name": "stdout",
          "text": [
            "1000 tgt-test.txt\n"
          ]
        }
      ]
    },
    {
      "cell_type": "code",
      "source": [
        "!head tgt-test.txt"
      ],
      "metadata": {
        "colab": {
          "base_uri": "https://localhost:8080/"
        },
        "id": "c7kJ953tJB_Q",
        "outputId": "90ae37d0-9f2d-4910-f300-bf729773ff38"
      },
      "execution_count": 8,
      "outputs": [
        {
          "output_type": "stream",
          "name": "stdout",
          "text": [
            "သူ က ငါ့ အစ် ကို နဲ့ ငါ့ ကို လူ မှား ခဲ့ တယ် ။\n",
            "ဘာ ကြောင့် ဖြတ် လဲ တော့ မ သိ ဘူး ။\n",
            "တ ကယ် အ ကျိုး ရှိ မယ့် ထုတ် ကုန် မျိုး ထုတ် နိုင် ဖို့ ကျ နော် တို့ စိတ် ရှည် လက် ရှည် စောင့် ဆိုင်း နေ ပါ တယ် ။\n",
            "ဘော ဂ ဗေ ဒ သ ဘော တ ရား အ ရ ဘယ် ဟာ မှ အ ရမ်း တက် တာ မ ကောင်း သ လို အ ရမ်း ကျ တာ လည်း မ ကောင်း ဘူး ။\n",
            "အဲ ဒီ အ ချိန် က စ ပြီး ကျ နော် တို့ အ တွက် အ ရမ်း ရှင်း လင်း သွား ပါ တယ် ။\n",
            "ခင် ဗျား မှာ ရွှေ တို့ ရ တ နာ ပစ္စည်း တို့ များ ရှိ ပါ သ လား\n",
            "အဲ ဒီ လို ယူ ဆ ချက် တွေ ကွဲ လွဲ တော့ မ ဖြစ် သင့် မ ဖြစ် ထိုက် တာ တွေ ဖြစ် လာ တယ် ။\n",
            "သင့် ကျန်း မာ ရေး အ တွက် အ ကောင်း ဆုံး နှာ ခေါင်း စည်း များ ကို သာ ရွေး ချယ် ပါ\n",
            "လူ နာ မှာ ဆီး ချို မ ရှိ ဖို့ အ ရမ်း လို အပ် တယ်\n",
            "အား လုံး ပါ ဝင် လာ အောင် လုပ် ဆောင် နေ တဲ့ နိုင် ငံ ရေး ဆွေး နွေး မှု လမ်း ကြောင်း က နေ လည်း သွေ ဖယ် သွား နိုင် တယ် ။\n"
          ]
        }
      ]
    },
    {
      "cell_type": "code",
      "source": [
        "with open('src-test.txt', 'r') as file:\n",
        "    file_contents = file.read()\n",
        "    src_lst = file_contents.splitlines()"
      ],
      "metadata": {
        "id": "ANOrGaVHJEBW"
      },
      "execution_count": 9,
      "outputs": []
    },
    {
      "cell_type": "code",
      "source": [
        "src_lst[0:5]"
      ],
      "metadata": {
        "colab": {
          "base_uri": "https://localhost:8080/"
        },
        "id": "GjxMfJ1bJutg",
        "outputId": "ffb06d72-773a-4880-83be-32968c47ff97"
      },
      "execution_count": 10,
      "outputs": [
        {
          "output_type": "execute_result",
          "data": {
            "text/plain": [
              "['သူ က ငါ့ အစ် ကို နဲ့ ငါ့ ကို လူ မှား ခဲ့ တယ် ။',\n",
              " 'ဘာ ကြောင့် ဖြပ် လည်း တော့ မ သေိ ဘူး ။',\n",
              " 'တ ကယ် အ ကြိ ထး ရှိ မယ့် ထုက် ကုန် မျိုး ထုက် နိုင် ဖို့ ကျ နော် တို့ စိတ် ရှည် လတ် ရှည် စောင့် ဆိုင်း နေ ပါ တယ် ။',\n",
              " 'ဘေ ဂ ဗေ ဒ သ ဘော တ ရား အ ရ ဘယ် ဟာ မျှ အ ရမ်း တပ် တာ မ ကောင်း သ လို အ ရမ်း ကျ တာ လဲ မ ကောင်း ဘူး ။',\n",
              " 'အဲ ဒီ အ ခိန် က စ ပြီး ကျ နော် တို့ အ တွပ် အ ရန်း ရှင်း လင်း သွား ပါဳ တယ် ။']"
            ]
          },
          "metadata": {},
          "execution_count": 10
        }
      ]
    },
    {
      "cell_type": "code",
      "source": [
        "result = reloaded.translate(tf.constant(src_lst))"
      ],
      "metadata": {
        "id": "JmHC61GxJsj_"
      },
      "execution_count": 11,
      "outputs": []
    },
    {
      "cell_type": "code",
      "source": [
        "len(result)"
      ],
      "metadata": {
        "colab": {
          "base_uri": "https://localhost:8080/"
        },
        "id": "QQ-kL1DhRTcV",
        "outputId": "da09e932-eb40-4101-e05a-736af91642a5"
      },
      "execution_count": 12,
      "outputs": [
        {
          "output_type": "execute_result",
          "data": {
            "text/plain": [
              "1000"
            ]
          },
          "metadata": {},
          "execution_count": 12
        }
      ]
    },
    {
      "cell_type": "code",
      "source": [
        "res_lst=[]\n",
        "for i in range (0,1000):\n",
        "  res_lst.append(result[i].numpy().decode())"
      ],
      "metadata": {
        "id": "k5nvBTGna3oo"
      },
      "execution_count": 13,
      "outputs": []
    },
    {
      "cell_type": "code",
      "source": [
        "with open(\"pred-test.txt\", \"w\") as file:\n",
        "    file.writelines(\"\\n\".join(res_lst))"
      ],
      "metadata": {
        "id": "kHXOxpQhaTa4"
      },
      "execution_count": 14,
      "outputs": []
    },
    {
      "cell_type": "code",
      "source": [
        "!pip install jiwer"
      ],
      "metadata": {
        "colab": {
          "base_uri": "https://localhost:8080/"
        },
        "id": "iJ9LQSWsbMTt",
        "outputId": "bf8a942c-91a1-4e78-9e11-c6a33a747542"
      },
      "execution_count": 15,
      "outputs": [
        {
          "output_type": "stream",
          "name": "stdout",
          "text": [
            "Collecting jiwer\n",
            "  Downloading jiwer-3.0.2-py3-none-any.whl (21 kB)\n",
            "Requirement already satisfied: click<9.0.0,>=8.1.3 in /usr/local/lib/python3.10/dist-packages (from jiwer) (8.1.3)\n",
            "Collecting rapidfuzz==2.13.7 (from jiwer)\n",
            "  Downloading rapidfuzz-2.13.7-cp310-cp310-manylinux_2_17_x86_64.manylinux2014_x86_64.whl (2.2 MB)\n",
            "\u001b[2K     \u001b[90m━━━━━━━━━━━━━━━━━━━━━━━━━━━━━━━━━━━━━━━━\u001b[0m \u001b[32m2.2/2.2 MB\u001b[0m \u001b[31m23.6 MB/s\u001b[0m eta \u001b[36m0:00:00\u001b[0m\n",
            "\u001b[?25hInstalling collected packages: rapidfuzz, jiwer\n",
            "Successfully installed jiwer-3.0.2 rapidfuzz-2.13.7\n"
          ]
        }
      ]
    },
    {
      "cell_type": "code",
      "source": [
        "import pandas as pd\n",
        "from jiwer import wer\n",
        "\n",
        "with open('./tgt-test.txt', 'r') as ref_file:\n",
        "    ref = ref_file.read().splitlines()\n",
        "\n",
        "with open('./pred-test.txt', 'r') as hypo_file:\n",
        "    hypo = hypo_file.read().splitlines()\n",
        "\n",
        "wer_scores = []\n",
        "for ref_str, hypo_str in zip(ref, hypo):\n",
        "    wer_score = wer(ref_str, hypo_str)\n",
        "    wer_scores.append(wer_score)\n",
        "\n",
        "average_wer = sum(wer_scores) / len(wer_scores)\n",
        "\n",
        "print(\"Average WER: \", average_wer)"
      ],
      "metadata": {
        "colab": {
          "base_uri": "https://localhost:8080/"
        },
        "id": "rvb2eQzubRnZ",
        "outputId": "8cf31fc3-590b-4b0c-b326-452eafd9d9ad"
      },
      "execution_count": 16,
      "outputs": [
        {
          "output_type": "stream",
          "name": "stdout",
          "text": [
            "Average WER:  0.0785264907382286\n"
          ]
        }
      ]
    }
  ]
}