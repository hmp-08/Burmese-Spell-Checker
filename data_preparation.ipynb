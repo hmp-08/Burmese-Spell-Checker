{
 "cells": [
  {
   "cell_type": "markdown",
   "id": "d73deb93",
   "metadata": {},
   "source": [
    "# Import dataset"
   ]
  },
  {
   "cell_type": "code",
   "execution_count": 1,
   "id": "af086083",
   "metadata": {
    "ExecuteTime": {
     "end_time": "2022-11-11T01:46:43.132361Z",
     "start_time": "2022-11-11T01:46:43.019542Z"
    }
   },
   "outputs": [
    {
     "name": "stdout",
     "output_type": "stream",
     "text": [
      "/home/user/Documents/workspace_mt/Spell_checker\r\n"
     ]
    }
   ],
   "source": [
    "!pwd"
   ]
  },
  {
   "cell_type": "code",
   "execution_count": 2,
   "id": "3f624144",
   "metadata": {},
   "outputs": [],
   "source": [
    "import pandas as pd\n",
    "\n",
    "df_aud = pd.read_csv('aud_book.txt')['sent']\n",
    "df_crawl = pd.read_csv('crawled_data.txt')['sent']\n",
    "df_ecom = pd.read_csv('ecom_LM.txt')['sent']\n",
    "df_med = pd.read_csv('med_LM.txt')['sent']\n",
    "df_mt = pd.read_csv('mt_data.txt')['sent']\n",
    "\n",
    "combined_df = pd.concat([df_aud, df_crawl, df_ecom, df_med, df_mt], ignore_index=True)\n",
    "df_all = pd.DataFrame({'sent': combined_df})\n",
    "\n",
    "output_file = './lm_corpus.csv'\n",
    "df_all.to_csv(output_file, index=False)"
   ]
  },
  {
   "cell_type": "code",
   "execution_count": 3,
   "id": "dfe79132",
   "metadata": {},
   "outputs": [
    {
     "name": "stdout",
     "output_type": "stream",
     "text": [
      "367856 lm_corpus.csv\r\n"
     ]
    }
   ],
   "source": [
    "!wc -l lm_corpus.csv"
   ]
  },
  {
   "cell_type": "code",
   "execution_count": 4,
   "id": "54fa58ce",
   "metadata": {},
   "outputs": [],
   "source": [
    "# Remove duplicates\n",
    "!sort lm_corpus.csv | uniq -u > lm_corpus_no_duplicates.csv"
   ]
  },
  {
   "cell_type": "code",
   "execution_count": 5,
   "id": "413833fb",
   "metadata": {},
   "outputs": [
    {
     "name": "stdout",
     "output_type": "stream",
     "text": [
      "314780 lm_corpus_no_duplicates.csv\r\n"
     ]
    }
   ],
   "source": [
    "!wc -l lm_corpus_no_duplicates.csv"
   ]
  },
  {
   "cell_type": "code",
   "execution_count": 6,
   "id": "aead35d8",
   "metadata": {
    "ExecuteTime": {
     "end_time": "2022-11-11T01:46:47.256489Z",
     "start_time": "2022-11-11T01:46:44.127001Z"
    }
   },
   "outputs": [
    {
     "data": {
      "text/html": [
       "<div>\n",
       "<style scoped>\n",
       "    .dataframe tbody tr th:only-of-type {\n",
       "        vertical-align: middle;\n",
       "    }\n",
       "\n",
       "    .dataframe tbody tr th {\n",
       "        vertical-align: top;\n",
       "    }\n",
       "\n",
       "    .dataframe thead th {\n",
       "        text-align: right;\n",
       "    }\n",
       "</style>\n",
       "<table border=\"1\" class=\"dataframe\">\n",
       "  <thead>\n",
       "    <tr style=\"text-align: right;\">\n",
       "      <th></th>\n",
       "      <th>sent</th>\n",
       "    </tr>\n",
       "  </thead>\n",
       "  <tbody>\n",
       "    <tr>\n",
       "      <th>0</th>\n",
       "      <td>ကံ က ဆိုး ချင် တော့ နေ စရာ အိမ် ရော သူ တို့ နှစ်ယောက် ရဲ့ ချစ်လှ စွာ သော မဟေသီ နှစ်ယောက် ပါ မ တွေ့ တော့ နှစ်ကောင် လုံး ဘုံပျောက် ပြီ ပေါ့</td>\n",
       "    </tr>\n",
       "    <tr>\n",
       "      <th>1</th>\n",
       "      <td>ကံ က ဆိုး ချင် တော့ သူရိန်မင်း က သူ့ မိန်းမ အတွယ်တာ ကလေးမွေး တဲ့ နေ့ မှာ ဆုံး သွား ပြီ တဲ့</td>\n",
       "    </tr>\n",
       "    <tr>\n",
       "      <th>2</th>\n",
       "      <td>က ကြ မယ်</td>\n",
       "    </tr>\n",
       "    <tr>\n",
       "      <th>3</th>\n",
       "      <td>က ကြ မယ် ဟေ့</td>\n",
       "    </tr>\n",
       "    <tr>\n",
       "      <th>4</th>\n",
       "      <td>ကံကြမ္မာ က ကျွန်တော် တို့ အောင်မြင် ဖို့ ကျွန်တော် တို့ ကို မျက်နှာသာ ပေး ခဲ့ တယ်</td>\n",
       "    </tr>\n",
       "    <tr>\n",
       "      <th>...</th>\n",
       "      <td>...</td>\n",
       "    </tr>\n",
       "    <tr>\n",
       "      <th>314774</th>\n",
       "      <td>ဪ ဟုတ် ပါ ရဲ့ ကျွန်တော် တွေ့ လိုက် တယ်</td>\n",
       "    </tr>\n",
       "    <tr>\n",
       "      <th>314775</th>\n",
       "      <td>ဪ အစ်မ တို့ ယူ ရ တာ က လဲ ခါတိုင်း လို မ ဟုတ် ဘူး ငါ့ ညီမ ရဲ့</td>\n",
       "    </tr>\n",
       "    <tr>\n",
       "      <th>314776</th>\n",
       "      <td>ဪ အနှောင့်အယှက် တွေ အနှောင့်အယှက် တွေ</td>\n",
       "    </tr>\n",
       "    <tr>\n",
       "      <th>314777</th>\n",
       "      <td>ဪ အရုဏ်မိုးသောက် ဆို ရင် မင်း ရဲ့ အဲဒီ အသံ ကို ကြား ရ ပြီ</td>\n",
       "    </tr>\n",
       "    <tr>\n",
       "      <th>314778</th>\n",
       "      <td>ဪ အဲ့ဒီ လို လား လို့ မစ္စတာ ဝုဖ် က ပြော တယ်</td>\n",
       "    </tr>\n",
       "  </tbody>\n",
       "</table>\n",
       "<p>314779 rows × 1 columns</p>\n",
       "</div>"
      ],
      "text/plain": [
       "                                                                                                                                             sent\n",
       "0       ကံ က ဆိုး ချင် တော့ နေ စရာ အိမ် ရော သူ တို့ နှစ်ယောက် ရဲ့ ချစ်လှ စွာ သော မဟေသီ နှစ်ယောက် ပါ မ တွေ့ တော့ နှစ်ကောင် လုံး ဘုံပျောက် ပြီ ပေါ့\n",
       "1       ကံ က ဆိုး ချင် တော့ သူရိန်မင်း က သူ့ မိန်းမ အတွယ်တာ ကလေးမွေး တဲ့ နေ့ မှာ ဆုံး သွား ပြီ တဲ့                                               \n",
       "2       က ကြ မယ်                                                                                                                                 \n",
       "3       က ကြ မယ် ဟေ့                                                                                                                             \n",
       "4       ကံကြမ္မာ က ကျွန်တော် တို့ အောင်မြင် ဖို့ ကျွန်တော် တို့ ကို မျက်နှာသာ ပေး ခဲ့ တယ်                                                        \n",
       "...                                                                                   ...                                                        \n",
       "314774  ဪ ဟုတ် ပါ ရဲ့ ကျွန်တော် တွေ့ လိုက် တယ်                                                                                                   \n",
       "314775  ဪ အစ်မ တို့ ယူ ရ တာ က လဲ ခါတိုင်း လို မ ဟုတ် ဘူး ငါ့ ညီမ ရဲ့                                                                             \n",
       "314776  ဪ အနှောင့်အယှက် တွေ အနှောင့်အယှက် တွေ                                                                                                    \n",
       "314777  ဪ အရုဏ်မိုးသောက် ဆို ရင် မင်း ရဲ့ အဲဒီ အသံ ကို ကြား ရ ပြီ                                                                                \n",
       "314778  ဪ အဲ့ဒီ လို လား လို့ မစ္စတာ ဝုဖ် က ပြော တယ်                                                                                              \n",
       "\n",
       "[314779 rows x 1 columns]"
      ]
     },
     "execution_count": 6,
     "metadata": {},
     "output_type": "execute_result"
    }
   ],
   "source": [
    "import pandas as pd\n",
    "\n",
    "pd.set_option('max.colwidth', 0)\n",
    "df = pd.read_csv(\"./lm_corpus_no_duplicates.csv\")\n",
    "df"
   ]
  },
  {
   "cell_type": "code",
   "execution_count": 7,
   "id": "5ef53f44",
   "metadata": {
    "ExecuteTime": {
     "end_time": "2022-11-11T01:46:47.350432Z",
     "start_time": "2022-11-11T01:46:47.257775Z"
    }
   },
   "outputs": [
    {
     "data": {
      "text/plain": [
       "sent    0\n",
       "dtype: int64"
      ]
     },
     "execution_count": 7,
     "metadata": {},
     "output_type": "execute_result"
    }
   ],
   "source": [
    "df.isnull().sum()"
   ]
  },
  {
   "cell_type": "code",
   "execution_count": 8,
   "id": "a144e982",
   "metadata": {
    "ExecuteTime": {
     "end_time": "2022-11-11T01:46:47.589391Z",
     "start_time": "2022-11-11T01:46:47.351539Z"
    }
   },
   "outputs": [
    {
     "data": {
      "text/plain": [
       "sent    0\n",
       "dtype: int64"
      ]
     },
     "execution_count": 8,
     "metadata": {},
     "output_type": "execute_result"
    }
   ],
   "source": [
    "df = df.dropna(subset=[\"sent\"])\n",
    "df.isnull().sum()"
   ]
  },
  {
   "cell_type": "code",
   "execution_count": 9,
   "id": "177cf685",
   "metadata": {},
   "outputs": [
    {
     "data": {
      "text/html": [
       "<div>\n",
       "<style scoped>\n",
       "    .dataframe tbody tr th:only-of-type {\n",
       "        vertical-align: middle;\n",
       "    }\n",
       "\n",
       "    .dataframe tbody tr th {\n",
       "        vertical-align: top;\n",
       "    }\n",
       "\n",
       "    .dataframe thead th {\n",
       "        text-align: right;\n",
       "    }\n",
       "</style>\n",
       "<table border=\"1\" class=\"dataframe\">\n",
       "  <thead>\n",
       "    <tr style=\"text-align: right;\">\n",
       "      <th></th>\n",
       "      <th>sent</th>\n",
       "    </tr>\n",
       "  </thead>\n",
       "  <tbody>\n",
       "    <tr>\n",
       "      <th>297</th>\n",
       "      <td>ကင်ဆာ တွင်  ကင်ဆာဆဲလ် များ က ကျန်းမာ သော ဆဲလ် များ ကို ဖယ်ထုတ် လိုက် တယ်</td>\n",
       "    </tr>\n",
       "    <tr>\n",
       "      <th>688</th>\n",
       "      <td>ကစီဓာတ် များ တဲ့ ထမင်း  ပေါင်မုန့်  အာလူး နှင့် သကြား ဖြတ် ပါ</td>\n",
       "    </tr>\n",
       "    <tr>\n",
       "      <th>1531</th>\n",
       "      <td>ကမ္ဘာ့စကွပ် ချန်ပီယံ  ဆိုဖီယာခန် က အားကစား လောက မှ သူမ ရဲ့ အနားယူမှု ကို ကြေငြာ ခဲ့ သည်</td>\n",
       "    </tr>\n",
       "    <tr>\n",
       "      <th>2456</th>\n",
       "      <td>ကျန် ခဲ့ တဲ့ နောက်ဆက်တွဲ က စိတ်ဖိစီး လာ ရင် အသက်ရှု မ  နှလုံးခုန် မြန် တာ ပါ</td>\n",
       "    </tr>\n",
       "    <tr>\n",
       "      <th>2806</th>\n",
       "      <td>ကျန်းမာရေး ကောင်း သူ ဆို တစ်ရာ့ လေးဆယ်  အောက် မှာ ရှိ ရ ပါ မယ်</td>\n",
       "    </tr>\n",
       "    <tr>\n",
       "      <th>...</th>\n",
       "      <td>...</td>\n",
       "    </tr>\n",
       "    <tr>\n",
       "      <th>313749</th>\n",
       "      <td>ဥရောပနိုင်ငံ အချို့  က တော့ ရေနံ တင်သွင်းမှု ပိတ်ပင် ထား တာ ကြောင့် အခက်ကြုံ ရ နိုင် ပါ တယ်</td>\n",
       "    </tr>\n",
       "    <tr>\n",
       "      <th>313783</th>\n",
       "      <td>ဥရောပ သမဂ္ဂ အတွက် သဘာဝ ဓာတ်ငွေ့  လေးဆယ် ရာခိုင်နှုန်း ကို ရုရှား က မနှစ် က တင်ပို့ ခဲ့ ပါ တယ်</td>\n",
       "    </tr>\n",
       "    <tr>\n",
       "      <th>313796</th>\n",
       "      <td>ဥရောပ အပြောင်းအရွှေ့  ဈေးကွက် ပိတ် ဖို့ ရက် သိပ် မ ကျန် တော့ တဲ့ အချိန် နာမည်ကျော် ကစားသမား တွေ ရဲ့ အပြောင်းအရွှေ့  တွေ လည်း ဖြစ် လာ နိုင် ဖို့ ရှိ နေ ဆဲ ပါ</td>\n",
       "    </tr>\n",
       "    <tr>\n",
       "      <th>313797</th>\n",
       "      <td>ဥရောပ အပြောင်းအရွှေ့  ဈေးကွက် မှာ လူ စိတ်ဝင်စားမှု အများဆုံး ကစားသမား ဖြစ် ပြီး ပီအက်စ်ဂျီ က နေ ထွက် ဖို့ ကြိုးစား နေ သူ ပါ</td>\n",
       "    </tr>\n",
       "    <tr>\n",
       "      <th>314549</th>\n",
       "      <td>ဧပြီလ နှစ်ဆယ့် တစ် ရက်နေ့ တုန်း က အဲဒီ ခုနစ် နှစ် အရွယ် ကလေး ငယ် ဟာ သူ့  ဦးလေး တစ် ယောက် ရဲ့ အစောင့်အရှောက် နဲ့ အတူ ဂျုဒို သင်တန်း တက် ခဲ့ ပါ တယ်</td>\n",
       "    </tr>\n",
       "  </tbody>\n",
       "</table>\n",
       "<p>3487 rows × 1 columns</p>\n",
       "</div>"
      ],
      "text/plain": [
       "                                                                                                                                                                sent\n",
       "297     ကင်ဆာ တွင်  ကင်ဆာဆဲလ် များ က ကျန်းမာ သော ဆဲလ် များ ကို ဖယ်ထုတ် လိုက် တယ်                                                                                    \n",
       "688     ကစီဓာတ် များ တဲ့ ထမင်း  ပေါင်မုန့်  အာလူး နှင့် သကြား ဖြတ် ပါ                                                                                               \n",
       "1531    ကမ္ဘာ့စကွပ် ချန်ပီယံ  ဆိုဖီယာခန် က အားကစား လောက မှ သူမ ရဲ့ အနားယူမှု ကို ကြေငြာ ခဲ့ သည်                                                                     \n",
       "2456    ကျန် ခဲ့ တဲ့ နောက်ဆက်တွဲ က စိတ်ဖိစီး လာ ရင် အသက်ရှု မ  နှလုံးခုန် မြန် တာ ပါ                                                                                \n",
       "2806    ကျန်းမာရေး ကောင်း သူ ဆို တစ်ရာ့ လေးဆယ်  အောက် မှာ ရှိ ရ ပါ မယ်                                                                                              \n",
       "...                                                                ...                                                                                              \n",
       "313749  ဥရောပနိုင်ငံ အချို့  က တော့ ရေနံ တင်သွင်းမှု ပိတ်ပင် ထား တာ ကြောင့် အခက်ကြုံ ရ နိုင် ပါ တယ်                                                                 \n",
       "313783  ဥရောပ သမဂ္ဂ အတွက် သဘာဝ ဓာတ်ငွေ့  လေးဆယ် ရာခိုင်နှုန်း ကို ရုရှား က မနှစ် က တင်ပို့ ခဲ့ ပါ တယ်                                                               \n",
       "313796  ဥရောပ အပြောင်းအရွှေ့  ဈေးကွက် ပိတ် ဖို့ ရက် သိပ် မ ကျန် တော့ တဲ့ အချိန် နာမည်ကျော် ကစားသမား တွေ ရဲ့ အပြောင်းအရွှေ့  တွေ လည်း ဖြစ် လာ နိုင် ဖို့ ရှိ နေ ဆဲ ပါ\n",
       "313797  ဥရောပ အပြောင်းအရွှေ့  ဈေးကွက် မှာ လူ စိတ်ဝင်စားမှု အများဆုံး ကစားသမား ဖြစ် ပြီး ပီအက်စ်ဂျီ က နေ ထွက် ဖို့ ကြိုးစား နေ သူ ပါ                                 \n",
       "314549  ဧပြီလ နှစ်ဆယ့် တစ် ရက်နေ့ တုန်း က အဲဒီ ခုနစ် နှစ် အရွယ် ကလေး ငယ် ဟာ သူ့  ဦးလေး တစ် ယောက် ရဲ့ အစောင့်အရှောက် နဲ့ အတူ ဂျုဒို သင်တန်း တက် ခဲ့ ပါ တယ်           \n",
       "\n",
       "[3487 rows x 1 columns]"
      ]
     },
     "execution_count": 9,
     "metadata": {},
     "output_type": "execute_result"
    }
   ],
   "source": [
    "# check mulitple spaces\n",
    "pattern = r'\\s{2}'\n",
    "df[df['sent'].str.contains(pattern)]"
   ]
  },
  {
   "cell_type": "code",
   "execution_count": 10,
   "id": "5b33964d",
   "metadata": {},
   "outputs": [
    {
     "data": {
      "text/html": [
       "<div>\n",
       "<style scoped>\n",
       "    .dataframe tbody tr th:only-of-type {\n",
       "        vertical-align: middle;\n",
       "    }\n",
       "\n",
       "    .dataframe tbody tr th {\n",
       "        vertical-align: top;\n",
       "    }\n",
       "\n",
       "    .dataframe thead th {\n",
       "        text-align: right;\n",
       "    }\n",
       "</style>\n",
       "<table border=\"1\" class=\"dataframe\">\n",
       "  <thead>\n",
       "    <tr style=\"text-align: right;\">\n",
       "      <th></th>\n",
       "      <th>sent</th>\n",
       "    </tr>\n",
       "  </thead>\n",
       "  <tbody>\n",
       "  </tbody>\n",
       "</table>\n",
       "</div>"
      ],
      "text/plain": [
       "Empty DataFrame\n",
       "Columns: [sent]\n",
       "Index: []"
      ]
     },
     "execution_count": 10,
     "metadata": {},
     "output_type": "execute_result"
    }
   ],
   "source": [
    "# fix and recheck\n",
    "df['sent'] = df['sent'].str.replace(r'\\s+', ' ', regex=True)\n",
    "pattern = r'\\s{2}'\n",
    "df[df['sent'].str.contains(pattern)]"
   ]
  },
  {
   "cell_type": "markdown",
   "id": "c8ae7f61",
   "metadata": {},
   "source": [
    "# Data Preparation"
   ]
  },
  {
   "cell_type": "markdown",
   "id": "8903f06c",
   "metadata": {},
   "source": [
    "## Syllable break"
   ]
  },
  {
   "cell_type": "code",
   "execution_count": 11,
   "id": "0e4fd24e",
   "metadata": {
    "ExecuteTime": {
     "end_time": "2022-11-11T02:05:41.237588Z",
     "start_time": "2022-11-11T02:05:41.235311Z"
    }
   },
   "outputs": [],
   "source": [
    "import syllable_break\n",
    "sb_obj = syllable_break.syllable_break()"
   ]
  },
  {
   "cell_type": "code",
   "execution_count": 12,
   "id": "86a03670",
   "metadata": {
    "ExecuteTime": {
     "end_time": "2022-11-11T02:05:47.327272Z",
     "start_time": "2022-11-11T02:05:46.396889Z"
    }
   },
   "outputs": [],
   "source": [
    "df['syllable'] = df['sent'].apply(lambda x: sb_obj.sylseg(x)).copy()"
   ]
  },
  {
   "cell_type": "code",
   "execution_count": 13,
   "id": "495189ca",
   "metadata": {
    "scrolled": true
   },
   "outputs": [
    {
     "data": {
      "text/html": [
       "<div>\n",
       "<style scoped>\n",
       "    .dataframe tbody tr th:only-of-type {\n",
       "        vertical-align: middle;\n",
       "    }\n",
       "\n",
       "    .dataframe tbody tr th {\n",
       "        vertical-align: top;\n",
       "    }\n",
       "\n",
       "    .dataframe thead th {\n",
       "        text-align: right;\n",
       "    }\n",
       "</style>\n",
       "<table border=\"1\" class=\"dataframe\">\n",
       "  <thead>\n",
       "    <tr style=\"text-align: right;\">\n",
       "      <th></th>\n",
       "      <th>sent</th>\n",
       "      <th>syllable</th>\n",
       "    </tr>\n",
       "  </thead>\n",
       "  <tbody>\n",
       "  </tbody>\n",
       "</table>\n",
       "</div>"
      ],
      "text/plain": [
       "Empty DataFrame\n",
       "Columns: [sent, syllable]\n",
       "Index: []"
      ]
     },
     "execution_count": 13,
     "metadata": {},
     "output_type": "execute_result"
    }
   ],
   "source": [
    "# check mulitple spaces\n",
    "pattern = r'\\s{2}'\n",
    "df[df['sent'].str.contains(pattern)]"
   ]
  },
  {
   "cell_type": "code",
   "execution_count": 14,
   "id": "9d1a567d",
   "metadata": {},
   "outputs": [
    {
     "data": {
      "text/html": [
       "<div>\n",
       "<style scoped>\n",
       "    .dataframe tbody tr th:only-of-type {\n",
       "        vertical-align: middle;\n",
       "    }\n",
       "\n",
       "    .dataframe tbody tr th {\n",
       "        vertical-align: top;\n",
       "    }\n",
       "\n",
       "    .dataframe thead th {\n",
       "        text-align: right;\n",
       "    }\n",
       "</style>\n",
       "<table border=\"1\" class=\"dataframe\">\n",
       "  <thead>\n",
       "    <tr style=\"text-align: right;\">\n",
       "      <th></th>\n",
       "      <th>sent</th>\n",
       "      <th>syllable</th>\n",
       "    </tr>\n",
       "  </thead>\n",
       "  <tbody>\n",
       "    <tr>\n",
       "      <th>0</th>\n",
       "      <td>ကံ က ဆိုး ချင် တော့ နေ စရာ အိမ် ရော သူ တို့ နှစ်ယောက် ရဲ့ ချစ်လှ စွာ သော မဟေသီ နှစ်ယောက် ပါ မ တွေ့ တော့ နှစ်ကောင် လုံး ဘုံပျောက် ပြီ ပေါ့</td>\n",
       "      <td>ကံ က ဆိုး ချင် တော့ နေ စ ရာ အိမ် ရော သူ တို့ နှစ် ယောက် ရဲ့ ချစ် လှ စွာ သော မ ဟေ သီ နှစ် ယောက် ပါ မ တွေ့ တော့ နှစ် ကောင် လုံး ဘုံ ပျောက် ပြီ ပေါ့</td>\n",
       "    </tr>\n",
       "    <tr>\n",
       "      <th>1</th>\n",
       "      <td>ကံ က ဆိုး ချင် တော့ သူရိန်မင်း က သူ့ မိန်းမ အတွယ်တာ ကလေးမွေး တဲ့ နေ့ မှာ ဆုံး သွား ပြီ တဲ့</td>\n",
       "      <td>ကံ က ဆိုး ချင် တော့ သူ ရိန် မင်း က သူ့ မိန်း မ အ တွယ် တာ က လေး မွေး တဲ့ နေ့ မှာ ဆုံး သွား ပြီ တဲ့</td>\n",
       "    </tr>\n",
       "    <tr>\n",
       "      <th>2</th>\n",
       "      <td>က ကြ မယ်</td>\n",
       "      <td>က ကြ မယ်</td>\n",
       "    </tr>\n",
       "    <tr>\n",
       "      <th>3</th>\n",
       "      <td>က ကြ မယ် ဟေ့</td>\n",
       "      <td>က ကြ မယ် ဟေ့</td>\n",
       "    </tr>\n",
       "    <tr>\n",
       "      <th>4</th>\n",
       "      <td>ကံကြမ္မာ က ကျွန်တော် တို့ အောင်မြင် ဖို့ ကျွန်တော် တို့ ကို မျက်နှာသာ ပေး ခဲ့ တယ်</td>\n",
       "      <td>ကံ ကြမ္မာ က ကျွန် တော် တို့ အောင် မြင် ဖို့ ကျွန် တော် တို့ ကို မျက် နှာ သာ ပေး ခဲ့ တယ်</td>\n",
       "    </tr>\n",
       "  </tbody>\n",
       "</table>\n",
       "</div>"
      ],
      "text/plain": [
       "                                                                                                                                        sent  \\\n",
       "0  ကံ က ဆိုး ချင် တော့ နေ စရာ အိမ် ရော သူ တို့ နှစ်ယောက် ရဲ့ ချစ်လှ စွာ သော မဟေသီ နှစ်ယောက် ပါ မ တွေ့ တော့ နှစ်ကောင် လုံး ဘုံပျောက် ပြီ ပေါ့   \n",
       "1  ကံ က ဆိုး ချင် တော့ သူရိန်မင်း က သူ့ မိန်းမ အတွယ်တာ ကလေးမွေး တဲ့ နေ့ မှာ ဆုံး သွား ပြီ တဲ့                                                  \n",
       "2  က ကြ မယ်                                                                                                                                    \n",
       "3  က ကြ မယ် ဟေ့                                                                                                                                \n",
       "4  ကံကြမ္မာ က ကျွန်တော် တို့ အောင်မြင် ဖို့ ကျွန်တော် တို့ ကို မျက်နှာသာ ပေး ခဲ့ တယ်                                                           \n",
       "\n",
       "                                                                                                                                            syllable  \n",
       "0  ကံ က ဆိုး ချင် တော့ နေ စ ရာ အိမ် ရော သူ တို့ နှစ် ယောက် ရဲ့ ချစ် လှ စွာ သော မ ဟေ သီ နှစ် ယောက် ပါ မ တွေ့ တော့ နှစ် ကောင် လုံး ဘုံ ပျောက် ပြီ ပေါ့  \n",
       "1  ကံ က ဆိုး ချင် တော့ သူ ရိန် မင်း က သူ့ မိန်း မ အ တွယ် တာ က လေး မွေး တဲ့ နေ့ မှာ ဆုံး သွား ပြီ တဲ့                                                  \n",
       "2  က ကြ မယ်                                                                                                                                           \n",
       "3  က ကြ မယ် ဟေ့                                                                                                                                       \n",
       "4  ကံ ကြမ္မာ က ကျွန် တော် တို့ အောင် မြင် ဖို့ ကျွန် တော် တို့ ကို မျက် နှာ သာ ပေး ခဲ့ တယ်                                                            "
      ]
     },
     "execution_count": 14,
     "metadata": {},
     "output_type": "execute_result"
    }
   ],
   "source": [
    "df.head()"
   ]
  },
  {
   "cell_type": "code",
   "execution_count": 15,
   "id": "c094e70e",
   "metadata": {},
   "outputs": [],
   "source": [
    "# Filter by sentence length (syllable)\n",
    "def word_length(text):\n",
    "    return len(text.split(\" \"))\n",
    "\n",
    "df[\"syl_len\"] = df['syllable'].apply(word_length)"
   ]
  },
  {
   "cell_type": "code",
   "execution_count": 16,
   "id": "64996ff7",
   "metadata": {},
   "outputs": [
    {
     "data": {
      "text/html": [
       "<div>\n",
       "<style scoped>\n",
       "    .dataframe tbody tr th:only-of-type {\n",
       "        vertical-align: middle;\n",
       "    }\n",
       "\n",
       "    .dataframe tbody tr th {\n",
       "        vertical-align: top;\n",
       "    }\n",
       "\n",
       "    .dataframe thead th {\n",
       "        text-align: right;\n",
       "    }\n",
       "</style>\n",
       "<table border=\"1\" class=\"dataframe\">\n",
       "  <thead>\n",
       "    <tr style=\"text-align: right;\">\n",
       "      <th></th>\n",
       "      <th>sent</th>\n",
       "      <th>syllable</th>\n",
       "      <th>syl_len</th>\n",
       "    </tr>\n",
       "  </thead>\n",
       "  <tbody>\n",
       "    <tr>\n",
       "      <th>264054</th>\n",
       "      <td>ဟောသည် မှာ ပိုက်ဆံ ပါ</td>\n",
       "      <td>ဟော သည် မှာ ပိုက် ဆံ ပါ</td>\n",
       "      <td>6</td>\n",
       "    </tr>\n",
       "    <tr>\n",
       "      <th>199523</th>\n",
       "      <td>ရှင့် ကြည့် ရ တာ စိတ်ပျက် နေ သလို ပဲ</td>\n",
       "      <td>ရှင့် ကြည့် ရ တာ စိတ် ပျက် နေ သ လို ပဲ</td>\n",
       "      <td>10</td>\n",
       "    </tr>\n",
       "    <tr>\n",
       "      <th>188721</th>\n",
       "      <td>မ ဟုတ် ဘူး ကျွန်တော် အခု ပဲ ကြက်သွန်နီ တစ်ချို့ ခွာ တာ ပြီး သွား ခဲ့ တယ်</td>\n",
       "      <td>မ ဟုတ် ဘူး ကျွန် တော် အ ခု ပဲ ကြက် သွန် နီ တစ် ချို့ ခွာ တာ ပြီး သွား ခဲ့ တယ်</td>\n",
       "      <td>19</td>\n",
       "    </tr>\n",
       "    <tr>\n",
       "      <th>87437</th>\n",
       "      <td>တကယ် လို့ မ သွား ချင် ရင် လျော်ကြေး ကျပ် ဆယ့် ငါးသိန်း ကနေ သိန်း ခြောက်ဆယ် အထိ ပေး ဖို့ ဆို ပြီး ပွဲစား က တောင်း ပါ တယ်</td>\n",
       "      <td>တ ကယ် လို့ မ သွား ချင် ရင် လျော် ကြေး ကျပ် ဆယ့် ငါး သိန်း က နေ သိန်း ခြောက် ဆယ် အ ထိ ပေး ဖို့ ဆို ပြီး ပွဲ စား က တောင်း ပါ တယ်</td>\n",
       "      <td>30</td>\n",
       "    </tr>\n",
       "    <tr>\n",
       "      <th>238223</th>\n",
       "      <td>သူ တို့ နယူးယောက် ကို ချက်ချင်း ထွက်ခွာ ရ မယ်</td>\n",
       "      <td>သူ တို့ န ယူး ယောက် ကို ချက် ချင်း ထွက် ခွာ ရ မယ်</td>\n",
       "      <td>12</td>\n",
       "    </tr>\n",
       "    <tr>\n",
       "      <th>6371</th>\n",
       "      <td>ကျွန်တော် ဆူးဆီ ကို ဖုန်းဆက် ခဲ့ တဲ့ အချိန် မှာ သူမ က အပြင်ထွက် သွား ခဲ့ ပြီ</td>\n",
       "      <td>ကျွန် တော် ဆူး ဆီ ကို ဖုန်း ဆက် ခဲ့ တဲ့ အ ချိန် မှာ သူ မ က အ ပြင် ထွက် သွား ခဲ့ ပြီ</td>\n",
       "      <td>21</td>\n",
       "    </tr>\n",
       "    <tr>\n",
       "      <th>125049</th>\n",
       "      <td>ဒီလို နဲ့ နောက်ဆုံး မှာ သူ သူ့ ဦးထုပ် အားလုံး ကို ပြန် ရ ခဲ့ တယ်</td>\n",
       "      <td>ဒီ လို နဲ့ နောက် ဆုံး မှာ သူ သူ့ ဦး ထုပ် အား လုံး ကို ပြန် ရ ခဲ့ တယ်</td>\n",
       "      <td>17</td>\n",
       "    </tr>\n",
       "    <tr>\n",
       "      <th>279702</th>\n",
       "      <td>အပျင်းတစ် ပြီး တော့ နှပ် မ နေ တတ် တော့ ဘူး</td>\n",
       "      <td>အ ပျင်း တစ် ပြီး တော့ နှပ် မ နေ တတ် တော့ ဘူး</td>\n",
       "      <td>11</td>\n",
       "    </tr>\n",
       "    <tr>\n",
       "      <th>136009</th>\n",
       "      <td>နိုင်ငံခြား မှာ ဘယ်လောက် ကြာကြာ နေ မှာ လဲ</td>\n",
       "      <td>နိုင် ငံ ခြား မှာ ဘယ် လောက် ကြာ ကြာ နေ မှာ လဲ</td>\n",
       "      <td>11</td>\n",
       "    </tr>\n",
       "    <tr>\n",
       "      <th>53440</th>\n",
       "      <td>ဂန်းနားစ် တို့ အား လွန် ခဲ့ သော ရာသီ က ယုံကြည် လောက် သော စိန်ခေါ်မှု တစ်ခု ကို ပြုလုပ် ရန် ထပ်မံ ဆုံးရှုံး ခဲ့ ပြီး နောက် ဗန်ပါစီ သည် ငြီးငွေ့ဖွယ်ရာ ပြသမှု ပြုလုပ် ခဲ့ သည်</td>\n",
       "      <td>ဂန်း နားစ် တို့ အား လွန် ခဲ့ သော ရာ သီ က ယုံ ကြည် လောက် သော စိန် ခေါ် မှု တစ် ခု ကို ပြု လုပ် ရန် ထပ် မံ ဆုံး ရှုံး ခဲ့ ပြီး နောက် ဗန် ပါ စီ သည် ငြီး ငွေ့ ဖွယ် ရာ ပြ သ မှု ပြု လုပ် ခဲ့ သည်</td>\n",
       "      <td>45</td>\n",
       "    </tr>\n",
       "  </tbody>\n",
       "</table>\n",
       "</div>"
      ],
      "text/plain": [
       "                                                                                                                                                                               sent  \\\n",
       "264054  ဟောသည် မှာ ပိုက်ဆံ ပါ                                                                                                                                                         \n",
       "199523  ရှင့် ကြည့် ရ တာ စိတ်ပျက် နေ သလို ပဲ                                                                                                                                          \n",
       "188721  မ ဟုတ် ဘူး ကျွန်တော် အခု ပဲ ကြက်သွန်နီ တစ်ချို့ ခွာ တာ ပြီး သွား ခဲ့ တယ်                                                                                                      \n",
       "87437   တကယ် လို့ မ သွား ချင် ရင် လျော်ကြေး ကျပ် ဆယ့် ငါးသိန်း ကနေ သိန်း ခြောက်ဆယ် အထိ ပေး ဖို့ ဆို ပြီး ပွဲစား က တောင်း ပါ တယ်                                                       \n",
       "238223  သူ တို့ နယူးယောက် ကို ချက်ချင်း ထွက်ခွာ ရ မယ်                                                                                                                                 \n",
       "6371    ကျွန်တော် ဆူးဆီ ကို ဖုန်းဆက် ခဲ့ တဲ့ အချိန် မှာ သူမ က အပြင်ထွက် သွား ခဲ့ ပြီ                                                                                                  \n",
       "125049  ဒီလို နဲ့ နောက်ဆုံး မှာ သူ သူ့ ဦးထုပ် အားလုံး ကို ပြန် ရ ခဲ့ တယ်                                                                                                              \n",
       "279702  အပျင်းတစ် ပြီး တော့ နှပ် မ နေ တတ် တော့ ဘူး                                                                                                                                    \n",
       "136009  နိုင်ငံခြား မှာ ဘယ်လောက် ကြာကြာ နေ မှာ လဲ                                                                                                                                     \n",
       "53440   ဂန်းနားစ် တို့ အား လွန် ခဲ့ သော ရာသီ က ယုံကြည် လောက် သော စိန်ခေါ်မှု တစ်ခု ကို ပြုလုပ် ရန် ထပ်မံ ဆုံးရှုံး ခဲ့ ပြီး နောက် ဗန်ပါစီ သည် ငြီးငွေ့ဖွယ်ရာ ပြသမှု ပြုလုပ် ခဲ့ သည်   \n",
       "\n",
       "                                                                                                                                                                                            syllable  \\\n",
       "264054  ဟော သည် မှာ ပိုက် ဆံ ပါ                                                                                                                                                                        \n",
       "199523  ရှင့် ကြည့် ရ တာ စိတ် ပျက် နေ သ လို ပဲ                                                                                                                                                         \n",
       "188721  မ ဟုတ် ဘူး ကျွန် တော် အ ခု ပဲ ကြက် သွန် နီ တစ် ချို့ ခွာ တာ ပြီး သွား ခဲ့ တယ်                                                                                                                  \n",
       "87437   တ ကယ် လို့ မ သွား ချင် ရင် လျော် ကြေး ကျပ် ဆယ့် ငါး သိန်း က နေ သိန်း ခြောက် ဆယ် အ ထိ ပေး ဖို့ ဆို ပြီး ပွဲ စား က တောင်း ပါ တယ်                                                                 \n",
       "238223  သူ တို့ န ယူး ယောက် ကို ချက် ချင်း ထွက် ခွာ ရ မယ်                                                                                                                                              \n",
       "6371    ကျွန် တော် ဆူး ဆီ ကို ဖုန်း ဆက် ခဲ့ တဲ့ အ ချိန် မှာ သူ မ က အ ပြင် ထွက် သွား ခဲ့ ပြီ                                                                                                            \n",
       "125049  ဒီ လို နဲ့ နောက် ဆုံး မှာ သူ သူ့ ဦး ထုပ် အား လုံး ကို ပြန် ရ ခဲ့ တယ်                                                                                                                           \n",
       "279702  အ ပျင်း တစ် ပြီး တော့ နှပ် မ နေ တတ် တော့ ဘူး                                                                                                                                                   \n",
       "136009  နိုင် ငံ ခြား မှာ ဘယ် လောက် ကြာ ကြာ နေ မှာ လဲ                                                                                                                                                  \n",
       "53440   ဂန်း နားစ် တို့ အား လွန် ခဲ့ သော ရာ သီ က ယုံ ကြည် လောက် သော စိန် ခေါ် မှု တစ် ခု ကို ပြု လုပ် ရန် ထပ် မံ ဆုံး ရှုံး ခဲ့ ပြီး နောက် ဗန် ပါ စီ သည် ငြီး ငွေ့ ဖွယ် ရာ ပြ သ မှု ပြု လုပ် ခဲ့ သည်   \n",
       "\n",
       "        syl_len  \n",
       "264054  6        \n",
       "199523  10       \n",
       "188721  19       \n",
       "87437   30       \n",
       "238223  12       \n",
       "6371    21       \n",
       "125049  17       \n",
       "279702  11       \n",
       "136009  11       \n",
       "53440   45       "
      ]
     },
     "execution_count": 16,
     "metadata": {},
     "output_type": "execute_result"
    }
   ],
   "source": [
    "df.sample(10)"
   ]
  },
  {
   "cell_type": "code",
   "execution_count": 17,
   "id": "ace7f8af",
   "metadata": {},
   "outputs": [
    {
     "data": {
      "text/html": [
       "<div>\n",
       "<style scoped>\n",
       "    .dataframe tbody tr th:only-of-type {\n",
       "        vertical-align: middle;\n",
       "    }\n",
       "\n",
       "    .dataframe tbody tr th {\n",
       "        vertical-align: top;\n",
       "    }\n",
       "\n",
       "    .dataframe thead th {\n",
       "        text-align: right;\n",
       "    }\n",
       "</style>\n",
       "<table border=\"1\" class=\"dataframe\">\n",
       "  <thead>\n",
       "    <tr style=\"text-align: right;\">\n",
       "      <th></th>\n",
       "      <th>sent</th>\n",
       "      <th>syllable</th>\n",
       "      <th>syl_len</th>\n",
       "    </tr>\n",
       "  </thead>\n",
       "  <tbody>\n",
       "    <tr>\n",
       "      <th>2</th>\n",
       "      <td>က ကြ မယ်</td>\n",
       "      <td>က ကြ မယ်</td>\n",
       "      <td>3</td>\n",
       "    </tr>\n",
       "    <tr>\n",
       "      <th>3</th>\n",
       "      <td>က ကြ မယ် ဟေ့</td>\n",
       "      <td>က ကြ မယ် ဟေ့</td>\n",
       "      <td>4</td>\n",
       "    </tr>\n",
       "    <tr>\n",
       "      <th>27</th>\n",
       "      <td>ကံ ကို မ ယုံ လေ နဲ့</td>\n",
       "      <td>ကံ ကို မ ယုံ လေ နဲ့</td>\n",
       "      <td>6</td>\n",
       "    </tr>\n",
       "    <tr>\n",
       "      <th>63</th>\n",
       "      <td>ကံကောင်း တာ လား</td>\n",
       "      <td>ကံ ကောင်း တာ လား</td>\n",
       "      <td>4</td>\n",
       "    </tr>\n",
       "    <tr>\n",
       "      <th>81</th>\n",
       "      <td>ကံကောင်း ပါ စေ</td>\n",
       "      <td>ကံ ကောင်း ပါ စေ</td>\n",
       "      <td>4</td>\n",
       "    </tr>\n",
       "    <tr>\n",
       "      <th>...</th>\n",
       "      <td>...</td>\n",
       "      <td>...</td>\n",
       "      <td>...</td>\n",
       "    </tr>\n",
       "    <tr>\n",
       "      <th>314437</th>\n",
       "      <td>ဧည့်ကြို ဆိုတာ ဘာ လဲ</td>\n",
       "      <td>ဧည့် ကြို ဆို တာ ဘာ လဲ</td>\n",
       "      <td>6</td>\n",
       "    </tr>\n",
       "    <tr>\n",
       "      <th>314456</th>\n",
       "      <td>ဧည့်ခန်း ထဲ ကို ကြွ ပါ</td>\n",
       "      <td>ဧည့် ခန်း ထဲ ကို ကြွ ပါ</td>\n",
       "      <td>6</td>\n",
       "    </tr>\n",
       "    <tr>\n",
       "      <th>314533</th>\n",
       "      <td>ဧပြီ ထိ ပါ နော်</td>\n",
       "      <td>ဧ ပြီ ထိ ပါ နော်</td>\n",
       "      <td>5</td>\n",
       "    </tr>\n",
       "    <tr>\n",
       "      <th>314755</th>\n",
       "      <td>ဪ ခက် လှ ပါ ပြီ</td>\n",
       "      <td>ဪ ခက် လှ ပါ ပြီ</td>\n",
       "      <td>5</td>\n",
       "    </tr>\n",
       "    <tr>\n",
       "      <th>314770</th>\n",
       "      <td>ဪ သိ ပြီ သိ ပြီ</td>\n",
       "      <td>ဪ သိ ပြီ သိ ပြီ</td>\n",
       "      <td>5</td>\n",
       "    </tr>\n",
       "  </tbody>\n",
       "</table>\n",
       "<p>11981 rows × 3 columns</p>\n",
       "</div>"
      ],
      "text/plain": [
       "                          sent                 syllable  syl_len\n",
       "2       က ကြ မယ်                က ကြ မယ်                 3      \n",
       "3       က ကြ မယ် ဟေ့            က ကြ မယ် ဟေ့             4      \n",
       "27      ကံ ကို မ ယုံ လေ နဲ့     ကံ ကို မ ယုံ လေ နဲ့      6      \n",
       "63      ကံကောင်း တာ လား         ကံ ကောင်း တာ လား         4      \n",
       "81      ကံကောင်း ပါ စေ          ကံ ကောင်း ပါ စေ          4      \n",
       "...                ...                      ...         ..      \n",
       "314437  ဧည့်ကြို ဆိုတာ ဘာ လဲ    ဧည့် ကြို ဆို တာ ဘာ လဲ   6      \n",
       "314456  ဧည့်ခန်း ထဲ ကို ကြွ ပါ  ဧည့် ခန်း ထဲ ကို ကြွ ပါ  6      \n",
       "314533  ဧပြီ ထိ ပါ နော်         ဧ ပြီ ထိ ပါ နော်         5      \n",
       "314755  ဪ ခက် လှ ပါ ပြီ         ဪ ခက် လှ ပါ ပြီ          5      \n",
       "314770  ဪ သိ ပြီ သိ ပြီ         ဪ သိ ပြီ သိ ပြီ          5      \n",
       "\n",
       "[11981 rows x 3 columns]"
      ]
     },
     "execution_count": 17,
     "metadata": {},
     "output_type": "execute_result"
    }
   ],
   "source": [
    "df_short = df[df['syl_len'] < 7]\n",
    "df_short"
   ]
  },
  {
   "cell_type": "code",
   "execution_count": 18,
   "id": "34a1ee31",
   "metadata": {},
   "outputs": [
    {
     "data": {
      "text/html": [
       "<div>\n",
       "<style scoped>\n",
       "    .dataframe tbody tr th:only-of-type {\n",
       "        vertical-align: middle;\n",
       "    }\n",
       "\n",
       "    .dataframe tbody tr th {\n",
       "        vertical-align: top;\n",
       "    }\n",
       "\n",
       "    .dataframe thead th {\n",
       "        text-align: right;\n",
       "    }\n",
       "</style>\n",
       "<table border=\"1\" class=\"dataframe\">\n",
       "  <thead>\n",
       "    <tr style=\"text-align: right;\">\n",
       "      <th></th>\n",
       "      <th>sent</th>\n",
       "      <th>syllable</th>\n",
       "      <th>syl_len</th>\n",
       "    </tr>\n",
       "  </thead>\n",
       "  <tbody>\n",
       "    <tr>\n",
       "      <th>9</th>\n",
       "      <td>ကံကြမ္မာ ကို ယုံကြည် ပါ တယ်</td>\n",
       "      <td>ကံ ကြမ္မာ ကို ယုံ ကြည် ပါ တယ်</td>\n",
       "      <td>7</td>\n",
       "    </tr>\n",
       "    <tr>\n",
       "      <th>10</th>\n",
       "      <td>ကံကြမ္မာ ကို အပြစ်တင် တယ်</td>\n",
       "      <td>ကံ ကြမ္မာ ကို အ ပြစ် တင် တယ်</td>\n",
       "      <td>7</td>\n",
       "    </tr>\n",
       "    <tr>\n",
       "      <th>16</th>\n",
       "      <td>ကကြီးခခွေး လို လွယ် တယ်</td>\n",
       "      <td>က ကြီး ခ ခွေး လို လွယ် တယ်</td>\n",
       "      <td>7</td>\n",
       "    </tr>\n",
       "    <tr>\n",
       "      <th>65</th>\n",
       "      <td>ကံကောင်း တဲ့ နှစ် ဖြစ် ပါစေ</td>\n",
       "      <td>ကံ ကောင်း တဲ့ နှစ် ဖြစ် ပါ စေ</td>\n",
       "      <td>7</td>\n",
       "    </tr>\n",
       "    <tr>\n",
       "      <th>98</th>\n",
       "      <td>ကံကောင်း လိုက် တဲ့ အချက် ပဲ</td>\n",
       "      <td>ကံ ကောင်း လိုက် တဲ့ အ ချက် ပဲ</td>\n",
       "      <td>7</td>\n",
       "    </tr>\n",
       "    <tr>\n",
       "      <th>...</th>\n",
       "      <td>...</td>\n",
       "      <td>...</td>\n",
       "      <td>...</td>\n",
       "    </tr>\n",
       "    <tr>\n",
       "      <th>314377</th>\n",
       "      <td>ဦးလေး မိုက်ကယ် ကြည့် ပါ ဦး</td>\n",
       "      <td>ဦး လေး မိုက် ကယ် ကြည့် ပါ ဦး</td>\n",
       "      <td>7</td>\n",
       "    </tr>\n",
       "    <tr>\n",
       "      <th>314414</th>\n",
       "      <td>ဦးအေး မန္တလေး ကို သွား တယ်</td>\n",
       "      <td>ဦး အေး မန္တ လေး ကို သွား တယ်</td>\n",
       "      <td>7</td>\n",
       "    </tr>\n",
       "    <tr>\n",
       "      <th>314446</th>\n",
       "      <td>ဧည့်ခန်း က ကော ဘယ်လို လဲ</td>\n",
       "      <td>ဧည့် ခန်း က ကော ဘယ် လို လဲ</td>\n",
       "      <td>7</td>\n",
       "    </tr>\n",
       "    <tr>\n",
       "      <th>314467</th>\n",
       "      <td>ဧည့်ခန်း မှာ ပဲ ထား မလား</td>\n",
       "      <td>ဧည့် ခန်း မှာ ပဲ ထား မ လား</td>\n",
       "      <td>7</td>\n",
       "    </tr>\n",
       "    <tr>\n",
       "      <th>314552</th>\n",
       "      <td>ဧပြီ လ မှာ ပွင့် တာ ပါ</td>\n",
       "      <td>ဧ ပြီ လ မှာ ပွင့် တာ ပါ</td>\n",
       "      <td>7</td>\n",
       "    </tr>\n",
       "  </tbody>\n",
       "</table>\n",
       "<p>8914 rows × 3 columns</p>\n",
       "</div>"
      ],
      "text/plain": [
       "                               sent                       syllable  syl_len\n",
       "9       ကံကြမ္မာ ကို ယုံကြည် ပါ တယ်  ကံ ကြမ္မာ ကို ယုံ ကြည် ပါ တယ်  7      \n",
       "10      ကံကြမ္မာ ကို အပြစ်တင် တယ်    ကံ ကြမ္မာ ကို အ ပြစ် တင် တယ်   7      \n",
       "16      ကကြီးခခွေး လို လွယ် တယ်      က ကြီး ခ ခွေး လို လွယ် တယ်     7      \n",
       "65      ကံကောင်း တဲ့ နှစ် ဖြစ် ပါစေ  ကံ ကောင်း တဲ့ နှစ် ဖြစ် ပါ စေ  7      \n",
       "98      ကံကောင်း လိုက် တဲ့ အချက် ပဲ  ကံ ကောင်း လိုက် တဲ့ အ ချက် ပဲ  7      \n",
       "...                             ...                            ... ..      \n",
       "314377  ဦးလေး မိုက်ကယ် ကြည့် ပါ ဦး   ဦး လေး မိုက် ကယ် ကြည့် ပါ ဦး   7      \n",
       "314414  ဦးအေး မန္တလေး ကို သွား တယ်   ဦး အေး မန္တ လေး ကို သွား တယ်   7      \n",
       "314446  ဧည့်ခန်း က ကော ဘယ်လို လဲ     ဧည့် ခန်း က ကော ဘယ် လို လဲ     7      \n",
       "314467  ဧည့်ခန်း မှာ ပဲ ထား မလား     ဧည့် ခန်း မှာ ပဲ ထား မ လား     7      \n",
       "314552  ဧပြီ လ မှာ ပွင့် တာ ပါ       ဧ ပြီ လ မှာ ပွင့် တာ ပါ        7      \n",
       "\n",
       "[8914 rows x 3 columns]"
      ]
     },
     "execution_count": 18,
     "metadata": {},
     "output_type": "execute_result"
    }
   ],
   "source": [
    "df_seven = df[df['syl_len'] == 7 ]\n",
    "df_seven"
   ]
  },
  {
   "cell_type": "code",
   "execution_count": 19,
   "id": "b63067c0",
   "metadata": {},
   "outputs": [
    {
     "data": {
      "text/html": [
       "<div>\n",
       "<style scoped>\n",
       "    .dataframe tbody tr th:only-of-type {\n",
       "        vertical-align: middle;\n",
       "    }\n",
       "\n",
       "    .dataframe tbody tr th {\n",
       "        vertical-align: top;\n",
       "    }\n",
       "\n",
       "    .dataframe thead th {\n",
       "        text-align: right;\n",
       "    }\n",
       "</style>\n",
       "<table border=\"1\" class=\"dataframe\">\n",
       "  <thead>\n",
       "    <tr style=\"text-align: right;\">\n",
       "      <th></th>\n",
       "      <th>sent</th>\n",
       "      <th>syllable</th>\n",
       "      <th>syl_len</th>\n",
       "    </tr>\n",
       "  </thead>\n",
       "  <tbody>\n",
       "    <tr>\n",
       "      <th>0</th>\n",
       "      <td>ကံ က ဆိုး ချင် တော့ နေ စရာ အိမ် ရော သူ တို့ နှစ်ယောက် ရဲ့ ချစ်လှ စွာ သော မဟေသီ နှစ်ယောက် ပါ မ တွေ့ တော့ နှစ်ကောင် လုံး ဘုံပျောက် ပြီ ပေါ့</td>\n",
       "      <td>ကံ က ဆိုး ချင် တော့ နေ စ ရာ အိမ် ရော သူ တို့ နှစ် ယောက် ရဲ့ ချစ် လှ စွာ သော မ ဟေ သီ နှစ် ယောက် ပါ မ တွေ့ တော့ နှစ် ကောင် လုံး ဘုံ ပျောက် ပြီ ပေါ့</td>\n",
       "      <td>35</td>\n",
       "    </tr>\n",
       "    <tr>\n",
       "      <th>1</th>\n",
       "      <td>ကံ က ဆိုး ချင် တော့ သူရိန်မင်း က သူ့ မိန်းမ အတွယ်တာ ကလေးမွေး တဲ့ နေ့ မှာ ဆုံး သွား ပြီ တဲ့</td>\n",
       "      <td>ကံ က ဆိုး ချင် တော့ သူ ရိန် မင်း က သူ့ မိန်း မ အ တွယ် တာ က လေး မွေး တဲ့ နေ့ မှာ ဆုံး သွား ပြီ တဲ့</td>\n",
       "      <td>25</td>\n",
       "    </tr>\n",
       "    <tr>\n",
       "      <th>4</th>\n",
       "      <td>ကံကြမ္မာ က ကျွန်တော် တို့ အောင်မြင် ဖို့ ကျွန်တော် တို့ ကို မျက်နှာသာ ပေး ခဲ့ တယ်</td>\n",
       "      <td>ကံ ကြမ္မာ က ကျွန် တော် တို့ အောင် မြင် ဖို့ ကျွန် တော် တို့ ကို မျက် နှာ သာ ပေး ခဲ့ တယ်</td>\n",
       "      <td>19</td>\n",
       "    </tr>\n",
       "    <tr>\n",
       "      <th>5</th>\n",
       "      <td>ကံကြမ္မာ က ကျွန်တော် တို့ အောင်မြင် ဖို့ မျက်နှာသာ ပေး ခဲ့ တယ်</td>\n",
       "      <td>ကံ ကြမ္မာ က ကျွန် တော် တို့ အောင် မြင် ဖို့ မျက် နှာ သာ ပေး ခဲ့ တယ်</td>\n",
       "      <td>15</td>\n",
       "    </tr>\n",
       "    <tr>\n",
       "      <th>6</th>\n",
       "      <td>ကံကြမ္မာ က ရဲရင့် သူ ကို အခွင့်အရေး ပေး တယ်</td>\n",
       "      <td>ကံ ကြမ္မာ က ရဲ ရင့် သူ ကို အ ခွင့် အ ရေး ပေး တယ်</td>\n",
       "      <td>13</td>\n",
       "    </tr>\n",
       "  </tbody>\n",
       "</table>\n",
       "</div>"
      ],
      "text/plain": [
       "                                                                                                                                        sent  \\\n",
       "0  ကံ က ဆိုး ချင် တော့ နေ စရာ အိမ် ရော သူ တို့ နှစ်ယောက် ရဲ့ ချစ်လှ စွာ သော မဟေသီ နှစ်ယောက် ပါ မ တွေ့ တော့ နှစ်ကောင် လုံး ဘုံပျောက် ပြီ ပေါ့   \n",
       "1  ကံ က ဆိုး ချင် တော့ သူရိန်မင်း က သူ့ မိန်းမ အတွယ်တာ ကလေးမွေး တဲ့ နေ့ မှာ ဆုံး သွား ပြီ တဲ့                                                  \n",
       "4  ကံကြမ္မာ က ကျွန်တော် တို့ အောင်မြင် ဖို့ ကျွန်တော် တို့ ကို မျက်နှာသာ ပေး ခဲ့ တယ်                                                           \n",
       "5  ကံကြမ္မာ က ကျွန်တော် တို့ အောင်မြင် ဖို့ မျက်နှာသာ ပေး ခဲ့ တယ်                                                                              \n",
       "6  ကံကြမ္မာ က ရဲရင့် သူ ကို အခွင့်အရေး ပေး တယ်                                                                                                 \n",
       "\n",
       "                                                                                                                                            syllable  \\\n",
       "0  ကံ က ဆိုး ချင် တော့ နေ စ ရာ အိမ် ရော သူ တို့ နှစ် ယောက် ရဲ့ ချစ် လှ စွာ သော မ ဟေ သီ နှစ် ယောက် ပါ မ တွေ့ တော့ နှစ် ကောင် လုံး ဘုံ ပျောက် ပြီ ပေါ့   \n",
       "1  ကံ က ဆိုး ချင် တော့ သူ ရိန် မင်း က သူ့ မိန်း မ အ တွယ် တာ က လေး မွေး တဲ့ နေ့ မှာ ဆုံး သွား ပြီ တဲ့                                                   \n",
       "4  ကံ ကြမ္မာ က ကျွန် တော် တို့ အောင် မြင် ဖို့ ကျွန် တော် တို့ ကို မျက် နှာ သာ ပေး ခဲ့ တယ်                                                             \n",
       "5  ကံ ကြမ္မာ က ကျွန် တော် တို့ အောင် မြင် ဖို့ မျက် နှာ သာ ပေး ခဲ့ တယ်                                                                                 \n",
       "6  ကံ ကြမ္မာ က ရဲ ရင့် သူ ကို အ ခွင့် အ ရေး ပေး တယ်                                                                                                    \n",
       "\n",
       "   syl_len  \n",
       "0  35       \n",
       "1  25       \n",
       "4  19       \n",
       "5  15       \n",
       "6  13       "
      ]
     },
     "execution_count": 19,
     "metadata": {},
     "output_type": "execute_result"
    }
   ],
   "source": [
    "df = df[df['syl_len'] >= 7]\n",
    "df.head()"
   ]
  },
  {
   "cell_type": "code",
   "execution_count": 20,
   "id": "7db88a56",
   "metadata": {},
   "outputs": [
    {
     "data": {
      "text/plain": [
       "(302798, 3)"
      ]
     },
     "execution_count": 20,
     "metadata": {},
     "output_type": "execute_result"
    }
   ],
   "source": [
    "df.shape"
   ]
  },
  {
   "cell_type": "markdown",
   "id": "40dfe00f",
   "metadata": {},
   "source": [
    "## Artificial Errors"
   ]
  },
  {
   "cell_type": "markdown",
   "id": "d0133da8",
   "metadata": {},
   "source": [
    "### Remove characters"
   ]
  },
  {
   "cell_type": "code",
   "execution_count": 21,
   "id": "377624cb",
   "metadata": {},
   "outputs": [],
   "source": [
    "import random\n",
    "def remove_chars(sent):\n",
    "    \n",
    "    chars_list = [\"့\", \"း\", \"ြ\", \"ွ\"]\n",
    "    \n",
    "    num_chars_to_apply = random.randint(1, 4)\n",
    "    chars_to_apply = random.sample(chars_list, num_chars_to_apply)\n",
    "    \n",
    "    syllables = sent.split()\n",
    "\n",
    "    # Identify the syllables that contain characters from char_list\n",
    "    syllables_with_chars = [syl for syl in syllables if any(char in syl for char in chars_to_apply)]\n",
    "    \n",
    "    if len(syllables_with_chars) != 0:\n",
    "        # Remove characters from random syllables\n",
    "        num_syl_to_modify = random.randint(1, len(syllables_with_chars))\n",
    "        syllables_to_modify = random.sample(syllables_with_chars, num_syl_to_modify)\n",
    "\n",
    "        for char in chars_to_apply:\n",
    "            syllables = [syl.replace(char, '') if syl in syllables_to_modify else syl for syl in syllables]\n",
    "                \n",
    "        sent = \" \".join(syllables)\n",
    "    return sent"
   ]
  },
  {
   "cell_type": "code",
   "execution_count": 22,
   "id": "15e260e9",
   "metadata": {
    "ExecuteTime": {
     "end_time": "2022-11-11T02:06:16.895745Z",
     "start_time": "2022-11-11T02:06:16.878327Z"
    }
   },
   "outputs": [],
   "source": [
    "sent = \"ကံ ကြမ္မာ ဆို တာ အောင် မြင် ဖို့ အ ခွင့် အ ရေး တွေ ပေး လေ့ ရှိ ပါ တယ်\"\n",
    "removed_sent = remove_chars(sent)"
   ]
  },
  {
   "cell_type": "code",
   "execution_count": 23,
   "id": "4757d337",
   "metadata": {},
   "outputs": [
    {
     "data": {
      "text/plain": [
       "'ကံ ကမ္မာ ဆို တာ အောင် မင် ဖို အ ခွင် အ ရေး တွေ ပေး လေ ရှိ ပါ တယ်'"
      ]
     },
     "execution_count": 23,
     "metadata": {},
     "output_type": "execute_result"
    }
   ],
   "source": [
    "removed_sent"
   ]
  },
  {
   "cell_type": "markdown",
   "id": "ebba4067",
   "metadata": {},
   "source": [
    "### Swap characters order"
   ]
  },
  {
   "cell_type": "code",
   "execution_count": 24,
   "id": "a0cd9112",
   "metadata": {},
   "outputs": [],
   "source": [
    "order_rules = [\n",
    "        {\"from\": \"([က-အ])(ြ)\", \"to\": r\"\\2\\1\"}, \n",
    "        {\"from\": \"([က-အ])(ေ)\", \"to\": r\"\\2\\1\"}, \n",
    "        {\"from\": \"([က-အ])([ျ|ြ|ွ|ှ])(ေ)\", \"to\": r\"\\1\\3\\2\"},\n",
    "    \n",
    "        # medials order (ျ,ြ,ွ,ှ)\n",
    "        {\"from\": \"ျွ\", \"to\": \"ွျ\"},\n",
    "        {\"from\": \"ျှ\", \"to\": \"ှျ\"},\n",
    "        {\"from\": \"ြွ\", \"to\": \"ွြ\"},\n",
    "        {\"from\": \"ြှ\", \"to\": r\"ှြ\"},\n",
    "        {\"from\": \"ွှ\", \"to\": r\"ှွ\"},\n",
    "    \n",
    "        #(ိ,ီ,ဲ,ံ)\n",
    "        {\"from\": \"ျိ\", \"to\": r\"ိျ\"},\n",
    "        {\"from\": \"ျီ\", \"to\": r\"ီျ\"},\n",
    "        {\"from\": \"ျဲ\", \"to\": r\"ဲျ\"},\n",
    "        {\"from\": \"ျံ\", \"to\": r\"ံျ\"},\n",
    "    \n",
    "        {\"from\": \"ြိ\", \"to\": r\"ိြ\"},\n",
    "        {\"from\": \"ြီ\", \"to\": r\"ီြ\"},\n",
    "        {\"from\": \"ြဲ\", \"to\": r\"ဲြ\"},\n",
    "        {\"from\": \"ြံ\", \"to\": r\"ံြ\"},\n",
    "    \n",
    "        {\"from\": \"ွိ\", \"to\": r\"ိွ\"},\n",
    "        {\"from\": \"ွီ\", \"to\": r\"ီွ\"},\n",
    "        {\"from\": \"ွဲ\", \"to\": r\"ဲွ\"},\n",
    "        {\"from\": \"ွံ\", \"to\": r\"ံွ\"},\n",
    "    \n",
    "        {\"from\": \"ှိ\", \"to\": r\"ိှ\"},\n",
    "        {\"from\": \"ှီ\", \"to\": r\"ီှ\"},\n",
    "        {\"from\": \"ှဲ\", \"to\": r\"ဲှ\"},\n",
    "        {\"from\": \"ှံ\", \"to\": r\"ံှ\"},\n",
    "    \n",
    "        #(ု)\n",
    "        {\"from\": \"ုံ\", \"to\": r\"ံု\"},\n",
    "        {\"from\": \"ို\", \"to\": r\"ုိ\"},\n",
    "       \n",
    "        #အောက်မြစ် (့)    \n",
    "        {\"from\": \"ွ့\", \"to\": r\"့ွ\"},\n",
    "        {\"from\": \"ဲ့\", \"to\": r\"့ဲ\"},\n",
    "        {\"from\": \"ံ့\", \"to\": r\"့ံ\"},\n",
    "        {\"from\": \"ာ့\", \"to\": r\"့ာ\"},\n",
    "    \n",
    "        #အသတ် (်)\n",
    "        {\"from\": \"(့်)\", \"to\": r\"(့်)\"}]"
   ]
  },
  {
   "cell_type": "code",
   "execution_count": 25,
   "id": "07079243",
   "metadata": {},
   "outputs": [],
   "source": [
    "import re\n",
    "import json\n",
    "import random\n",
    "\n",
    "def swap_order(sent):\n",
    "    num_chars_to_apply = random.randint(1, 31)\n",
    "    rules_to_apply = random.sample(order_rules, num_chars_to_apply)\n",
    "    \n",
    "    syllables = sent.split()\n",
    "    syllables_with_rules = [syl for syl in syllables if any(re.search(rule[\"from\"], syl) for rule in order_rules)]\n",
    "\n",
    "    if len(syllables_with_rules) != 0:\n",
    "        # Swap characters from random syllables\n",
    "        num_syl_to_modify = random.randint(1, len(syllables_with_rules))\n",
    "        syllables_to_modify = random.sample(syllables_with_rules, num_syl_to_modify)\n",
    "    \n",
    "        for rule in rules_to_apply:\n",
    "            syllables = [syl.replace(rule[\"from\"], rule[\"to\"]) if syl in syllables_to_modify else syl for syl in syllables]\n",
    "                \n",
    "        sent = \" \".join(syllables)\n",
    "    return sent"
   ]
  },
  {
   "cell_type": "code",
   "execution_count": 26,
   "id": "f0a0bf34",
   "metadata": {},
   "outputs": [
    {
     "data": {
      "text/plain": [
       "'ကံ ကြမ္မာ ဆုိ တာ အောင် မြင် ဖို့ အ ခွင့် အ ရေး တွေ ပေး လေ့ ရိှ ပါ တယ်'"
      ]
     },
     "execution_count": 26,
     "metadata": {},
     "output_type": "execute_result"
    }
   ],
   "source": [
    "sent = \"ကံ ကြမ္မာ ဆို တာ အောင် မြင် ဖို့ အ ခွင့် အ ရေး တွေ ပေး လေ့ ရှိ ပါ တယ်\"\n",
    "disorder_sent = swap_order(sent)\n",
    "disorder_sent"
   ]
  },
  {
   "cell_type": "markdown",
   "id": "17914ac0",
   "metadata": {},
   "source": [
    "### Add extra characters"
   ]
  },
  {
   "cell_type": "code",
   "execution_count": 27,
   "id": "8e18bff2",
   "metadata": {},
   "outputs": [],
   "source": [
    "# အောက်မြစ်\n",
    "import random\n",
    "\n",
    "char_list_before_aukmyit = [\"ျ\", \"ြ\", \"ွ\", \"ဲ\", \"ံ\", \"ု\", \"်\", \"ူ\"]\n",
    "\n",
    "def add_aukmyit(sent):\n",
    "    mod_syl_lst = []\n",
    "    for syl in sent.split():\n",
    "        if syl[-1] in char_list_before_aukmyit and random.random() < 0.5:\n",
    "            syl += \"့\"\n",
    "        mod_syl_lst.append(syl)\n",
    "    return \" \".join(mod_syl_lst)"
   ]
  },
  {
   "cell_type": "code",
   "execution_count": 28,
   "id": "3706f51e",
   "metadata": {},
   "outputs": [
    {
     "data": {
      "text/plain": [
       "'ကံ ကြမ္မာ ဆို တာ အောင့် မြင် ဖို့ အ ခွင့် အ ရေး တွေ ပေး လေ့ ရှိ ပါ တယ့်'"
      ]
     },
     "execution_count": 28,
     "metadata": {},
     "output_type": "execute_result"
    }
   ],
   "source": [
    "sent = \"ကံ ကြမ္မာ ဆို တာ အောင် မြင် ဖို့ အ ခွင့် အ ရေး တွေ ပေး လေ့ ရှိ ပါ တယ်\"\n",
    "added_sent = add_aukmyit(sent)\n",
    "added_sent"
   ]
  },
  {
   "cell_type": "code",
   "execution_count": 29,
   "id": "cba75e53",
   "metadata": {},
   "outputs": [],
   "source": [
    "# ဝစ္စပေါက်\n",
    "import random\n",
    "\n",
    "char_list_before_witsapauk = [\"ေ\",\"ွ\",\"ု\", \"ီ\",\"ူ\"]\n",
    "\n",
    "def add_witsapauk(sent):\n",
    "    mod_syl_lst = []\n",
    "    for syl in sent.split():\n",
    "        if syl[-1] in char_list_before_witsapauk and random.random() < 0.5:\n",
    "            syl += \"း\"\n",
    "        mod_syl_lst.append(syl)\n",
    "    return \" \".join(mod_syl_lst)"
   ]
  },
  {
   "cell_type": "code",
   "execution_count": 30,
   "id": "68877c06",
   "metadata": {},
   "outputs": [
    {
     "data": {
      "text/plain": [
       "'ကံ ကြမ္မာ ဆို တာ အောင် မြင် ဖို့ အ ခွင့် အ ရေး တွေ ပေး လေ့ ရှိ ပါ တယ် ပြေ နေး ပေး မဲ့ မ ရောက် သေး ဘူး'"
      ]
     },
     "execution_count": 30,
     "metadata": {},
     "output_type": "execute_result"
    }
   ],
   "source": [
    "sent = \"ကံ ကြမ္မာ ဆို တာ အောင် မြင် ဖို့ အ ခွင့် အ ရေး တွေ ပေး လေ့ ရှိ ပါ တယ် ပြေ နေ ပေ မဲ့ မ ရောက် သေး ဘူး\"\n",
    "added_sent = add_witsapauk(sent)\n",
    "added_sent"
   ]
  },
  {
   "cell_type": "code",
   "execution_count": 31,
   "id": "06b44256",
   "metadata": {},
   "outputs": [],
   "source": [
    "# duplicates\n",
    "import random\n",
    "\n",
    "char_list_to_duplicate = ['်', 'ိ', 'ီ', 'ံ', 'ဲ']\n",
    "\n",
    "def duplicates_char(sent):\n",
    "    num_chars_to_apply = random.randint(1, 5)\n",
    "    chars_to_apply = random.sample(char_list_to_duplicate, num_chars_to_apply)\n",
    "    \n",
    "    syllables = sent.split()\n",
    "\n",
    "    # Identify the syllables that contain characters from char_list\n",
    "    syllables_with_chars = [syl for syl in syllables if any(char in syl for char in chars_to_apply)]\n",
    "\n",
    "    if len(syllables_with_chars) != 0:\n",
    "        # Duplicates characters from random syllables\n",
    "        num_syl_to_modify = random.randint(1, len(syllables_with_chars))\n",
    "        syllables_to_modify = random.sample(syllables_with_chars, num_syl_to_modify)\n",
    "\n",
    "        for char in chars_to_apply:\n",
    "            dua = char+char\n",
    "            syllables = [syl.replace(char, dua) if syl in syllables_to_modify else syl for syl in syllables]\n",
    "                \n",
    "        sent = \" \".join(syllables)\n",
    "    return sent"
   ]
  },
  {
   "cell_type": "code",
   "execution_count": 32,
   "id": "9cc337d3",
   "metadata": {},
   "outputs": [
    {
     "data": {
      "text/plain": [
       "'ကံ ကြမ္မာ ဆို တာ အောင် မြင် ဖို့ အ ခွင့် အ ရေး တွေ ပေး လေ့ ရှိ ပါ တယ် လူ တွေ က ခက် လှ တယ်'"
      ]
     },
     "execution_count": 32,
     "metadata": {},
     "output_type": "execute_result"
    }
   ],
   "source": [
    "sent = \"ကံ ကြမ္မာ ဆို တာ အောင် မြင် ဖို့ အ ခွင့် အ ရေး တွေ ပေး လေ့ ရှိ ပါ တယ် လူ တွေ က ခက် လှ တယ်\"\n",
    "du_sent = duplicates_char(sent)\n",
    "du_sent"
   ]
  },
  {
   "cell_type": "markdown",
   "id": "62741c0c",
   "metadata": {},
   "source": [
    "### Common Errors"
   ]
  },
  {
   "cell_type": "code",
   "execution_count": 33,
   "id": "5f825a28",
   "metadata": {},
   "outputs": [],
   "source": [
    "# Similar characters errors\n",
    "sim_char_rules = [\n",
    "        {\"from\": \"ဈ\", \"to\": \"စျ\"},\n",
    "        {\"from\": \"ဉ်\", \"to\": \"ဥ်\"},\n",
    "        {\"from\": \"ဪ\", \"to\": \"သြော်\"},\n",
    "        {\"from\": \"ဩ\", \"to\": r\"သြ\"},\n",
    "        {\"from\": \"ဥ\", \"to\": r\"ဉ\"},\n",
    "        {\"from\": \"ဥ\", \"to\": r\"ဉ\"},\n",
    "        {\"from\": \"ဦ\", \"to\": r\"ဦ\"},\n",
    "        {\"from\": \"ဝ\", \"to\": r\"၀\"},\n",
    "        {\"from\": \"ရ\", \"to\": r\"၇\"}]"
   ]
  },
  {
   "cell_type": "code",
   "execution_count": 34,
   "id": "25a47b5e",
   "metadata": {},
   "outputs": [],
   "source": [
    "import re\n",
    "import json\n",
    "import random\n",
    "\n",
    "def similar_char_errors(sent):\n",
    "    \n",
    "    num_chars_to_apply = random.randint(1, 9)\n",
    "    rules_to_apply = random.sample(sim_char_rules, num_chars_to_apply)\n",
    "    \n",
    "    syllables = sent.split()\n",
    "    syllables_with_rules = [syl for syl in syllables if any(re.search(rule[\"from\"], syl) for rule in sim_char_rules)]\n",
    "\n",
    "    if len(syllables_with_rules) != 0:\n",
    "        # Swap characters from random syllables\n",
    "        num_syl_to_modify = random.randint(1, len(syllables_with_rules))\n",
    "        syllables_to_modify = random.sample(syllables_with_rules, num_syl_to_modify)\n",
    "    \n",
    "        for rule in rules_to_apply:\n",
    "            syllables = [syl.replace(rule[\"from\"], rule[\"to\"]) if syl in syllables_to_modify else syl for syl in syllables]\n",
    "                \n",
    "        sent = \" \".join(syllables)\n",
    "    return sent"
   ]
  },
  {
   "cell_type": "code",
   "execution_count": 35,
   "id": "c20f98b3",
   "metadata": {},
   "outputs": [
    {
     "data": {
      "text/plain": [
       "'ကံ ကြမ္မာ ဆို တာ အောင် မြင် ဖို့ အ ခွင့် အ ရေး တွေ ပေး လေ့ ရှိ ပါ တယ် ရိုင် ရယ် မြန် မာ တီး မစ် ကြိုက် ပါ တယ်'"
      ]
     },
     "execution_count": 35,
     "metadata": {},
     "output_type": "execute_result"
    }
   ],
   "source": [
    "sent = \"ကံ ကြမ္မာ ဆို တာ အောင် မြင် ဖို့ အ ခွင့် အ ရေး တွေ ပေး လေ့ ရှိ ပါ တယ် ရိုင် ရယ် မြန် မာ တီး မစ် ကြိုက် ပါ တယ်\"\n",
    "errors_sent = similar_char_errors(sent)\n",
    "errors_sent"
   ]
  },
  {
   "cell_type": "code",
   "execution_count": 36,
   "id": "c0651ced",
   "metadata": {},
   "outputs": [],
   "source": [
    "# Spelling mistakes \n",
    "general_error_rules = [\n",
    "        {\"from\": \"ျ\", \"to\": \"ြ\"},\n",
    "        {\"from\": \"ျ\", \"to\": \"ျှ\"},\n",
    "        {\"from\": \"ျှ\", \"to\": \"ျ\"},\n",
    "        {\"from\": \"ြ\", \"to\": \"ျ\"},\n",
    "        {\"from\": \"ု\", \"to\": \"ူ\"},\n",
    "        {\"from\": \"န်\", \"to\": \"မ်\"},\n",
    "        {\"from\": \"မ်\", \"to\": \"န်\"},\n",
    "        {\"from\": \"က်\", \"to\": \"တ်\"},\n",
    "        {\"from\": \"ပ်\", \"to\": \"က်\"},\n",
    "        {\"from\": \"က်\", \"to\": \"ပ်\"},\n",
    "        {\"from\": \"က်\", \"to\": \"င့်\"},\n",
    "        {\"from\": \"င့်\", \"to\": \"ဉ်\"},\n",
    "        {\"from\": \"တ်\", \"to\": \"က်\"},\n",
    "        {\"from\": \"ယ်\", \"to\": \"ည်\"},\n",
    "        {\"from\": \"ည်\", \"to\": \"ယ်\"},\n",
    "        {\"from\": \"ည်း\", \"to\": \"ဲ\"},\n",
    "        {\"from\": \"ဲ\", \"to\": \"ည်း\"},\n",
    "        {\"from\": \"ွ\", \"to\": \"ွှ\"},\n",
    "        {\"from\": \"ွှ\", \"to\": \"ွ\"},\n",
    "        {\"from\": \"ယ\", \"to\": \"ရ\"},\n",
    "        {\"from\": \"ရ\", \"to\": \"ယ\"},\n",
    "        {\"from\": \"စ\", \"to\": \"ဆ\"},\n",
    "        {\"from\": \"ဆ\", \"to\": \"စ\"},\n",
    "        {\"from\": \"န\", \"to\": \"ဏ\"},\n",
    "        {\"from\": \"ဏ\", \"to\": \"န\"}, \n",
    "        {\"from\": \"တ\", \"to\": \"တစ်\"},\n",
    "        {\"from\": \"တစ်\", \"to\": \"တ\"},\n",
    "        {\"from\": \"်\", \"to\": \"ိ\"}]  #typing error\n",
    "\n",
    "common_error_rules = [\n",
    "        {\"from\": \"ဘဲ\", \"to\": \"ပဲ\"},\n",
    "        {\"from\": \"တို့\", \"to\": \"ဒို့\"},\n",
    "        {\"from\": \"ပဲ\", \"to\": \"ဘဲ\"},\n",
    "        {\"from\": \"မွှေး\", \"to\": \"မွေး\"},\n",
    "        {\"from\": \"မွေး\", \"to\": \"မွှေး\"},\n",
    "        {\"from\": \"မီ\", \"to\": \"မှီ\"},\n",
    "        {\"from\": \"မှီ\", \"to\": \"မီ\"},\n",
    "        {\"from\": \"ငှား\", \"to\": \"ဌား\"},\n",
    "        {\"from\": \"လွတ်\", \"to\": \"လွှတ်\"},\n",
    "        {\"from\": \"လွှတ်\", \"to\": \"လွတ်\"},\n",
    "        {\"from\": \"လွှင့်\", \"to\": \"လွင့်\"},\n",
    "        {\"from\": \"လွင့်\", \"to\": \"လွှင့်\"},\n",
    "        {\"from\": \"လျင်\", \"to\": \"လျှင်\"},\n",
    "        {\"from\": \"လျှင်\", \"to\": \"လျင်\"},\n",
    "        {\"from\": \"ရီ\", \"to\": \"ရယ်\"},\n",
    "        {\"from\": \"မာန်\", \"to\": \"မန်\"},\n",
    "        {\"from\": \"ချို့\", \"to\": \"ချွတ်\"},\n",
    "        {\"from\": \"စီ\", \"to\": \"ဆီ\"},\n",
    "        {\"from\": \"ဆီ\", \"to\": \"စီ\"},\n",
    "        {\"from\": \"မန်\", \"to\": \"မာန်\"},\n",
    "        {\"from\": \"ဦး\", \"to\": \"အုန်း\"},\n",
    "        {\"from\": \"ဦး\", \"to\": \"အုံး\"},\n",
    "        {\"from\": \"တုန်း\", \"to\": \"တုံး\"},\n",
    "        {\"from\": \"အုန်း\", \"to\": \"အုန်း\"},\n",
    "        {\"from\": \"အစ် ကို\", \"to\": \"အ ကို\"},\n",
    "        {\"from\": \"အစ် မ\", \"to\": \"အ မ\"},\n",
    "        {\"from\": \"ပေ မဲ့\", \"to\": \"ပင် မယ့်\"},\n",
    "        {\"from\": \"ပြီ\", \"to\": \"ပီ\"},\n",
    "        {\"from\": \"အစ် ကို\", \"to\": \"အယ် ကို\"}]\n",
    "        \n",
    "sm_error_rules = [\n",
    "        {\"from\": \"မှာ\", \"to\": r\"မာ\"},\n",
    "        {\"from\": \"တယ်\", \"to\": r\"တေ\"},\n",
    "        {\"from\": \"တယ်\", \"to\": r\"ဒေ\"},\n",
    "        {\"from\": \"ငါ့\", \"to\": r\"နာ့\"},\n",
    "        {\"from\": \"နင့်\", \"to\": r\"နိ\"},\n",
    "        {\"from\": \"ဖြစ်\", \"to\": r\"ဖစ်\"},\n",
    "        {\"from\": \"ဘူး\", \"to\": r\"ဖူး\"},\n",
    "        {\"from\": \"ဖူး\", \"to\": r\"ဘူး\"},\n",
    "        {\"from\": \"ဘူး\", \"to\": r\"ပူး\"},\n",
    "        {\"from\": \"ဘူး\", \"to\": r\"ဝူး\"},\n",
    "        {\"from\": \"ဘူး\", \"to\": r\"ပု\"},\n",
    "        {\"from\": \"ဟုတ်\", \"to\": r\"ဟု\"},\n",
    "        {\"from\": \"တွေ\", \"to\": r\"တေ\"},\n",
    "        {\"from\": \"ရင်\", \"to\": r\"ယင်\"},\n",
    "        {\"from\": \"တွေ\", \"to\": r\"ဒေ\"},\n",
    "        {\"from\": \"တယ်\", \"to\": r\"ဒယ်\"},\n",
    "        {\"from\": \"ပဲ\", \"to\": r\"ဖဲ\"},\n",
    "        {\"from\": \"ကယ်\", \"to\": r\"ဂယ်\"},\n",
    "        {\"from\": \"ပဲ\", \"to\": r\"ဖဲ\"},\n",
    "        {\"from\": \"ကြီး\", \"to\": r\"ရီး\"},\n",
    "        {\"from\": \"ချစ်\", \"to\": r\"ချေ့\"},\n",
    "        {\"from\": \"ချစ်\", \"to\": r\"ချိ\"},\n",
    "        {\"from\": \"တယ်\", \"to\": r\"သယ်\"},\n",
    "        {\"from\": \"တာ\", \"to\": r\"သာ\"},\n",
    "        {\"from\": \"ဒါ\", \"to\": r\"တာ\"},\n",
    "        {\"from\": \"ကယ်\", \"to\": r\"ဂရ်\"},\n",
    "        {\"from\": \"ကို\", \"to\": \"ဂို\"},\n",
    "        {\"from\": \"နဲ့\", \"to\": \"နက်\"},\n",
    "        {\"from\": \"အစ် ကို\", \"to\": \"အယ် ကို\"},\n",
    "        {\"from\": \"ဘယ် လို\", \"to\": \"ဘ လို\"},\n",
    "        {\"from\": \"အစ် ကို\", \"to\": \"အယ် ကို\"},\n",
    "        {\"from\": \"အစ် မ\", \"to\": \"အယ် မ\"},\n",
    "        {\"from\": \"ပြီ\", \"to\": \"p\"},\n",
    "        {\"from\": \"ပြီး\", \"to\": \"p\"},\n",
    "        {\"from\": \"အဲ့\", \"to\": \"အယ့်\"},\n",
    "        {\"from\": \"အဲ့\", \"to\": \"အက်\"},\n",
    "        {\"from\": \"သေး\", \"to\": \"တေး\"},\n",
    "        {\"from\": \"ဘယ် လို\", \"to\": \"ဘီ လို\"}]"
   ]
  },
  {
   "cell_type": "code",
   "execution_count": 37,
   "id": "feb47b3b",
   "metadata": {},
   "outputs": [],
   "source": [
    "import re\n",
    "import json\n",
    "import random\n",
    "\n",
    "def spell_errors(sent):\n",
    "    \n",
    "    general_or_common = random.randint(1,2)\n",
    "    if general_or_common == 1:\n",
    "        num_chars_to_apply = random.randint(1, 28)\n",
    "        rules_to_apply = random.sample(general_error_rules , num_chars_to_apply)\n",
    "    \n",
    "        syllables = sent.split()\n",
    "        syllables_with_rules = [syl for syl in syllables if any(re.search(rule[\"from\"], syl) for rule in general_error_rules)]\n",
    "        \n",
    "        if len(syllables_with_rules) != 0:\n",
    "\n",
    "            # Swap characters from random syllables\n",
    "            num_syl_to_modify = random.randint(1, len(syllables_with_rules))\n",
    "            syllables_to_modify = random.sample(syllables_with_rules, num_syl_to_modify)\n",
    "    \n",
    "            for rule in rules_to_apply:\n",
    "                syllables = [syl.replace(rule[\"from\"], rule[\"to\"]) if syl in syllables_to_modify else syl for syl in syllables]\n",
    "                \n",
    "            sent = \" \".join(syllables)\n",
    "    \n",
    "    else:\n",
    "        num_chars_to_apply = random.randint(1, 29)\n",
    "        rules_to_apply = random.sample(common_error_rules , num_chars_to_apply)\n",
    "    \n",
    "        syllables = sent.split()\n",
    "        syllables_with_rules = [syl for syl in syllables if any(re.search(rule[\"from\"], syl) for rule in common_error_rules)]\n",
    "\n",
    "        if len(syllables_with_rules) != 0:\n",
    "            # Swap characters from random syllables\n",
    "            num_syl_to_modify = random.randint(1, len(syllables_with_rules))\n",
    "            syllables_to_modify = random.sample(syllables_with_rules, num_syl_to_modify)\n",
    "    \n",
    "            for rule in rules_to_apply:\n",
    "                syllables = [syl.replace(rule[\"from\"], rule[\"to\"]) if syl in syllables_to_modify else syl for syl in syllables]\n",
    "                \n",
    "            ent = \" \".join(syllables)\n",
    "        \n",
    "    num_chars_to_apply = random.randint(1, 38)\n",
    "    rules_to_apply = random.sample(sm_error_rules , num_chars_to_apply)\n",
    "    \n",
    "    syllables = sent.split()\n",
    "    syllables_with_rules = [syl for syl in syllables if any(re.search(rule[\"from\"], syl) for rule in sm_error_rules)]\n",
    "\n",
    "    if len(syllables_with_rules) != 0:\n",
    "        # Swap characters from random syllables\n",
    "        num_syl_to_modify = random.randint(1, len(syllables_with_rules))\n",
    "        syllables_to_modify = random.sample(syllables_with_rules, num_syl_to_modify)\n",
    "    \n",
    "        for rule in rules_to_apply:\n",
    "            syllables = [syl.replace(rule[\"from\"], rule[\"to\"]) if syl in syllables_to_modify else syl for syl in syllables]\n",
    "                \n",
    "        sent = \" \".join(syllables)\n",
    "    \n",
    "    return sent"
   ]
  },
  {
   "cell_type": "code",
   "execution_count": 38,
   "id": "369addf5",
   "metadata": {
    "ExecuteTime": {
     "end_time": "2022-11-11T03:31:14.868636Z",
     "start_time": "2022-11-11T03:31:14.862867Z"
    }
   },
   "outputs": [
    {
     "data": {
      "text/plain": [
       "'ကံ ကြမ္မာ ဆို တာ မှာ အောင် မြင် ဖို့ အ ခွင့် အ ရေး တွေ ပေး လေ့ ရှိ ပါ တယ် ရိုင် ရယ် မြန် မာ တီး မစ် မ ကြိုက် ပါ ဖူး'"
      ]
     },
     "execution_count": 38,
     "metadata": {},
     "output_type": "execute_result"
    }
   ],
   "source": [
    "sent = \"ကံ ကြမ္မာ ဆို တာ မှာ အောင် မြင် ဖို့ အ ခွင့် အ ရေး တွေ ပေး လေ့ ရှိ ပါ တယ် ရိုင် ရယ် မြန် မာ တီး မစ် မ ကြိုက် ပါ ဘူး\"\n",
    "errors_sent = spell_errors(sent)\n",
    "errors_sent"
   ]
  },
  {
   "cell_type": "markdown",
   "id": "d20138b7",
   "metadata": {},
   "source": [
    "## Make Artificial Errors"
   ]
  },
  {
   "cell_type": "code",
   "execution_count": 39,
   "id": "42820aa9",
   "metadata": {
    "ExecuteTime": {
     "end_time": "2022-11-11T04:05:38.134726Z",
     "start_time": "2022-11-11T04:05:38.131542Z"
    }
   },
   "outputs": [],
   "source": [
    "sent = \"ကံ ကြမ္မာ ဆို တာ မှာ အောင် မြင် ဖို့ အ ခွင့် အ ရေး တွေ ပေး လေ့ ရှိ ပါ တယ် ရိုင် ရယ် မြန် မာ တီး မစ် မ ကြိုက် ပါ ဘူး\""
   ]
  },
  {
   "cell_type": "code",
   "execution_count": 40,
   "id": "2432f1e9",
   "metadata": {
    "ExecuteTime": {
     "end_time": "2022-11-11T04:14:04.299422Z",
     "start_time": "2022-11-11T04:14:04.296932Z"
    }
   },
   "outputs": [],
   "source": [
    "errors_type = [remove_chars,swap_order,add_aukmyit, add_witsapauk, duplicates_char, similar_char_errors, spell_errors]\n",
    "\n",
    "def make_errors(sent):\n",
    "    num_chars_to_apply = random.randint(5, 7)\n",
    "    random.shuffle(errors_type)\n",
    "    error_types_to_apply = errors_type[:num_chars_to_apply]\n",
    "    \n",
    "    for fun in error_types_to_apply:\n",
    "        error_sent = fun(sent)\n",
    "    error_sent.replace(\"[\\s]+\",\" \")\n",
    "    return error_sent"
   ]
  },
  {
   "cell_type": "code",
   "execution_count": 41,
   "id": "db2e8a4a",
   "metadata": {
    "ExecuteTime": {
     "end_time": "2022-11-11T04:14:05.494222Z",
     "start_time": "2022-11-11T04:14:05.491648Z"
    }
   },
   "outputs": [
    {
     "data": {
      "text/plain": [
       "'ကံံ ကြမ္မာ ဆိို တာ မှာ အောင် မြင် ဖိို့ အ ခွင့် အ ရေး တွေ ပေး လေ့ ရှိိ ပါ တယ် ရိုင် ရယ် မြန် မာ တီး မစ် မ ကြိိုက် ပါ ဘူး'"
      ]
     },
     "execution_count": 41,
     "metadata": {},
     "output_type": "execute_result"
    }
   ],
   "source": [
    "make_errors(sent)"
   ]
  },
  {
   "cell_type": "code",
   "execution_count": 42,
   "id": "8c576043",
   "metadata": {},
   "outputs": [
    {
     "data": {
      "text/html": [
       "<div>\n",
       "<style scoped>\n",
       "    .dataframe tbody tr th:only-of-type {\n",
       "        vertical-align: middle;\n",
       "    }\n",
       "\n",
       "    .dataframe tbody tr th {\n",
       "        vertical-align: top;\n",
       "    }\n",
       "\n",
       "    .dataframe thead th {\n",
       "        text-align: right;\n",
       "    }\n",
       "</style>\n",
       "<table border=\"1\" class=\"dataframe\">\n",
       "  <thead>\n",
       "    <tr style=\"text-align: right;\">\n",
       "      <th></th>\n",
       "      <th>sent</th>\n",
       "      <th>syllable</th>\n",
       "      <th>syl_len</th>\n",
       "    </tr>\n",
       "  </thead>\n",
       "  <tbody>\n",
       "    <tr>\n",
       "      <th>186169</th>\n",
       "      <td>မြန်မာနိုင်ငံ ၏ တောင်ပိုင်း တွင် တည်ရှိ ပြီး ပဲခူး တိုင်းဒေသကြီး ဧရာဝတီ တိုင်းဒေသကြီး နှင့် မုတ္တမပင်လယ်ကွေ့ တို့ ဖြင့် ဝန်းရံ ထား သည်</td>\n",
       "      <td>မြန် မာ နိုင် ငံ ၏ တောင် ပိုင်း တွင် တည် ရှိ ပြီး ပဲ ခူး တိုင်း ဒေ သ ကြီး ဧ ရာ ဝ တီ တိုင်း ဒေ သ ကြီး နှင့် မုတ္တ မ ပင် လယ် ကွေ့ တို့ ဖြင့် ဝန်း ရံ ထား သည်</td>\n",
       "      <td>37</td>\n",
       "    </tr>\n",
       "    <tr>\n",
       "      <th>3868</th>\n",
       "      <td>ကျွန်တော် ကျွန်တော့် ရဲ့ စက်ဘီး အသစ် ကို ကြိုက် တယ်</td>\n",
       "      <td>ကျွန် တော် ကျွန် တော့် ရဲ့ စက် ဘီး အ သစ် ကို ကြိုက် တယ်</td>\n",
       "      <td>12</td>\n",
       "    </tr>\n",
       "    <tr>\n",
       "      <th>99658</th>\n",
       "      <td>တီဗီ မှာ ရေဒီယို မှာ အော်ဟစ်သံ တွေ ကို ပီပီ သ သကြား ရ ပါ တယ်</td>\n",
       "      <td>တီ ဗီ မှာ ရေ ဒီ ယို မှာ အော် ဟစ် သံ တွေ ကို ပီ ပီ သ သ ကြား ရ ပါ တယ်</td>\n",
       "      <td>20</td>\n",
       "    </tr>\n",
       "    <tr>\n",
       "      <th>265335</th>\n",
       "      <td>အကြောင်းမူ လီပါ ၏ ဆရာမ အဖြစ် သူမ အား ထိုက်ထိုက်တန်တန် လစာ ပေး ခဲ့ သောကြောင့် ဖြစ် ပါ သည်</td>\n",
       "      <td>အ ကြောင်း မူ လီ ပါ ၏ ဆ ရာ မ အ ဖြစ် သူ မ အား ထိုက် ထိုက် တန် တန် လ စာ ပေး ခဲ့ သော ကြောင့် ဖြစ် ပါ သည်</td>\n",
       "      <td>27</td>\n",
       "    </tr>\n",
       "    <tr>\n",
       "      <th>86448</th>\n",
       "      <td>တကယ့် ကို ရင်သပ်ရှုမော ဖွယ် ပါ သေချာ ပါ တယ်</td>\n",
       "      <td>တ ကယ့် ကို ရင် သပ် ရှု မော ဖွယ် ပါ သေ ချာ ပါ တယ်</td>\n",
       "      <td>13</td>\n",
       "    </tr>\n",
       "    <tr>\n",
       "      <th>86198</th>\n",
       "      <td>ညီမ အမေ လည်း သွေးတိုး ရော ဆီးချို ရော တစ် ခါ ထဲ စောင့်တက် သွား လို့</td>\n",
       "      <td>ညီ မ အ မေ လည်း သွေး တိုး ရော ဆီး ချို ရော တစ် ခါ ထဲ စောင့် တက် သွား လို့</td>\n",
       "      <td>18</td>\n",
       "    </tr>\n",
       "    <tr>\n",
       "      <th>92857</th>\n",
       "      <td>တစ်ထောင့် ကိုးရာ့ ရှစ် အောက်တိုဘာ လ နှစ် ဘုရားပိုင် မြေကွက် အကျယ် လေး ဆယ့် ကိုး ဒဿမ ခုနှစ် လေး ဧက အတွက် အင်္ဂလိပ် အစိုးရ က ဂရန် ထုတ် ပေး သည်</td>\n",
       "      <td>တစ် ထောင့် ကိုး ရာ့ ရှစ် အောက် တို ဘာ လ နှစ် ဘု ရား ပိုင် မြေ ကွက် အ ကျယ် လေး ဆယ့် ကိုး ဒ ဿ မ ခု နှစ် လေး ဧ က အ တွက် အင်္ဂ လိပ် အ စိုး ရ က ဂ ရန် ထုတ် ပေး သည်</td>\n",
       "      <td>41</td>\n",
       "    </tr>\n",
       "    <tr>\n",
       "      <th>197224</th>\n",
       "      <td>ရင်တုန် တာ က ဘာ မ ကောင်း လို့ တုန် တာ မ တုန် တာ တွေး မ နေ ဘဲ ကယ်လ်ဆမ် ကွေကာ သာ မော့ ထား လိုက် ပါ</td>\n",
       "      <td>ရင် တုန် တာ က ဘာ မ ကောင်း လို့ တုန် တာ မ တုန် တာ တွေး မ နေ ဘဲ ကယ်လ် ဆမ် ကွေ ကာ သာ မော့ ထား လိုက် ပါ</td>\n",
       "      <td>26</td>\n",
       "    </tr>\n",
       "    <tr>\n",
       "      <th>307193</th>\n",
       "      <td>အဲဒီ ခံစားချက် တွေ က တော့ စိတ်တို ခြင်း တွေ ဒေါသ ထွက် ခြင်း တွေ ကြမ်းတမ်း ခြင်း တွေ ပါ ပဲ</td>\n",
       "      <td>အဲ ဒီ ခံ စား ချက် တွေ က တော့ စိတ် တို ခြင်း တွေ ဒေါ သ ထွက် ခြင်း တွေ ကြမ်း တမ်း ခြင်း တွေ ပါ ပဲ</td>\n",
       "      <td>23</td>\n",
       "    </tr>\n",
       "    <tr>\n",
       "      <th>244473</th>\n",
       "      <td>သူ့ ဘဝဇာတ်ကြောင်း ကို ရုပ်ရှင်ရိုက် ဖို့ အတွက် ကယ်လီဖိုးနီးယား ကို ပြန် လာ ဖို့ တက်ဒ် ကို အဲလစ်စ် တော်တော် စည်းရုံး ပြော ခဲ့ ရ ပါ တယ်</td>\n",
       "      <td>သူ့ ဘ ဝ ဇာတ် ကြောင်း ကို ရုပ် ရှင် ရိုက် ဖို့ အ တွက် ကယ် လီ ဖိုး နီး ယား ကို ပြန် လာ ဖို့ တက်ဒ် ကို အဲ လစ်စ် တော် တော် စည်း ရုံး ပြော ခဲ့ ရ ပါ တယ်</td>\n",
       "      <td>34</td>\n",
       "    </tr>\n",
       "  </tbody>\n",
       "</table>\n",
       "</div>"
      ],
      "text/plain": [
       "                                                                                                                                                sent  \\\n",
       "186169  မြန်မာနိုင်ငံ ၏ တောင်ပိုင်း တွင် တည်ရှိ ပြီး ပဲခူး တိုင်းဒေသကြီး ဧရာဝတီ တိုင်းဒေသကြီး နှင့် မုတ္တမပင်လယ်ကွေ့ တို့ ဖြင့် ဝန်းရံ ထား သည်         \n",
       "3868    ကျွန်တော် ကျွန်တော့် ရဲ့ စက်ဘီး အသစ် ကို ကြိုက် တယ်                                                                                            \n",
       "99658   တီဗီ မှာ ရေဒီယို မှာ အော်ဟစ်သံ တွေ ကို ပီပီ သ သကြား ရ ပါ တယ်                                                                                   \n",
       "265335  အကြောင်းမူ လီပါ ၏ ဆရာမ အဖြစ် သူမ အား ထိုက်ထိုက်တန်တန် လစာ ပေး ခဲ့ သောကြောင့် ဖြစ် ပါ သည်                                                       \n",
       "86448   တကယ့် ကို ရင်သပ်ရှုမော ဖွယ် ပါ သေချာ ပါ တယ်                                                                                                    \n",
       "86198   ညီမ အမေ လည်း သွေးတိုး ရော ဆီးချို ရော တစ် ခါ ထဲ စောင့်တက် သွား လို့                                                                            \n",
       "92857   တစ်ထောင့် ကိုးရာ့ ရှစ် အောက်တိုဘာ လ နှစ် ဘုရားပိုင် မြေကွက် အကျယ် လေး ဆယ့် ကိုး ဒဿမ ခုနှစ် လေး ဧက အတွက် အင်္ဂလိပ် အစိုးရ က ဂရန် ထုတ် ပေး သည်   \n",
       "197224  ရင်တုန် တာ က ဘာ မ ကောင်း လို့ တုန် တာ မ တုန် တာ တွေး မ နေ ဘဲ ကယ်လ်ဆမ် ကွေကာ သာ မော့ ထား လိုက် ပါ                                               \n",
       "307193  အဲဒီ ခံစားချက် တွေ က တော့ စိတ်တို ခြင်း တွေ ဒေါသ ထွက် ခြင်း တွေ ကြမ်းတမ်း ခြင်း တွေ ပါ ပဲ                                                      \n",
       "244473  သူ့ ဘဝဇာတ်ကြောင်း ကို ရုပ်ရှင်ရိုက် ဖို့ အတွက် ကယ်လီဖိုးနီးယား ကို ပြန် လာ ဖို့ တက်ဒ် ကို အဲလစ်စ် တော်တော် စည်းရုံး ပြော ခဲ့ ရ ပါ တယ်          \n",
       "\n",
       "                                                                                                                                                             syllable  \\\n",
       "186169  မြန် မာ နိုင် ငံ ၏ တောင် ပိုင်း တွင် တည် ရှိ ပြီး ပဲ ခူး တိုင်း ဒေ သ ကြီး ဧ ရာ ဝ တီ တိုင်း ဒေ သ ကြီး နှင့် မုတ္တ မ ပင် လယ် ကွေ့ တို့ ဖြင့် ဝန်း ရံ ထား သည်      \n",
       "3868    ကျွန် တော် ကျွန် တော့် ရဲ့ စက် ဘီး အ သစ် ကို ကြိုက် တယ်                                                                                                         \n",
       "99658   တီ ဗီ မှာ ရေ ဒီ ယို မှာ အော် ဟစ် သံ တွေ ကို ပီ ပီ သ သ ကြား ရ ပါ တယ်                                                                                             \n",
       "265335  အ ကြောင်း မူ လီ ပါ ၏ ဆ ရာ မ အ ဖြစ် သူ မ အား ထိုက် ထိုက် တန် တန် လ စာ ပေး ခဲ့ သော ကြောင့် ဖြစ် ပါ သည်                                                            \n",
       "86448   တ ကယ့် ကို ရင် သပ် ရှု မော ဖွယ် ပါ သေ ချာ ပါ တယ်                                                                                                                \n",
       "86198   ညီ မ အ မေ လည်း သွေး တိုး ရော ဆီး ချို ရော တစ် ခါ ထဲ စောင့် တက် သွား လို့                                                                                        \n",
       "92857   တစ် ထောင့် ကိုး ရာ့ ရှစ် အောက် တို ဘာ လ နှစ် ဘု ရား ပိုင် မြေ ကွက် အ ကျယ် လေး ဆယ့် ကိုး ဒ ဿ မ ခု နှစ် လေး ဧ က အ တွက် အင်္ဂ လိပ် အ စိုး ရ က ဂ ရန် ထုတ် ပေး သည်   \n",
       "197224  ရင် တုန် တာ က ဘာ မ ကောင်း လို့ တုန် တာ မ တုန် တာ တွေး မ နေ ဘဲ ကယ်လ် ဆမ် ကွေ ကာ သာ မော့ ထား လိုက် ပါ                                                             \n",
       "307193  အဲ ဒီ ခံ စား ချက် တွေ က တော့ စိတ် တို ခြင်း တွေ ဒေါ သ ထွက် ခြင်း တွေ ကြမ်း တမ်း ခြင်း တွေ ပါ ပဲ                                                                 \n",
       "244473  သူ့ ဘ ဝ ဇာတ် ကြောင်း ကို ရုပ် ရှင် ရိုက် ဖို့ အ တွက် ကယ် လီ ဖိုး နီး ယား ကို ပြန် လာ ဖို့ တက်ဒ် ကို အဲ လစ်စ် တော် တော် စည်း ရုံး ပြော ခဲ့ ရ ပါ တယ်              \n",
       "\n",
       "        syl_len  \n",
       "186169  37       \n",
       "3868    12       \n",
       "99658   20       \n",
       "265335  27       \n",
       "86448   13       \n",
       "86198   18       \n",
       "92857   41       \n",
       "197224  26       \n",
       "307193  23       \n",
       "244473  34       "
      ]
     },
     "execution_count": 42,
     "metadata": {},
     "output_type": "execute_result"
    }
   ],
   "source": [
    "df.sample(10)"
   ]
  },
  {
   "cell_type": "code",
   "execution_count": 43,
   "id": "e8d18d52",
   "metadata": {},
   "outputs": [
    {
     "data": {
      "text/plain": [
       "(302798, 3)"
      ]
     },
     "execution_count": 43,
     "metadata": {},
     "output_type": "execute_result"
    }
   ],
   "source": [
    "df.shape"
   ]
  },
  {
   "cell_type": "code",
   "execution_count": 44,
   "id": "d66be890",
   "metadata": {},
   "outputs": [
    {
     "name": "stdout",
     "output_type": "stream",
     "text": [
      "[114574   1933   7494 ...  79308  21281 228925]\n",
      "257378\n"
     ]
    }
   ],
   "source": [
    "# Make errors 85% of total rows\n",
    "import numpy as np\n",
    "\n",
    "percentage_to_apply = 0.85\n",
    "num_rows_to_apply = int(len(df) * percentage_to_apply)\n",
    "\n",
    "random_indices = np.random.choice(df.index, num_rows_to_apply, replace=False)\n",
    "print (random_indices)\n",
    "print (len(random_indices))\n",
    "\n",
    "syllable_subset = df.loc[random_indices, \"syllable\"]\n",
    "\n",
    "df.loc[random_indices, \"error_sent\"] = syllable_subset.apply(lambda x: make_errors(x))\n",
    "df[\"error_sent\"].fillna(df[\"syllable\"], inplace=True)"
   ]
  },
  {
   "cell_type": "code",
   "execution_count": 45,
   "id": "3e491cc6",
   "metadata": {
    "ExecuteTime": {
     "end_time": "2022-11-11T04:14:46.885061Z",
     "start_time": "2022-11-11T04:14:41.494994Z"
    },
    "scrolled": false
   },
   "outputs": [
    {
     "data": {
      "text/html": [
       "<div>\n",
       "<style scoped>\n",
       "    .dataframe tbody tr th:only-of-type {\n",
       "        vertical-align: middle;\n",
       "    }\n",
       "\n",
       "    .dataframe tbody tr th {\n",
       "        vertical-align: top;\n",
       "    }\n",
       "\n",
       "    .dataframe thead th {\n",
       "        text-align: right;\n",
       "    }\n",
       "</style>\n",
       "<table border=\"1\" class=\"dataframe\">\n",
       "  <thead>\n",
       "    <tr style=\"text-align: right;\">\n",
       "      <th></th>\n",
       "      <th>sent</th>\n",
       "      <th>syllable</th>\n",
       "      <th>syl_len</th>\n",
       "      <th>error_sent</th>\n",
       "    </tr>\n",
       "  </thead>\n",
       "  <tbody>\n",
       "    <tr>\n",
       "      <th>32740</th>\n",
       "      <td>ကိတ် နဲ့ ဂျန် တို့ ကွဲ နေ ခဲ့ တယ် လို့ ကျွန်တော် ကြား ခဲ့ တဲ့ အခါ ကျွန်တော် ထိတ်လန့် ခဲ့ တယ်</td>\n",
       "      <td>ကိတ် နဲ့ ဂျန် တို့ ကွဲ နေ ခဲ့ တယ် လို့ ကျွန် တော် ကြား ခဲ့ တဲ့ အ ခါ ကျွန် တော် ထိတ် လန့် ခဲ့ တယ်</td>\n",
       "      <td>22</td>\n",
       "      <td>ကိတ် နဲ့ ဂျန် တို့ ကွဲ နေ ခဲ့ တယ် လို့ ကျွန် တော် ကြား ခဲ့ တဲ့ အ ခါ ကျွန် တော် ထိတ် လန့် ခဲ့ တယ်</td>\n",
       "    </tr>\n",
       "    <tr>\n",
       "      <th>288857</th>\n",
       "      <td>အရေပြား နေလောင် တာ အပူလျှပ် တာ အရေပြား နီမြန်း ယောင်ယမ်း တာ တွေ က လည်း နွေရာသီ မှာ အဖြစ် များ တဲ့ ပြဿနာ တွေ ပါ ပဲ</td>\n",
       "      <td>အ ရေ ပြား နေ လောင် တာ အ ပူ လျှပ် တာ အ ရေ ပြား နီ မြန်း ယောင် ယမ်း တာ တွေ က လည်း နွေ ရာ သီ မှာ အ ဖြစ် များ တဲ့ ပြ ဿ နာ တွေ ပါ ပဲ</td>\n",
       "      <td>35</td>\n",
       "      <td>အ ရေ ပြား နေ လောင် တာ အ ပူ လျှပ် တာ အ ရေ ပြား နီ မြန်း ယောင် ယမ်း တာ တွေ က လည်း နွေ ရာ သီ မှာ အ ဖြစ် များ တဲဲ့ ပြ ဿ နာ တွေ ပါ ပဲ</td>\n",
       "    </tr>\n",
       "    <tr>\n",
       "      <th>120052</th>\n",
       "      <td>ဒီ စကား ကို ကျွန်တော် တော့ ထောက်ခံ ပါ တယ်</td>\n",
       "      <td>ဒီ စ ကား ကို ကျွန် တော် တော့ ထောက် ခံ ပါ တယ်</td>\n",
       "      <td>11</td>\n",
       "      <td>ဒီ စ ကား ကို ကျွန် တော် တော့ ထောက် ခံ ပါ တယ်</td>\n",
       "    </tr>\n",
       "    <tr>\n",
       "      <th>151994</th>\n",
       "      <td>ပုစွန် အသဲစွဲ လေး တွေ အတွက် ချက် စားစရာ လည်း မ လို အိမ် မှာ ကိုယ်တိုင် လုပ် စားစရာ လည်း မ လို တဲ့ ယိုးဒယား ထုတ် ပုဇွန်ဆိတ် ကြော် ရ နေ ပြီ နော်</td>\n",
       "      <td>ပု စွန် အ သဲ စွဲ လေး တွေ အ တွက် ချက် စား စ ရာ လည်း မ လို အိမ် မှာ ကိုယ် တိုင် လုပ် စား စ ရာ လည်း မ လို တဲ့ ယိုး ဒ ယား ထုတ် ပု ဇွန် ဆိတ် ကြော် ရ နေ ပြီ နော်</td>\n",
       "      <td>40</td>\n",
       "      <td>ပု စွန် အ သဲ စွဲ လေး တွေ အ တွက် ချက် စား စ ရာ လည်း မ လို အိမ် မှာ ကိုယ် တိုင် လုပ် စား စ ရာ လည်း မ လို တဲ့ ယိုး ဒ ယား ထုတ် ပု ဇွန် ဆိတ် ကြော် ရ နေ ပြီ နော်</td>\n",
       "    </tr>\n",
       "    <tr>\n",
       "      <th>228576</th>\n",
       "      <td>သုတေသနပညာရှင် တော်တော်များများ က တော့ ကလေး ငယ် တွေ ဟာ ဗိုက် ထဲ မှာ တည်းက စကား တွေ ကို စ ပြီး နားလည် ဖို့ ကြိုးစား နေ ကြ ပြီ လို့ ဆို ပါ တယ်</td>\n",
       "      <td>သု တေ သ န ပ ညာ ရှင် တော် တော် များ များ က တော့ က လေး ငယ် တွေ ဟာ ဗိုက် ထဲ မှာ တည်း က စ ကား တွေ ကို စ ပြီး နား လည် ဖို့ ကြိုး စား နေ ကြ ပြီ လို့ ဆို ပါ တယ်</td>\n",
       "      <td>41</td>\n",
       "      <td>သု တေ သ န ပ ညာ ရှင် တော့် တော် များ များ က တော့ က လေး ငယ့် တွေ ဟာ ဗိုက် ထဲ မှာ တည်း က စ ကား တွေ ကို့ စ ပြီး နား လည့် ဖို့ ကြိုး စား နေ ကြ့ ပြီ လို့ ဆို့ ပါ တယ့်</td>\n",
       "    </tr>\n",
       "    <tr>\n",
       "      <th>161498</th>\n",
       "      <td>ဘရာ ဝတ် မ ထား သလို ပဲ နေ ရ တာ တအား ပေါ့ပါး တယ်</td>\n",
       "      <td>ဘ ရာ ဝတ် မ ထား သ လို ပဲ နေ ရ တာ တ အား ပေါ့ ပါး တယ်</td>\n",
       "      <td>16</td>\n",
       "      <td>ဘ ရာ ဝတ် မ ထား သ လို ပဲ နေ ရ တာ တ အား ပေါ့ ပါး တယ်</td>\n",
       "    </tr>\n",
       "    <tr>\n",
       "      <th>258755</th>\n",
       "      <td>သူ ဟာ အင်္ဂလိပ် လို ရေး ထား တဲ့ သတင်းစာ တစ် စောင် ကို ဖတ် နိုင် လား</td>\n",
       "      <td>သူ ဟာ အင်္ဂ လိပ် လို ရေး ထား တဲ့ သ တင်း စာ တစ် စောင် ကို ဖတ် နိုင် လား</td>\n",
       "      <td>17</td>\n",
       "      <td>သူ ဟာ အင်္ဂ လိပ် လို ရေး ထား တဲ့ သ တင်း စာ တစ် စောင် ကို ဖတ် နိုင် လား</td>\n",
       "    </tr>\n",
       "    <tr>\n",
       "      <th>78901</th>\n",
       "      <td>ဆိုင်ရှင် အလေးခိုး တာ ပေါ် သွား ခဲ့ တယ်</td>\n",
       "      <td>ဆိုင် ရှင် အ လေး ခိုး တာ ပေါ် သွား ခဲ့ တယ်</td>\n",
       "      <td>10</td>\n",
       "      <td>ဆိုင် ရှင် အ လေး ခိုး တာ ပေါ် သွား ခဲ့ တယ်</td>\n",
       "    </tr>\n",
       "    <tr>\n",
       "      <th>169369</th>\n",
       "      <td>မင်း ခြံ ထဲ မှာ အလုပ်လုပ် မ နေ ခဲ့ ဘူး</td>\n",
       "      <td>မင်း ခြံ ထဲ မှာ အ လုပ် လုပ် မ နေ ခဲ့ ဘူး</td>\n",
       "      <td>11</td>\n",
       "      <td>မင်း ခြံ ထဲ မှာ အ လုပ် လုပ် မ နေ ခဲ့ ဘူး</td>\n",
       "    </tr>\n",
       "    <tr>\n",
       "      <th>309640</th>\n",
       "      <td>အဲဒီလို ညွှန်းဆို ရ လောက် အောင် လည်း ဒီ စာအုပ် ထဲ မှာ လူငယ် တွေ အတွက် တကယ် ကို စိတ်ဝင်စား ဖို့ ကောင်း တဲ့ အကြောင်းအရာ တွေ အများကြီး ပါဝင် ပါ တယ်</td>\n",
       "      <td>အဲ ဒီ လို ညွှန်း ဆို ရ လောက် အောင် လည်း ဒီ စာ အုပ် ထဲ မှာ လူ ငယ် တွေ အ တွက် တ ကယ် ကို စိတ် ဝင် စား ဖို့ ကောင်း တဲ့ အ ကြောင်း အ ရာ တွေ အ များ ကြီး ပါ ဝင် ပါ တယ်</td>\n",
       "      <td>40</td>\n",
       "      <td>အဲ ဒီ လို ညွှန်း ဆို ရ လောက် အောင် လည်း ဒီ စာ အုပ် ထဲ မှာ လူ ငယ် တွေ အ တွက် တ ကယ် ကို စိတ် ဝင် စား ဖို့ ကောင်း တဲ့ အ ကြောင်း အ ရာ တွေ အ များ ကြီး ပါ ဝင် ပါ တယ်</td>\n",
       "    </tr>\n",
       "  </tbody>\n",
       "</table>\n",
       "</div>"
      ],
      "text/plain": [
       "                                                                                                                                                    sent  \\\n",
       "32740   ကိတ် နဲ့ ဂျန် တို့ ကွဲ နေ ခဲ့ တယ် လို့ ကျွန်တော် ကြား ခဲ့ တဲ့ အခါ ကျွန်တော် ထိတ်လန့် ခဲ့ တယ်                                                       \n",
       "288857  အရေပြား နေလောင် တာ အပူလျှပ် တာ အရေပြား နီမြန်း ယောင်ယမ်း တာ တွေ က လည်း နွေရာသီ မှာ အဖြစ် များ တဲ့ ပြဿနာ တွေ ပါ ပဲ                                  \n",
       "120052  ဒီ စကား ကို ကျွန်တော် တော့ ထောက်ခံ ပါ တယ်                                                                                                          \n",
       "151994  ပုစွန် အသဲစွဲ လေး တွေ အတွက် ချက် စားစရာ လည်း မ လို အိမ် မှာ ကိုယ်တိုင် လုပ် စားစရာ လည်း မ လို တဲ့ ယိုးဒယား ထုတ် ပုဇွန်ဆိတ် ကြော် ရ နေ ပြီ နော်     \n",
       "228576  သုတေသနပညာရှင် တော်တော်များများ က တော့ ကလေး ငယ် တွေ ဟာ ဗိုက် ထဲ မှာ တည်းက စကား တွေ ကို စ ပြီး နားလည် ဖို့ ကြိုးစား နေ ကြ ပြီ လို့ ဆို ပါ တယ်        \n",
       "161498  ဘရာ ဝတ် မ ထား သလို ပဲ နေ ရ တာ တအား ပေါ့ပါး တယ်                                                                                                     \n",
       "258755  သူ ဟာ အင်္ဂလိပ် လို ရေး ထား တဲ့ သတင်းစာ တစ် စောင် ကို ဖတ် နိုင် လား                                                                                \n",
       "78901   ဆိုင်ရှင် အလေးခိုး တာ ပေါ် သွား ခဲ့ တယ်                                                                                                            \n",
       "169369  မင်း ခြံ ထဲ မှာ အလုပ်လုပ် မ နေ ခဲ့ ဘူး                                                                                                             \n",
       "309640  အဲဒီလို ညွှန်းဆို ရ လောက် အောင် လည်း ဒီ စာအုပ် ထဲ မှာ လူငယ် တွေ အတွက် တကယ် ကို စိတ်ဝင်စား ဖို့ ကောင်း တဲ့ အကြောင်းအရာ တွေ အများကြီး ပါဝင် ပါ တယ်   \n",
       "\n",
       "                                                                                                                                                               syllable  \\\n",
       "32740   ကိတ် နဲ့ ဂျန် တို့ ကွဲ နေ ခဲ့ တယ် လို့ ကျွန် တော် ကြား ခဲ့ တဲ့ အ ခါ ကျွန် တော် ထိတ် လန့် ခဲ့ တယ်                                                                  \n",
       "288857  အ ရေ ပြား နေ လောင် တာ အ ပူ လျှပ် တာ အ ရေ ပြား နီ မြန်း ယောင် ယမ်း တာ တွေ က လည်း နွေ ရာ သီ မှာ အ ဖြစ် များ တဲ့ ပြ ဿ နာ တွေ ပါ ပဲ                                   \n",
       "120052  ဒီ စ ကား ကို ကျွန် တော် တော့ ထောက် ခံ ပါ တယ်                                                                                                                      \n",
       "151994  ပု စွန် အ သဲ စွဲ လေး တွေ အ တွက် ချက် စား စ ရာ လည်း မ လို အိမ် မှာ ကိုယ် တိုင် လုပ် စား စ ရာ လည်း မ လို တဲ့ ယိုး ဒ ယား ထုတ် ပု ဇွန် ဆိတ် ကြော် ရ နေ ပြီ နော်       \n",
       "228576  သု တေ သ န ပ ညာ ရှင် တော် တော် များ များ က တော့ က လေး ငယ် တွေ ဟာ ဗိုက် ထဲ မှာ တည်း က စ ကား တွေ ကို စ ပြီး နား လည် ဖို့ ကြိုး စား နေ ကြ ပြီ လို့ ဆို ပါ တယ်         \n",
       "161498  ဘ ရာ ဝတ် မ ထား သ လို ပဲ နေ ရ တာ တ အား ပေါ့ ပါး တယ်                                                                                                                \n",
       "258755  သူ ဟာ အင်္ဂ လိပ် လို ရေး ထား တဲ့ သ တင်း စာ တစ် စောင် ကို ဖတ် နိုင် လား                                                                                            \n",
       "78901   ဆိုင် ရှင် အ လေး ခိုး တာ ပေါ် သွား ခဲ့ တယ်                                                                                                                        \n",
       "169369  မင်း ခြံ ထဲ မှာ အ လုပ် လုပ် မ နေ ခဲ့ ဘူး                                                                                                                          \n",
       "309640  အဲ ဒီ လို ညွှန်း ဆို ရ လောက် အောင် လည်း ဒီ စာ အုပ် ထဲ မှာ လူ ငယ် တွေ အ တွက် တ ကယ် ကို စိတ် ဝင် စား ဖို့ ကောင်း တဲ့ အ ကြောင်း အ ရာ တွေ အ များ ကြီး ပါ ဝင် ပါ တယ်   \n",
       "\n",
       "        syl_len  \\\n",
       "32740   22        \n",
       "288857  35        \n",
       "120052  11        \n",
       "151994  40        \n",
       "228576  41        \n",
       "161498  16        \n",
       "258755  17        \n",
       "78901   10        \n",
       "169369  11        \n",
       "309640  40        \n",
       "\n",
       "                                                                                                                                                              error_sent  \n",
       "32740   ကိတ် နဲ့ ဂျန် တို့ ကွဲ နေ ခဲ့ တယ် လို့ ကျွန် တော် ကြား ခဲ့ တဲ့ အ ခါ ကျွန် တော် ထိတ် လန့် ခဲ့ တယ်                                                                  \n",
       "288857  အ ရေ ပြား နေ လောင် တာ အ ပူ လျှပ် တာ အ ရေ ပြား နီ မြန်း ယောင် ယမ်း တာ တွေ က လည်း နွေ ရာ သီ မှာ အ ဖြစ် များ တဲဲ့ ပြ ဿ နာ တွေ ပါ ပဲ                                  \n",
       "120052  ဒီ စ ကား ကို ကျွန် တော် တော့ ထောက် ခံ ပါ တယ်                                                                                                                      \n",
       "151994  ပု စွန် အ သဲ စွဲ လေး တွေ အ တွက် ချက် စား စ ရာ လည်း မ လို အိမ် မှာ ကိုယ် တိုင် လုပ် စား စ ရာ လည်း မ လို တဲ့ ယိုး ဒ ယား ထုတ် ပု ဇွန် ဆိတ် ကြော် ရ နေ ပြီ နော်       \n",
       "228576  သု တေ သ န ပ ညာ ရှင် တော့် တော် များ များ က တော့ က လေး ငယ့် တွေ ဟာ ဗိုက် ထဲ မှာ တည်း က စ ကား တွေ ကို့ စ ပြီး နား လည့် ဖို့ ကြိုး စား နေ ကြ့ ပြီ လို့ ဆို့ ပါ တယ့်  \n",
       "161498  ဘ ရာ ဝတ် မ ထား သ လို ပဲ နေ ရ တာ တ အား ပေါ့ ပါး တယ်                                                                                                                \n",
       "258755  သူ ဟာ အင်္ဂ လိပ် လို ရေး ထား တဲ့ သ တင်း စာ တစ် စောင် ကို ဖတ် နိုင် လား                                                                                            \n",
       "78901   ဆိုင် ရှင် အ လေး ခိုး တာ ပေါ် သွား ခဲ့ တယ်                                                                                                                        \n",
       "169369  မင်း ခြံ ထဲ မှာ အ လုပ် လုပ် မ နေ ခဲ့ ဘူး                                                                                                                          \n",
       "309640  အဲ ဒီ လို ညွှန်း ဆို ရ လောက် အောင် လည်း ဒီ စာ အုပ် ထဲ မှာ လူ ငယ် တွေ အ တွက် တ ကယ် ကို စိတ် ဝင် စား ဖို့ ကောင်း တဲ့ အ ကြောင်း အ ရာ တွေ အ များ ကြီး ပါ ဝင် ပါ တယ်   "
      ]
     },
     "execution_count": 45,
     "metadata": {},
     "output_type": "execute_result"
    }
   ],
   "source": [
    "df.sample(10)"
   ]
  },
  {
   "cell_type": "code",
   "execution_count": 46,
   "id": "fcc1e96c",
   "metadata": {},
   "outputs": [
    {
     "data": {
      "text/html": [
       "<div>\n",
       "<style scoped>\n",
       "    .dataframe tbody tr th:only-of-type {\n",
       "        vertical-align: middle;\n",
       "    }\n",
       "\n",
       "    .dataframe tbody tr th {\n",
       "        vertical-align: top;\n",
       "    }\n",
       "\n",
       "    .dataframe thead th {\n",
       "        text-align: right;\n",
       "    }\n",
       "</style>\n",
       "<table border=\"1\" class=\"dataframe\">\n",
       "  <thead>\n",
       "    <tr style=\"text-align: right;\">\n",
       "      <th></th>\n",
       "      <th>sent</th>\n",
       "      <th>syllable</th>\n",
       "      <th>syl_len</th>\n",
       "      <th>error_sent</th>\n",
       "    </tr>\n",
       "  </thead>\n",
       "  <tbody>\n",
       "    <tr>\n",
       "      <th>69572</th>\n",
       "      <td>စာ ကြိုးစား ကျက် ခြင် းဖြင့် သင် စာမေးပွဲ အောင်မြင် နိုင် သည်</td>\n",
       "      <td>စာ ကြိုး စား ကျက် ခြင် း ဖြင့် သင် စာ မေး ပွဲ အောင် မြင် နိုင် သည်</td>\n",
       "      <td>15</td>\n",
       "      <td>စာ ကြိုး စား ကျက် ခြင်  ဖြင် သင် စာ မေ ပဲ အောင် မြင် နိုင် သည်</td>\n",
       "    </tr>\n",
       "    <tr>\n",
       "      <th>87543</th>\n",
       "      <td>တကယ်လို ့ သွေးဆင်း တာ က ခဏ ပဲ ဆိုရင် စိုးရိမ် စရာ မ ရှိ ပါ ဘူး</td>\n",
       "      <td>တ ကယ် လို ့ သွေး ဆင်း တာ က ခ ဏ ပဲ ဆို ရင် စိုး ရိမ် စ ရာ မ ရှိ ပါ ဘူး</td>\n",
       "      <td>21</td>\n",
       "      <td>တ ကယ် လို  သွေ ဆင်း တာ က ခ ဏ ပဲ ဆို ရင် စို ရိမ် စ ရာ မ ရှိ ပါ ဘူ</td>\n",
       "    </tr>\n",
       "    <tr>\n",
       "      <th>98855</th>\n",
       "      <td>တိုက်ဖွိုက် အဖြစ်များ တဲ့ နေရာ ဒေသ တွေ သွား ရ တော့ မယ် ဆိုရင် လည်း တစ် ပတ် နှစ် ပတ် လောက် ကြိုတင် ပြီး တိုက်ဖွိုက် ကာကွယ်ဆေး အသုံးပြု ခြင် းဖြင့် လည်း ကာကွယ် နိုင် ပါ တယ်</td>\n",
       "      <td>တိုက် ဖွိုက် အ ဖြစ် များ တဲ့ နေ ရာ ဒေ သ တွေ သွား ရ တော့ မယ် ဆို ရင် လည်း တစ် ပတ် နှစ် ပတ် လောက် ကြို တင် ပြီး တိုက် ဖွိုက် ကာ ကွယ် ဆေး အ သုံး ပြု ခြင် း ဖြင့် လည်း ကာ ကွယ် နိုင် ပါ တယ်</td>\n",
       "      <td>43</td>\n",
       "      <td>တိုက် ဖွိုက် အ ဖြစ် များ တဲ နေ ရာ ဒေ သ တေ သွား ရ တော့ မယ် ဆို ရင် လည် တစ် ပတ် နှစ် ပတ် လောက် ကြို တင် ပြီ တိုက် ဖွိုက် ကာ ကယ် ဆေ အ သုံ ပြု ခြင်  ဖြင့် လည် ကာ ကယ် နိုင် ပါ တယ်</td>\n",
       "    </tr>\n",
       "    <tr>\n",
       "      <th>124468</th>\n",
       "      <td>ဒီ လရဲ ့ အံ့ဖွယ် ထူးခြား ရောဂါ များ အစီအစဉ် မှာ သစ်ပင် လူသား ရောဂါ နဲ့ ပတ်သက် တဲ့ အကြောင်းအရာ တွေ ကို ပရိသတ်ကြီး ဆီ ကို ပြောပြ ပေး သွား တာ ပဲ ဖြစ် ပါ တယ်</td>\n",
       "      <td>ဒီ လ ရဲ ့ အံ့ ဖွယ် ထူး ခြား ရော ဂါ များ အ စီ အ စဉ် မှာ သစ် ပင် လူ သား ရော ဂါ နဲ့ ပတ် သက် တဲ့ အ ကြောင်း အ ရာ တွေ ကို ပ ရိ သတ် ကြီး ဆီ ကို ပြော ပြ ပေး သွား တာ ပဲ ဖြစ် ပါ တယ်</td>\n",
       "      <td>47</td>\n",
       "      <td>ဒီ လ ရဲ  အံ့ ဖွယ် ထူး ခြား ရော ဂါ များ အ စီ အ စဉ် မှာ သစ် ပင် လူ သား ရော ဂါ နဲ့ ပတ် သက် တဲ အ ကြောင်း အ ရာ တွေ ကို ပ ရိ သတ် ကြီး ဆီ ကို ပြော ပြ ပေး သွား တာ ပဲ ဖြစ် ပါ တယ်</td>\n",
       "    </tr>\n",
       "  </tbody>\n",
       "</table>\n",
       "</div>"
      ],
      "text/plain": [
       "                                                                                                                                                                              sent  \\\n",
       "69572   စာ ကြိုးစား ကျက် ခြင် းဖြင့် သင် စာမေးပွဲ အောင်မြင် နိုင် သည်                                                                                                                \n",
       "87543   တကယ်လို ့ သွေးဆင်း တာ က ခဏ ပဲ ဆိုရင် စိုးရိမ် စရာ မ ရှိ ပါ ဘူး                                                                                                               \n",
       "98855   တိုက်ဖွိုက် အဖြစ်များ တဲ့ နေရာ ဒေသ တွေ သွား ရ တော့ မယ် ဆိုရင် လည်း တစ် ပတ် နှစ် ပတ် လောက် ကြိုတင် ပြီး တိုက်ဖွိုက် ကာကွယ်ဆေး အသုံးပြု ခြင် းဖြင့် လည်း ကာကွယ် နိုင် ပါ တယ်   \n",
       "124468  ဒီ လရဲ ့ အံ့ဖွယ် ထူးခြား ရောဂါ များ အစီအစဉ် မှာ သစ်ပင် လူသား ရောဂါ နဲ့ ပတ်သက် တဲ့ အကြောင်းအရာ တွေ ကို ပရိသတ်ကြီး ဆီ ကို ပြောပြ ပေး သွား တာ ပဲ ဖြစ် ပါ တယ်                    \n",
       "\n",
       "                                                                                                                                                                                        syllable  \\\n",
       "69572   စာ ကြိုး စား ကျက် ခြင် း ဖြင့် သင် စာ မေး ပွဲ အောင် မြင် နိုင် သည်                                                                                                                         \n",
       "87543   တ ကယ် လို ့ သွေး ဆင်း တာ က ခ ဏ ပဲ ဆို ရင် စိုး ရိမ် စ ရာ မ ရှိ ပါ ဘူး                                                                                                                      \n",
       "98855   တိုက် ဖွိုက် အ ဖြစ် များ တဲ့ နေ ရာ ဒေ သ တွေ သွား ရ တော့ မယ် ဆို ရင် လည်း တစ် ပတ် နှစ် ပတ် လောက် ကြို တင် ပြီး တိုက် ဖွိုက် ကာ ကွယ် ဆေး အ သုံး ပြု ခြင် း ဖြင့် လည်း ကာ ကွယ် နိုင် ပါ တယ်   \n",
       "124468  ဒီ လ ရဲ ့ အံ့ ဖွယ် ထူး ခြား ရော ဂါ များ အ စီ အ စဉ် မှာ သစ် ပင် လူ သား ရော ဂါ နဲ့ ပတ် သက် တဲ့ အ ကြောင်း အ ရာ တွေ ကို ပ ရိ သတ် ကြီး ဆီ ကို ပြော ပြ ပေး သွား တာ ပဲ ဖြစ် ပါ တယ်                \n",
       "\n",
       "        syl_len  \\\n",
       "69572   15        \n",
       "87543   21        \n",
       "98855   43        \n",
       "124468  47        \n",
       "\n",
       "                                                                                                                                                                            error_sent  \n",
       "69572   စာ ကြိုး စား ကျက် ခြင်  ဖြင် သင် စာ မေ ပဲ အောင် မြင် နိုင် သည်                                                                                                                  \n",
       "87543   တ ကယ် လို  သွေ ဆင်း တာ က ခ ဏ ပဲ ဆို ရင် စို ရိမ် စ ရာ မ ရှိ ပါ ဘူ                                                                                                               \n",
       "98855   တိုက် ဖွိုက် အ ဖြစ် များ တဲ နေ ရာ ဒေ သ တေ သွား ရ တော့ မယ် ဆို ရင် လည် တစ် ပတ် နှစ် ပတ် လောက် ကြို တင် ပြီ တိုက် ဖွိုက် ကာ ကယ် ဆေ အ သုံ ပြု ခြင်  ဖြင့် လည် ကာ ကယ် နိုင် ပါ တယ်  \n",
       "124468  ဒီ လ ရဲ  အံ့ ဖွယ် ထူး ခြား ရော ဂါ များ အ စီ အ စဉ် မှာ သစ် ပင် လူ သား ရော ဂါ နဲ့ ပတ် သက် တဲ အ ကြောင်း အ ရာ တွေ ကို ပ ရိ သတ် ကြီး ဆီ ကို ပြော ပြ ပေး သွား တာ ပဲ ဖြစ် ပါ တယ်       "
      ]
     },
     "execution_count": 46,
     "metadata": {},
     "output_type": "execute_result"
    }
   ],
   "source": [
    "# check mulitple spaces of error_sent\n",
    "pattern = r'\\s{2}'\n",
    "df[df['error_sent'].str.contains(pattern)]"
   ]
  },
  {
   "cell_type": "code",
   "execution_count": 47,
   "id": "c0b0f5c7",
   "metadata": {},
   "outputs": [
    {
     "data": {
      "text/plain": [
       "(302798, 4)"
      ]
     },
     "execution_count": 47,
     "metadata": {},
     "output_type": "execute_result"
    }
   ],
   "source": [
    "df.shape"
   ]
  },
  {
   "cell_type": "code",
   "execution_count": 48,
   "id": "0b559a4b",
   "metadata": {},
   "outputs": [
    {
     "data": {
      "text/html": [
       "<div>\n",
       "<style scoped>\n",
       "    .dataframe tbody tr th:only-of-type {\n",
       "        vertical-align: middle;\n",
       "    }\n",
       "\n",
       "    .dataframe tbody tr th {\n",
       "        vertical-align: top;\n",
       "    }\n",
       "\n",
       "    .dataframe thead th {\n",
       "        text-align: right;\n",
       "    }\n",
       "</style>\n",
       "<table border=\"1\" class=\"dataframe\">\n",
       "  <thead>\n",
       "    <tr style=\"text-align: right;\">\n",
       "      <th></th>\n",
       "      <th>sent</th>\n",
       "      <th>syllable</th>\n",
       "      <th>syl_len</th>\n",
       "      <th>error_sent</th>\n",
       "    </tr>\n",
       "  </thead>\n",
       "  <tbody>\n",
       "  </tbody>\n",
       "</table>\n",
       "</div>"
      ],
      "text/plain": [
       "Empty DataFrame\n",
       "Columns: [sent, syllable, syl_len, error_sent]\n",
       "Index: []"
      ]
     },
     "execution_count": 48,
     "metadata": {},
     "output_type": "execute_result"
    }
   ],
   "source": [
    "# fix and recheck\n",
    "df['error_sent'] = df['error_sent'].str.replace(r'\\s+', ' ', regex=True)\n",
    "pattern = r'\\s{2}'\n",
    "df[df['error_sent'].str.contains(pattern)]"
   ]
  },
  {
   "cell_type": "code",
   "execution_count": 49,
   "id": "c239f24e",
   "metadata": {},
   "outputs": [
    {
     "data": {
      "text/plain": [
       "(302798, 4)"
      ]
     },
     "execution_count": 49,
     "metadata": {},
     "output_type": "execute_result"
    }
   ],
   "source": [
    "df.shape"
   ]
  },
  {
   "cell_type": "code",
   "execution_count": 50,
   "id": "c6f2adae",
   "metadata": {},
   "outputs": [
    {
     "data": {
      "text/html": [
       "<div>\n",
       "<style scoped>\n",
       "    .dataframe tbody tr th:only-of-type {\n",
       "        vertical-align: middle;\n",
       "    }\n",
       "\n",
       "    .dataframe tbody tr th {\n",
       "        vertical-align: top;\n",
       "    }\n",
       "\n",
       "    .dataframe thead th {\n",
       "        text-align: right;\n",
       "    }\n",
       "</style>\n",
       "<table border=\"1\" class=\"dataframe\">\n",
       "  <thead>\n",
       "    <tr style=\"text-align: right;\">\n",
       "      <th></th>\n",
       "      <th>sent</th>\n",
       "      <th>syllable</th>\n",
       "      <th>syl_len</th>\n",
       "      <th>error_sent</th>\n",
       "    </tr>\n",
       "  </thead>\n",
       "  <tbody>\n",
       "    <tr>\n",
       "      <th>0</th>\n",
       "      <td>ကံ က ဆိုး ချင် တော့ နေ စရာ အိမ် ရော သူ တို့ နှစ်ယောက် ရဲ့ ချစ်လှ စွာ သော မဟေသီ နှစ်ယောက် ပါ မ တွေ့ တော့ နှစ်ကောင် လုံး ဘုံပျောက် ပြီ ပေါ့</td>\n",
       "      <td>ကံ က ဆိုး ချင် တော့ နေ စ ရာ အိမ် ရော သူ တို့ နှစ် ယောက် ရဲ့ ချစ် လှ စွာ သော မ ဟေ သီ နှစ် ယောက် ပါ မ တွေ့ တော့ နှစ် ကောင် လုံး ဘုံ ပျောက် ပြီ ပေါ့</td>\n",
       "      <td>35</td>\n",
       "      <td>ကံ က ဆိုး ချင် တော့ နေ စ ရာ အိမ် ရော သူ တို နှစ် ယောက် ရဲ ချစ် လှ စွာ သော မ ဟေ သီ နှစ် ယောက် ပါ မ တွေ တော့ နှစ် ကောင် လုံး ဘုံ ပျောက် ပြီ ပေါ</td>\n",
       "    </tr>\n",
       "    <tr>\n",
       "      <th>1</th>\n",
       "      <td>ကံ က ဆိုး ချင် တော့ သူရိန်မင်း က သူ့ မိန်းမ အတွယ်တာ ကလေးမွေး တဲ့ နေ့ မှာ ဆုံး သွား ပြီ တဲ့</td>\n",
       "      <td>ကံ က ဆိုး ချင် တော့ သူ ရိန် မင်း က သူ့ မိန်း မ အ တွယ် တာ က လေး မွေး တဲ့ နေ့ မှာ ဆုံး သွား ပြီ တဲ့</td>\n",
       "      <td>25</td>\n",
       "      <td>ကံ က ဆို ချင် တော့ သူ ရိန် မင်း က သူ မိန် မ အ တွယ် တာ က လေ မွေ တဲ နေ မှာ ဆုံ သွာ ပီ တဲ</td>\n",
       "    </tr>\n",
       "    <tr>\n",
       "      <th>4</th>\n",
       "      <td>ကံကြမ္မာ က ကျွန်တော် တို့ အောင်မြင် ဖို့ ကျွန်တော် တို့ ကို မျက်နှာသာ ပေး ခဲ့ တယ်</td>\n",
       "      <td>ကံ ကြမ္မာ က ကျွန် တော် တို့ အောင် မြင် ဖို့ ကျွန် တော် တို့ ကို မျက် နှာ သာ ပေး ခဲ့ တယ်</td>\n",
       "      <td>19</td>\n",
       "      <td>ကံ ကြမ္မာ က ကျွန်် တော်် တိို့ အောင် မြင်် ဖိို့ ကျွန်် တော်် တိို့ ကိို မျက်် နှာ သာ ပေး ခဲဲ့ တယ််</td>\n",
       "    </tr>\n",
       "    <tr>\n",
       "      <th>5</th>\n",
       "      <td>ကံကြမ္မာ က ကျွန်တော် တို့ အောင်မြင် ဖို့ မျက်နှာသာ ပေး ခဲ့ တယ်</td>\n",
       "      <td>ကံ ကြမ္မာ က ကျွန် တော် တို့ အောင် မြင် ဖို့ မျက် နှာ သာ ပေး ခဲ့ တယ်</td>\n",
       "      <td>15</td>\n",
       "      <td>ကံံ ကြမ္မာ က ကျွန် တော် တို့ အောင် မြင် ဖို့ မျက် နှာ သာ ပေး ခဲ့ တယ်</td>\n",
       "    </tr>\n",
       "    <tr>\n",
       "      <th>6</th>\n",
       "      <td>ကံကြမ္မာ က ရဲရင့် သူ ကို အခွင့်အရေး ပေး တယ်</td>\n",
       "      <td>ကံ ကြမ္မာ က ရဲ ရင့် သူ ကို အ ခွင့် အ ရေး ပေး တယ်</td>\n",
       "      <td>13</td>\n",
       "      <td>ကံ ကြမ္မာ က ရဲ ရင့် သူ ဂို အ ခွင့် အ ရေး ပေး တယ်</td>\n",
       "    </tr>\n",
       "  </tbody>\n",
       "</table>\n",
       "</div>"
      ],
      "text/plain": [
       "                                                                                                                                        sent  \\\n",
       "0  ကံ က ဆိုး ချင် တော့ နေ စရာ အိမ် ရော သူ တို့ နှစ်ယောက် ရဲ့ ချစ်လှ စွာ သော မဟေသီ နှစ်ယောက် ပါ မ တွေ့ တော့ နှစ်ကောင် လုံး ဘုံပျောက် ပြီ ပေါ့   \n",
       "1  ကံ က ဆိုး ချင် တော့ သူရိန်မင်း က သူ့ မိန်းမ အတွယ်တာ ကလေးမွေး တဲ့ နေ့ မှာ ဆုံး သွား ပြီ တဲ့                                                  \n",
       "4  ကံကြမ္မာ က ကျွန်တော် တို့ အောင်မြင် ဖို့ ကျွန်တော် တို့ ကို မျက်နှာသာ ပေး ခဲ့ တယ်                                                           \n",
       "5  ကံကြမ္မာ က ကျွန်တော် တို့ အောင်မြင် ဖို့ မျက်နှာသာ ပေး ခဲ့ တယ်                                                                              \n",
       "6  ကံကြမ္မာ က ရဲရင့် သူ ကို အခွင့်အရေး ပေး တယ်                                                                                                 \n",
       "\n",
       "                                                                                                                                            syllable  \\\n",
       "0  ကံ က ဆိုး ချင် တော့ နေ စ ရာ အိမ် ရော သူ တို့ နှစ် ယောက် ရဲ့ ချစ် လှ စွာ သော မ ဟေ သီ နှစ် ယောက် ပါ မ တွေ့ တော့ နှစ် ကောင် လုံး ဘုံ ပျောက် ပြီ ပေါ့   \n",
       "1  ကံ က ဆိုး ချင် တော့ သူ ရိန် မင်း က သူ့ မိန်း မ အ တွယ် တာ က လေး မွေး တဲ့ နေ့ မှာ ဆုံး သွား ပြီ တဲ့                                                   \n",
       "4  ကံ ကြမ္မာ က ကျွန် တော် တို့ အောင် မြင် ဖို့ ကျွန် တော် တို့ ကို မျက် နှာ သာ ပေး ခဲ့ တယ်                                                             \n",
       "5  ကံ ကြမ္မာ က ကျွန် တော် တို့ အောင် မြင် ဖို့ မျက် နှာ သာ ပေး ခဲ့ တယ်                                                                                 \n",
       "6  ကံ ကြမ္မာ က ရဲ ရင့် သူ ကို အ ခွင့် အ ရေး ပေး တယ်                                                                                                    \n",
       "\n",
       "   syl_len  \\\n",
       "0  35        \n",
       "1  25        \n",
       "4  19        \n",
       "5  15        \n",
       "6  13        \n",
       "\n",
       "                                                                                                                                      error_sent  \n",
       "0  ကံ က ဆိုး ချင် တော့ နေ စ ရာ အိမ် ရော သူ တို နှစ် ယောက် ရဲ ချစ် လှ စွာ သော မ ဟေ သီ နှစ် ယောက် ပါ မ တွေ တော့ နှစ် ကောင် လုံး ဘုံ ပျောက် ပြီ ပေါ  \n",
       "1  ကံ က ဆို ချင် တော့ သူ ရိန် မင်း က သူ မိန် မ အ တွယ် တာ က လေ မွေ တဲ နေ မှာ ဆုံ သွာ ပီ တဲ                                                         \n",
       "4  ကံ ကြမ္မာ က ကျွန်် တော်် တိို့ အောင် မြင်် ဖိို့ ကျွန်် တော်် တိို့ ကိို မျက်် နှာ သာ ပေး ခဲဲ့ တယ််                                            \n",
       "5  ကံံ ကြမ္မာ က ကျွန် တော် တို့ အောင် မြင် ဖို့ မျက် နှာ သာ ပေး ခဲ့ တယ်                                                                           \n",
       "6  ကံ ကြမ္မာ က ရဲ ရင့် သူ ဂို အ ခွင့် အ ရေး ပေး တယ်                                                                                               "
      ]
     },
     "execution_count": 50,
     "metadata": {},
     "output_type": "execute_result"
    }
   ],
   "source": [
    "df.head()"
   ]
  },
  {
   "cell_type": "code",
   "execution_count": 51,
   "id": "2fb5e5df",
   "metadata": {},
   "outputs": [
    {
     "data": {
      "text/html": [
       "<div>\n",
       "<style scoped>\n",
       "    .dataframe tbody tr th:only-of-type {\n",
       "        vertical-align: middle;\n",
       "    }\n",
       "\n",
       "    .dataframe tbody tr th {\n",
       "        vertical-align: top;\n",
       "    }\n",
       "\n",
       "    .dataframe thead th {\n",
       "        text-align: right;\n",
       "    }\n",
       "</style>\n",
       "<table border=\"1\" class=\"dataframe\">\n",
       "  <thead>\n",
       "    <tr style=\"text-align: right;\">\n",
       "      <th></th>\n",
       "      <th>sent</th>\n",
       "      <th>syllable</th>\n",
       "      <th>syl_len</th>\n",
       "      <th>error_sent</th>\n",
       "      <th>err_len</th>\n",
       "    </tr>\n",
       "  </thead>\n",
       "  <tbody>\n",
       "    <tr>\n",
       "      <th>1059</th>\n",
       "      <td>ကန့်သတ် လူဦးရေ နဲ့ တကယ် တတ်မြောက် အောင် သင်ကြား ပေး နေ တာ မို့ လူ မ ပြည့် ခင် မြန်မြန် လေး စာရင်း ပေးသွင်း ဖို့ တိုက်တွန်း ပါ ရ စေ</td>\n",
       "      <td>ကန့် သတ် လူ ဦး ရေ နဲ့ တ ကယ် တတ် မြောက် အောင် သင် ကြား ပေး နေ တာ မို့ လူ မ ပြည့် ခင် မြန် မြန် လေး စာ ရင်း ပေး သွင်း ဖို့ တိုက် တွန်း ပါ ရ စေ</td>\n",
       "      <td>34</td>\n",
       "      <td>ကန့့် သတ် လူ့ ဦး ရေ နဲ့ တ ကယ် တတ့် မြောက် အောင် သင့် ကြား ပေး နေ တာ မို့ လူ့ မ ပြည့့် ခင့် မြန့် မြန် လေး စာ ရင်း ပေး သွင်း ဖို့ တိုက် တွန်း ပါ ရ စေ</td>\n",
       "      <td>34</td>\n",
       "    </tr>\n",
       "  </tbody>\n",
       "</table>\n",
       "</div>"
      ],
      "text/plain": [
       "                                                                                                                                    sent  \\\n",
       "1059  ကန့်သတ် လူဦးရေ နဲ့ တကယ် တတ်မြောက် အောင် သင်ကြား ပေး နေ တာ မို့ လူ မ ပြည့် ခင် မြန်မြန် လေး စာရင်း ပေးသွင်း ဖို့ တိုက်တွန်း ပါ ရ စေ   \n",
       "\n",
       "                                                                                                                                          syllable  \\\n",
       "1059  ကန့် သတ် လူ ဦး ရေ နဲ့ တ ကယ် တတ် မြောက် အောင် သင် ကြား ပေး နေ တာ မို့ လူ မ ပြည့် ခင် မြန် မြန် လေး စာ ရင်း ပေး သွင်း ဖို့ တိုက် တွန်း ပါ ရ စေ   \n",
       "\n",
       "      syl_len  \\\n",
       "1059  34        \n",
       "\n",
       "                                                                                                                                                error_sent  \\\n",
       "1059  ကန့့် သတ် လူ့ ဦး ရေ နဲ့ တ ကယ် တတ့် မြောက် အောင် သင့် ကြား ပေး နေ တာ မို့ လူ့ မ ပြည့့် ခင့် မြန့် မြန် လေး စာ ရင်း ပေး သွင်း ဖို့ တိုက် တွန်း ပါ ရ စေ   \n",
       "\n",
       "      err_len  \n",
       "1059  34       "
      ]
     },
     "execution_count": 51,
     "metadata": {},
     "output_type": "execute_result"
    }
   ],
   "source": [
    "# check syl length mismatch\n",
    "\n",
    "df[\"err_len\"] = df['error_sent'].apply(word_length)\n",
    "df.loc[:, \"syl_len\"] = df['syllable'].apply(word_length)\n",
    "df.sample()"
   ]
  },
  {
   "cell_type": "code",
   "execution_count": 52,
   "id": "2b1e6e36",
   "metadata": {},
   "outputs": [
    {
     "data": {
      "text/html": [
       "<div>\n",
       "<style scoped>\n",
       "    .dataframe tbody tr th:only-of-type {\n",
       "        vertical-align: middle;\n",
       "    }\n",
       "\n",
       "    .dataframe tbody tr th {\n",
       "        vertical-align: top;\n",
       "    }\n",
       "\n",
       "    .dataframe thead th {\n",
       "        text-align: right;\n",
       "    }\n",
       "</style>\n",
       "<table border=\"1\" class=\"dataframe\">\n",
       "  <thead>\n",
       "    <tr style=\"text-align: right;\">\n",
       "      <th></th>\n",
       "      <th>sent</th>\n",
       "      <th>syllable</th>\n",
       "      <th>syl_len</th>\n",
       "      <th>error_sent</th>\n",
       "      <th>err_len</th>\n",
       "    </tr>\n",
       "  </thead>\n",
       "  <tbody>\n",
       "    <tr>\n",
       "      <th>58834</th>\n",
       "      <td>ငါ စဉ်းစား မိ သလောက် တော့ သူမ နေမကောင်း တာ ပဲ ဖြစ် မယ် ဟု ဆာရာ က ဆို သည်</td>\n",
       "      <td>ငါ စဉ်း စား မိ သ လောက် တော့ သူ မ နေ မ ကောင်း တာ ပဲ ဖြစ် မယ် ဟု ဆာ ရာ က ဆို သည်</td>\n",
       "      <td>23</td>\n",
       "      <td>ငါ စဉ်း စား မိ သ လောက် တော့ သူ မ နေ မ ကောင်း တာ ပဲဲ ဖြစ် မယ် ဟု ဆာ ရာ က ဆို သည်</td>\n",
       "      <td>22</td>\n",
       "    </tr>\n",
       "    <tr>\n",
       "      <th>69572</th>\n",
       "      <td>စာ ကြိုးစား ကျက် ခြင် းဖြင့် သင် စာမေးပွဲ အောင်မြင် နိုင် သည်</td>\n",
       "      <td>စာ ကြိုး စား ကျက် ခြင် း ဖြင့် သင် စာ မေး ပွဲ အောင် မြင် နိုင် သည်</td>\n",
       "      <td>15</td>\n",
       "      <td>စာ ကြိုး စား ကျက် ခြင် ဖြင် သင် စာ မေ ပဲ အောင် မြင် နိုင် သည်</td>\n",
       "      <td>14</td>\n",
       "    </tr>\n",
       "    <tr>\n",
       "      <th>87543</th>\n",
       "      <td>တကယ်လို ့ သွေးဆင်း တာ က ခဏ ပဲ ဆိုရင် စိုးရိမ် စရာ မ ရှိ ပါ ဘူး</td>\n",
       "      <td>တ ကယ် လို ့ သွေး ဆင်း တာ က ခ ဏ ပဲ ဆို ရင် စိုး ရိမ် စ ရာ မ ရှိ ပါ ဘူး</td>\n",
       "      <td>21</td>\n",
       "      <td>တ ကယ် လို သွေ ဆင်း တာ က ခ ဏ ပဲ ဆို ရင် စို ရိမ် စ ရာ မ ရှိ ပါ ဘူ</td>\n",
       "      <td>20</td>\n",
       "    </tr>\n",
       "    <tr>\n",
       "      <th>98855</th>\n",
       "      <td>တိုက်ဖွိုက် အဖြစ်များ တဲ့ နေရာ ဒေသ တွေ သွား ရ တော့ မယ် ဆိုရင် လည်း တစ် ပတ် နှစ် ပတ် လောက် ကြိုတင် ပြီး တိုက်ဖွိုက် ကာကွယ်ဆေး အသုံးပြု ခြင် းဖြင့် လည်း ကာကွယ် နိုင် ပါ တယ်</td>\n",
       "      <td>တိုက် ဖွိုက် အ ဖြစ် များ တဲ့ နေ ရာ ဒေ သ တွေ သွား ရ တော့ မယ် ဆို ရင် လည်း တစ် ပတ် နှစ် ပတ် လောက် ကြို တင် ပြီး တိုက် ဖွိုက် ကာ ကွယ် ဆေး အ သုံး ပြု ခြင် း ဖြင့် လည်း ကာ ကွယ် နိုင် ပါ တယ်</td>\n",
       "      <td>43</td>\n",
       "      <td>တိုက် ဖွိုက် အ ဖြစ် များ တဲ နေ ရာ ဒေ သ တေ သွား ရ တော့ မယ် ဆို ရင် လည် တစ် ပတ် နှစ် ပတ် လောက် ကြို တင် ပြီ တိုက် ဖွိုက် ကာ ကယ် ဆေ အ သုံ ပြု ခြင် ဖြင့် လည် ကာ ကယ် နိုင် ပါ တယ်</td>\n",
       "      <td>42</td>\n",
       "    </tr>\n",
       "    <tr>\n",
       "      <th>124468</th>\n",
       "      <td>ဒီ လရဲ ့ အံ့ဖွယ် ထူးခြား ရောဂါ များ အစီအစဉ် မှာ သစ်ပင် လူသား ရောဂါ နဲ့ ပတ်သက် တဲ့ အကြောင်းအရာ တွေ ကို ပရိသတ်ကြီး ဆီ ကို ပြောပြ ပေး သွား တာ ပဲ ဖြစ် ပါ တယ်</td>\n",
       "      <td>ဒီ လ ရဲ ့ အံ့ ဖွယ် ထူး ခြား ရော ဂါ များ အ စီ အ စဉ် မှာ သစ် ပင် လူ သား ရော ဂါ နဲ့ ပတ် သက် တဲ့ အ ကြောင်း အ ရာ တွေ ကို ပ ရိ သတ် ကြီး ဆီ ကို ပြော ပြ ပေး သွား တာ ပဲ ဖြစ် ပါ တယ်</td>\n",
       "      <td>47</td>\n",
       "      <td>ဒီ လ ရဲ အံ့ ဖွယ် ထူး ခြား ရော ဂါ များ အ စီ အ စဉ် မှာ သစ် ပင် လူ သား ရော ဂါ နဲ့ ပတ် သက် တဲ အ ကြောင်း အ ရာ တွေ ကို ပ ရိ သတ် ကြီး ဆီ ကို ပြော ပြ ပေး သွား တာ ပဲ ဖြစ် ပါ တယ်</td>\n",
       "      <td>46</td>\n",
       "    </tr>\n",
       "    <tr>\n",
       "      <th>251412</th>\n",
       "      <td>သူမ သာ အသိတရား ရှိ ရင် သူမ က သူ့ ကို အကြီးအကျယ် စော်ကား ခဲ့ တဲ့ အဲသည်လို မေးခွန်း မျိုး ကို သူမ မေး ခဲ့ မှာ မ ဟုတ် ဘူး</td>\n",
       "      <td>သူ မ သာ အ သိ တ ရား ရှိ ရင် သူ မ က သူ့ ကို အ ကြီး အ ကျယ် စော် ကား ခဲ့ တဲ့ အဲ သည် လို မေး ခွန်း မျိုး ကို သူ မ မေး ခဲ့ မှာ မ ဟုတ် ဘူး</td>\n",
       "      <td>38</td>\n",
       "      <td>သူ မ သာ အ သိ တ ရား ရှိ ရင် သူး မ က သူ့ ကိုး အ ကြီး အ ကျယ် စော် ကား ခဲ့ တဲ့ အဲ သည် လို မေး ခွန်း မျိုး ကိုး သူ မ မေး ခဲ့ မှာ မ ဟုတ် ဘူး</td>\n",
       "      <td>37</td>\n",
       "    </tr>\n",
       "    <tr>\n",
       "      <th>260706</th>\n",
       "      <td>သူ အဲ သည် လို လုပ် နေ တာ ကြာ ပြီ သူ တို့ ဌာနမှူး က နေမကောင်း လို့ ခွင့်ယူ ထား တယ် သူ့ နေရာ ကို တာဝန်ယူ တဲ့ သူ က လည်း နည်းနည်း ပျော့ တယ် ဟု မက်ဂ် က ပြော သည်</td>\n",
       "      <td>သူ အဲ သည် လို လုပ် နေ တာ ကြာ ပြီ သူ တို့ ဌာ န မှူး က နေ မ ကောင်း လို့ ခွင့် ယူ ထား တယ် သူ့ နေ ရာ ကို တာ ဝန် ယူ တဲ့ သူ က လည်း နည်း နည်း ပျော့ တယ် ဟု မက်ဂ် က ပြော သည်</td>\n",
       "      <td>44</td>\n",
       "      <td>သူ့ အဲ့ သည် လို လုပ့် နေ တာ ကြာ ပြီ သူ တို့ ဌာ န မှူး က နေ မ ကောင်း လို့ ခွင့် ယူ့ ထား တယ် သူ့ နေ ရာ ကို တာ ဝန် ယူ့ တဲ့ သူ့ က လည်း နည်း နည်း ပျော့ တယ် ဟု့ မက်ဂ့် က ပြော သည်</td>\n",
       "      <td>43</td>\n",
       "    </tr>\n",
       "  </tbody>\n",
       "</table>\n",
       "</div>"
      ],
      "text/plain": [
       "                                                                                                                                                                              sent  \\\n",
       "58834   ငါ စဉ်းစား မိ သလောက် တော့ သူမ နေမကောင်း တာ ပဲ ဖြစ် မယ် ဟု ဆာရာ က ဆို သည်                                                                                                     \n",
       "69572   စာ ကြိုးစား ကျက် ခြင် းဖြင့် သင် စာမေးပွဲ အောင်မြင် နိုင် သည်                                                                                                                \n",
       "87543   တကယ်လို ့ သွေးဆင်း တာ က ခဏ ပဲ ဆိုရင် စိုးရိမ် စရာ မ ရှိ ပါ ဘူး                                                                                                               \n",
       "98855   တိုက်ဖွိုက် အဖြစ်များ တဲ့ နေရာ ဒေသ တွေ သွား ရ တော့ မယ် ဆိုရင် လည်း တစ် ပတ် နှစ် ပတ် လောက် ကြိုတင် ပြီး တိုက်ဖွိုက် ကာကွယ်ဆေး အသုံးပြု ခြင် းဖြင့် လည်း ကာကွယ် နိုင် ပါ တယ်   \n",
       "124468  ဒီ လရဲ ့ အံ့ဖွယ် ထူးခြား ရောဂါ များ အစီအစဉ် မှာ သစ်ပင် လူသား ရောဂါ နဲ့ ပတ်သက် တဲ့ အကြောင်းအရာ တွေ ကို ပရိသတ်ကြီး ဆီ ကို ပြောပြ ပေး သွား တာ ပဲ ဖြစ် ပါ တယ်                    \n",
       "251412  သူမ သာ အသိတရား ရှိ ရင် သူမ က သူ့ ကို အကြီးအကျယ် စော်ကား ခဲ့ တဲ့ အဲသည်လို မေးခွန်း မျိုး ကို သူမ မေး ခဲ့ မှာ မ ဟုတ် ဘူး                                                       \n",
       "260706  သူ အဲ သည် လို လုပ် နေ တာ ကြာ ပြီ သူ တို့ ဌာနမှူး က နေမကောင်း လို့ ခွင့်ယူ ထား တယ် သူ့ နေရာ ကို တာဝန်ယူ တဲ့ သူ က လည်း နည်းနည်း ပျော့ တယ် ဟု မက်ဂ် က ပြော သည်                  \n",
       "\n",
       "                                                                                                                                                                                        syllable  \\\n",
       "58834   ငါ စဉ်း စား မိ သ လောက် တော့ သူ မ နေ မ ကောင်း တာ ပဲ ဖြစ် မယ် ဟု ဆာ ရာ က ဆို သည်                                                                                                             \n",
       "69572   စာ ကြိုး စား ကျက် ခြင် း ဖြင့် သင် စာ မေး ပွဲ အောင် မြင် နိုင် သည်                                                                                                                         \n",
       "87543   တ ကယ် လို ့ သွေး ဆင်း တာ က ခ ဏ ပဲ ဆို ရင် စိုး ရိမ် စ ရာ မ ရှိ ပါ ဘူး                                                                                                                      \n",
       "98855   တိုက် ဖွိုက် အ ဖြစ် များ တဲ့ နေ ရာ ဒေ သ တွေ သွား ရ တော့ မယ် ဆို ရင် လည်း တစ် ပတ် နှစ် ပတ် လောက် ကြို တင် ပြီး တိုက် ဖွိုက် ကာ ကွယ် ဆေး အ သုံး ပြု ခြင် း ဖြင့် လည်း ကာ ကွယ် နိုင် ပါ တယ်   \n",
       "124468  ဒီ လ ရဲ ့ အံ့ ဖွယ် ထူး ခြား ရော ဂါ များ အ စီ အ စဉ် မှာ သစ် ပင် လူ သား ရော ဂါ နဲ့ ပတ် သက် တဲ့ အ ကြောင်း အ ရာ တွေ ကို ပ ရိ သတ် ကြီး ဆီ ကို ပြော ပြ ပေး သွား တာ ပဲ ဖြစ် ပါ တယ်                \n",
       "251412  သူ မ သာ အ သိ တ ရား ရှိ ရင် သူ မ က သူ့ ကို အ ကြီး အ ကျယ် စော် ကား ခဲ့ တဲ့ အဲ သည် လို မေး ခွန်း မျိုး ကို သူ မ မေး ခဲ့ မှာ မ ဟုတ် ဘူး                                                        \n",
       "260706  သူ အဲ သည် လို လုပ် နေ တာ ကြာ ပြီ သူ တို့ ဌာ န မှူး က နေ မ ကောင်း လို့ ခွင့် ယူ ထား တယ် သူ့ နေ ရာ ကို တာ ဝန် ယူ တဲ့ သူ က လည်း နည်း နည်း ပျော့ တယ် ဟု မက်ဂ် က ပြော သည်                       \n",
       "\n",
       "        syl_len  \\\n",
       "58834   23        \n",
       "69572   15        \n",
       "87543   21        \n",
       "98855   43        \n",
       "124468  47        \n",
       "251412  38        \n",
       "260706  44        \n",
       "\n",
       "                                                                                                                                                                           error_sent  \\\n",
       "58834   ငါ စဉ်း စား မိ သ လောက် တော့ သူ မ နေ မ ကောင်း တာ ပဲဲ ဖြစ် မယ် ဟု ဆာ ရာ က ဆို သည်                                                                                                 \n",
       "69572   စာ ကြိုး စား ကျက် ခြင် ဖြင် သင် စာ မေ ပဲ အောင် မြင် နိုင် သည်                                                                                                                   \n",
       "87543   တ ကယ် လို သွေ ဆင်း တာ က ခ ဏ ပဲ ဆို ရင် စို ရိမ် စ ရာ မ ရှိ ပါ ဘူ                                                                                                                \n",
       "98855   တိုက် ဖွိုက် အ ဖြစ် များ တဲ နေ ရာ ဒေ သ တေ သွား ရ တော့ မယ် ဆို ရင် လည် တစ် ပတ် နှစ် ပတ် လောက် ကြို တင် ပြီ တိုက် ဖွိုက် ကာ ကယ် ဆေ အ သုံ ပြု ခြင် ဖြင့် လည် ကာ ကယ် နိုင် ပါ တယ်   \n",
       "124468  ဒီ လ ရဲ အံ့ ဖွယ် ထူး ခြား ရော ဂါ များ အ စီ အ စဉ် မှာ သစ် ပင် လူ သား ရော ဂါ နဲ့ ပတ် သက် တဲ အ ကြောင်း အ ရာ တွေ ကို ပ ရိ သတ် ကြီး ဆီ ကို ပြော ပြ ပေး သွား တာ ပဲ ဖြစ် ပါ တယ်        \n",
       "251412  သူ မ သာ အ သိ တ ရား ရှိ ရင် သူး မ က သူ့ ကိုး အ ကြီး အ ကျယ် စော် ကား ခဲ့ တဲ့ အဲ သည် လို မေး ခွန်း မျိုး ကိုး သူ မ မေး ခဲ့ မှာ မ ဟုတ် ဘူး                                          \n",
       "260706  သူ့ အဲ့ သည် လို လုပ့် နေ တာ ကြာ ပြီ သူ တို့ ဌာ န မှူး က နေ မ ကောင်း လို့ ခွင့် ယူ့ ထား တယ် သူ့ နေ ရာ ကို တာ ဝန် ယူ့ တဲ့ သူ့ က လည်း နည်း နည်း ပျော့ တယ် ဟု့ မက်ဂ့် က ပြော သည်    \n",
       "\n",
       "        err_len  \n",
       "58834   22       \n",
       "69572   14       \n",
       "87543   20       \n",
       "98855   42       \n",
       "124468  46       \n",
       "251412  37       \n",
       "260706  43       "
      ]
     },
     "execution_count": 52,
     "metadata": {},
     "output_type": "execute_result"
    }
   ],
   "source": [
    "mismatched_df = df[df['syl_len'] != df['err_len']]\n",
    "mismatched_df"
   ]
  },
  {
   "cell_type": "code",
   "execution_count": 53,
   "id": "e70de31e",
   "metadata": {},
   "outputs": [
    {
     "data": {
      "text/plain": [
       "(302791, 5)"
      ]
     },
     "execution_count": 53,
     "metadata": {},
     "output_type": "execute_result"
    }
   ],
   "source": [
    "# Only matched sentences\n",
    "df = df[df['syl_len'] == df['err_len']]\n",
    "df.shape"
   ]
  },
  {
   "cell_type": "code",
   "execution_count": 54,
   "id": "8b95c11d",
   "metadata": {},
   "outputs": [
    {
     "data": {
      "text/html": [
       "<div>\n",
       "<style scoped>\n",
       "    .dataframe tbody tr th:only-of-type {\n",
       "        vertical-align: middle;\n",
       "    }\n",
       "\n",
       "    .dataframe tbody tr th {\n",
       "        vertical-align: top;\n",
       "    }\n",
       "\n",
       "    .dataframe thead th {\n",
       "        text-align: right;\n",
       "    }\n",
       "</style>\n",
       "<table border=\"1\" class=\"dataframe\">\n",
       "  <thead>\n",
       "    <tr style=\"text-align: right;\">\n",
       "      <th></th>\n",
       "      <th>sent</th>\n",
       "      <th>syllable</th>\n",
       "      <th>syl_len</th>\n",
       "      <th>error_sent</th>\n",
       "      <th>err_len</th>\n",
       "    </tr>\n",
       "  </thead>\n",
       "  <tbody>\n",
       "    <tr>\n",
       "      <th>0</th>\n",
       "      <td>ကံ က ဆိုး ချင် တော့ နေ စရာ အိမ် ရော သူ တို့ နှစ်ယောက် ရဲ့ ချစ်လှ စွာ သော မဟေသီ နှစ်ယောက် ပါ မ တွေ့ တော့ နှစ်ကောင် လုံး ဘုံပျောက် ပြီ ပေါ့</td>\n",
       "      <td>ကံ က ဆိုး ချင် တော့ နေ စ ရာ အိမ် ရော သူ တို့ နှစ် ယောက် ရဲ့ ချစ် လှ စွာ သော မ ဟေ သီ နှစ် ယောက် ပါ မ တွေ့ တော့ နှစ် ကောင် လုံး ဘုံ ပျောက် ပြီ ပေါ့</td>\n",
       "      <td>35</td>\n",
       "      <td>ကံ က ဆိုး ချင် တော့ နေ စ ရာ အိမ် ရော သူ တို နှစ် ယောက် ရဲ ချစ် လှ စွာ သော မ ဟေ သီ နှစ် ယောက် ပါ မ တွေ တော့ နှစ် ကောင် လုံး ဘုံ ပျောက် ပြီ ပေါ</td>\n",
       "      <td>35</td>\n",
       "    </tr>\n",
       "    <tr>\n",
       "      <th>1</th>\n",
       "      <td>ကံ က ဆိုး ချင် တော့ သူရိန်မင်း က သူ့ မိန်းမ အတွယ်တာ ကလေးမွေး တဲ့ နေ့ မှာ ဆုံး သွား ပြီ တဲ့</td>\n",
       "      <td>ကံ က ဆိုး ချင် တော့ သူ ရိန် မင်း က သူ့ မိန်း မ အ တွယ် တာ က လေး မွေး တဲ့ နေ့ မှာ ဆုံး သွား ပြီ တဲ့</td>\n",
       "      <td>25</td>\n",
       "      <td>ကံ က ဆို ချင် တော့ သူ ရိန် မင်း က သူ မိန် မ အ တွယ် တာ က လေ မွေ တဲ နေ မှာ ဆုံ သွာ ပီ တဲ</td>\n",
       "      <td>25</td>\n",
       "    </tr>\n",
       "    <tr>\n",
       "      <th>4</th>\n",
       "      <td>ကံကြမ္မာ က ကျွန်တော် တို့ အောင်မြင် ဖို့ ကျွန်တော် တို့ ကို မျက်နှာသာ ပေး ခဲ့ တယ်</td>\n",
       "      <td>ကံ ကြမ္မာ က ကျွန် တော် တို့ အောင် မြင် ဖို့ ကျွန် တော် တို့ ကို မျက် နှာ သာ ပေး ခဲ့ တယ်</td>\n",
       "      <td>19</td>\n",
       "      <td>ကံ ကြမ္မာ က ကျွန်် တော်် တိို့ အောင် မြင်် ဖိို့ ကျွန်် တော်် တိို့ ကိို မျက်် နှာ သာ ပေး ခဲဲ့ တယ််</td>\n",
       "      <td>19</td>\n",
       "    </tr>\n",
       "    <tr>\n",
       "      <th>5</th>\n",
       "      <td>ကံကြမ္မာ က ကျွန်တော် တို့ အောင်မြင် ဖို့ မျက်နှာသာ ပေး ခဲ့ တယ်</td>\n",
       "      <td>ကံ ကြမ္မာ က ကျွန် တော် တို့ အောင် မြင် ဖို့ မျက် နှာ သာ ပေး ခဲ့ တယ်</td>\n",
       "      <td>15</td>\n",
       "      <td>ကံံ ကြမ္မာ က ကျွန် တော် တို့ အောင် မြင် ဖို့ မျက် နှာ သာ ပေး ခဲ့ တယ်</td>\n",
       "      <td>15</td>\n",
       "    </tr>\n",
       "    <tr>\n",
       "      <th>6</th>\n",
       "      <td>ကံကြမ္မာ က ရဲရင့် သူ ကို အခွင့်အရေး ပေး တယ်</td>\n",
       "      <td>ကံ ကြမ္မာ က ရဲ ရင့် သူ ကို အ ခွင့် အ ရေး ပေး တယ်</td>\n",
       "      <td>13</td>\n",
       "      <td>ကံ ကြမ္မာ က ရဲ ရင့် သူ ဂို အ ခွင့် အ ရေး ပေး တယ်</td>\n",
       "      <td>13</td>\n",
       "    </tr>\n",
       "  </tbody>\n",
       "</table>\n",
       "</div>"
      ],
      "text/plain": [
       "                                                                                                                                        sent  \\\n",
       "0  ကံ က ဆိုး ချင် တော့ နေ စရာ အိမ် ရော သူ တို့ နှစ်ယောက် ရဲ့ ချစ်လှ စွာ သော မဟေသီ နှစ်ယောက် ပါ မ တွေ့ တော့ နှစ်ကောင် လုံး ဘုံပျောက် ပြီ ပေါ့   \n",
       "1  ကံ က ဆိုး ချင် တော့ သူရိန်မင်း က သူ့ မိန်းမ အတွယ်တာ ကလေးမွေး တဲ့ နေ့ မှာ ဆုံး သွား ပြီ တဲ့                                                  \n",
       "4  ကံကြမ္မာ က ကျွန်တော် တို့ အောင်မြင် ဖို့ ကျွန်တော် တို့ ကို မျက်နှာသာ ပေး ခဲ့ တယ်                                                           \n",
       "5  ကံကြမ္မာ က ကျွန်တော် တို့ အောင်မြင် ဖို့ မျက်နှာသာ ပေး ခဲ့ တယ်                                                                              \n",
       "6  ကံကြမ္မာ က ရဲရင့် သူ ကို အခွင့်အရေး ပေး တယ်                                                                                                 \n",
       "\n",
       "                                                                                                                                            syllable  \\\n",
       "0  ကံ က ဆိုး ချင် တော့ နေ စ ရာ အိမ် ရော သူ တို့ နှစ် ယောက် ရဲ့ ချစ် လှ စွာ သော မ ဟေ သီ နှစ် ယောက် ပါ မ တွေ့ တော့ နှစ် ကောင် လုံး ဘုံ ပျောက် ပြီ ပေါ့   \n",
       "1  ကံ က ဆိုး ချင် တော့ သူ ရိန် မင်း က သူ့ မိန်း မ အ တွယ် တာ က လေး မွေး တဲ့ နေ့ မှာ ဆုံး သွား ပြီ တဲ့                                                   \n",
       "4  ကံ ကြမ္မာ က ကျွန် တော် တို့ အောင် မြင် ဖို့ ကျွန် တော် တို့ ကို မျက် နှာ သာ ပေး ခဲ့ တယ်                                                             \n",
       "5  ကံ ကြမ္မာ က ကျွန် တော် တို့ အောင် မြင် ဖို့ မျက် နှာ သာ ပေး ခဲ့ တယ်                                                                                 \n",
       "6  ကံ ကြမ္မာ က ရဲ ရင့် သူ ကို အ ခွင့် အ ရေး ပေး တယ်                                                                                                    \n",
       "\n",
       "   syl_len  \\\n",
       "0  35        \n",
       "1  25        \n",
       "4  19        \n",
       "5  15        \n",
       "6  13        \n",
       "\n",
       "                                                                                                                                      error_sent  \\\n",
       "0  ကံ က ဆိုး ချင် တော့ နေ စ ရာ အိမ် ရော သူ တို နှစ် ယောက် ရဲ ချစ် လှ စွာ သော မ ဟေ သီ နှစ် ယောက် ပါ မ တွေ တော့ နှစ် ကောင် လုံး ဘုံ ပျောက် ပြီ ပေါ   \n",
       "1  ကံ က ဆို ချင် တော့ သူ ရိန် မင်း က သူ မိန် မ အ တွယ် တာ က လေ မွေ တဲ နေ မှာ ဆုံ သွာ ပီ တဲ                                                          \n",
       "4  ကံ ကြမ္မာ က ကျွန်် တော်် တိို့ အောင် မြင်် ဖိို့ ကျွန်် တော်် တိို့ ကိို မျက်် နှာ သာ ပေး ခဲဲ့ တယ််                                             \n",
       "5  ကံံ ကြမ္မာ က ကျွန် တော် တို့ အောင် မြင် ဖို့ မျက် နှာ သာ ပေး ခဲ့ တယ်                                                                            \n",
       "6  ကံ ကြမ္မာ က ရဲ ရင့် သူ ဂို အ ခွင့် အ ရေး ပေး တယ်                                                                                                \n",
       "\n",
       "   err_len  \n",
       "0  35       \n",
       "1  25       \n",
       "4  19       \n",
       "5  15       \n",
       "6  13       "
      ]
     },
     "execution_count": 54,
     "metadata": {},
     "output_type": "execute_result"
    }
   ],
   "source": [
    "df.head()"
   ]
  },
  {
   "cell_type": "code",
   "execution_count": 55,
   "id": "c9dc5c57",
   "metadata": {},
   "outputs": [
    {
     "data": {
      "text/plain": [
       "(302791, 5)"
      ]
     },
     "execution_count": 55,
     "metadata": {},
     "output_type": "execute_result"
    }
   ],
   "source": [
    "df.shape"
   ]
  },
  {
   "cell_type": "code",
   "execution_count": 56,
   "id": "35e537c7",
   "metadata": {},
   "outputs": [],
   "source": [
    "df.drop(['syl_len', 'err_len'], axis=1, inplace=True)"
   ]
  },
  {
   "cell_type": "code",
   "execution_count": 57,
   "id": "781f5d75",
   "metadata": {},
   "outputs": [
    {
     "data": {
      "text/html": [
       "<div>\n",
       "<style scoped>\n",
       "    .dataframe tbody tr th:only-of-type {\n",
       "        vertical-align: middle;\n",
       "    }\n",
       "\n",
       "    .dataframe tbody tr th {\n",
       "        vertical-align: top;\n",
       "    }\n",
       "\n",
       "    .dataframe thead th {\n",
       "        text-align: right;\n",
       "    }\n",
       "</style>\n",
       "<table border=\"1\" class=\"dataframe\">\n",
       "  <thead>\n",
       "    <tr style=\"text-align: right;\">\n",
       "      <th></th>\n",
       "      <th>sent</th>\n",
       "      <th>syllable</th>\n",
       "      <th>error_sent</th>\n",
       "    </tr>\n",
       "  </thead>\n",
       "  <tbody>\n",
       "    <tr>\n",
       "      <th>177161</th>\n",
       "      <td>မင်း လာ ဖို့ အတွက် ငါ ဆယ် မိနစ် တောင် မ စောင့် နေ ခဲ့ ရ ဘူး</td>\n",
       "      <td>မင်း လာ ဖို့ အ တွက် ငါ ဆယ် မိ နစ် တောင် မ စောင့် နေ ခဲ့ ရ ဘူး</td>\n",
       "      <td>မင်း လာ ဖို့ အ တွက် ငါ ဆယ် မိ နစ် တောင် မ စောင့် နေ ခဲ့ ရ ဘူး</td>\n",
       "    </tr>\n",
       "    <tr>\n",
       "      <th>117561</th>\n",
       "      <td>ဒါမှမဟုတ် ဒီ မှာ အရမ်း အေး နေ တာ များ လား ဟု လစ်ဇ် က မေး လိုက် သည်</td>\n",
       "      <td>ဒါ မှ မ ဟုတ် ဒီ မှာ အ ရမ်း အေး နေ တာ များ လား ဟု လစ်ဇ် က မေး လိုက် သည်</td>\n",
       "      <td>ဒါ မှ မ ဟုတ် ဒီ မှာ အ ရမ်း အေး နေ တာ များ လား ဟု လစ်ဇ် က မေး လိုက် သည်</td>\n",
       "    </tr>\n",
       "    <tr>\n",
       "      <th>38620</th>\n",
       "      <td>ကောင်းကောင်း အိပ် နိုင် မယ် ထင် တယ်</td>\n",
       "      <td>ကောင်း ကောင်း အိပ် နိုင် မယ် ထင် တယ်</td>\n",
       "      <td>ကောင်း ကောင်း အိပ် နိုင် မယ် ထင် တယ်</td>\n",
       "    </tr>\n",
       "    <tr>\n",
       "      <th>235386</th>\n",
       "      <td>သူ တို့ က ငါ့ ကို မေးခွန်း အမြောက်အမြား မေး ခဲ့ တယ်</td>\n",
       "      <td>သူ တို့ က ငါ့ ကို မေး ခွန်း အ မြောက် အ မြား မေး ခဲ့ တယ်</td>\n",
       "      <td>သူ တို့ က ငါ့ ကို မေး ခွန်း အ မြောက် အ မြား မေး ခဲ့ တယ်</td>\n",
       "    </tr>\n",
       "    <tr>\n",
       "      <th>83570</th>\n",
       "      <td>ဇန်နဝါရီလ အထိ မင်္ဂလာဆောင် ကို ရွှေ့ဆိုင်း လိုက် ပြီ</td>\n",
       "      <td>ဇန် န ဝါ ရီ လ အ ထိ မင်္ဂ လာ ဆောင် ကို ရွှေ့ ဆိုင်း လိုက် ပြီ</td>\n",
       "      <td>ဇန် န ဝါ ရီ လ အ ထိ မင်္ဂ လာ ဆောင် ကို ရွှေ့ ဆိုင်း လိုက် ပြီ</td>\n",
       "    </tr>\n",
       "  </tbody>\n",
       "</table>\n",
       "</div>"
      ],
      "text/plain": [
       "                                                                      sent  \\\n",
       "177161  မင်း လာ ဖို့ အတွက် ငါ ဆယ် မိနစ် တောင် မ စောင့် နေ ခဲ့ ရ ဘူး          \n",
       "117561  ဒါမှမဟုတ် ဒီ မှာ အရမ်း အေး နေ တာ များ လား ဟု လစ်ဇ် က မေး လိုက် သည်   \n",
       "38620   ကောင်းကောင်း အိပ် နိုင် မယ် ထင် တယ်                                  \n",
       "235386  သူ တို့ က ငါ့ ကို မေးခွန်း အမြောက်အမြား မေး ခဲ့ တယ်                  \n",
       "83570   ဇန်နဝါရီလ အထိ မင်္ဂလာဆောင် ကို ရွှေ့ဆိုင်း လိုက် ပြီ                 \n",
       "\n",
       "                                                                      syllable  \\\n",
       "177161  မင်း လာ ဖို့ အ တွက် ငါ ဆယ် မိ နစ် တောင် မ စောင့် နေ ခဲ့ ရ ဘူး            \n",
       "117561  ဒါ မှ မ ဟုတ် ဒီ မှာ အ ရမ်း အေး နေ တာ များ လား ဟု လစ်ဇ် က မေး လိုက် သည်   \n",
       "38620   ကောင်း ကောင်း အိပ် နိုင် မယ် ထင် တယ်                                     \n",
       "235386  သူ တို့ က ငါ့ ကို မေး ခွန်း အ မြောက် အ မြား မေး ခဲ့ တယ်                  \n",
       "83570   ဇန် န ဝါ ရီ လ အ ထိ မင်္ဂ လာ ဆောင် ကို ရွှေ့ ဆိုင်း လိုက် ပြီ             \n",
       "\n",
       "                                                                    error_sent  \n",
       "177161  မင်း လာ ဖို့ အ တွက် ငါ ဆယ် မိ နစ် တောင် မ စောင့် နေ ခဲ့ ရ ဘူး           \n",
       "117561  ဒါ မှ မ ဟုတ် ဒီ မှာ အ ရမ်း အေး နေ တာ များ လား ဟု လစ်ဇ် က မေး လိုက် သည်  \n",
       "38620   ကောင်း ကောင်း အိပ် နိုင် မယ် ထင် တယ်                                    \n",
       "235386  သူ တို့ က ငါ့ ကို မေး ခွန်း အ မြောက် အ မြား မေး ခဲ့ တယ်                 \n",
       "83570   ဇန် န ဝါ ရီ လ အ ထိ မင်္ဂ လာ ဆောင် ကို ရွှေ့ ဆိုင်း လိုက် ပြီ            "
      ]
     },
     "execution_count": 57,
     "metadata": {},
     "output_type": "execute_result"
    }
   ],
   "source": [
    "# Unchange sentences\n",
    "\n",
    "df_unchanged = df[df[\"syllable\"] == df[\"error_sent\"]]\n",
    "df_unchanged.sample(5)"
   ]
  },
  {
   "cell_type": "code",
   "execution_count": 58,
   "id": "2a7bdaa3",
   "metadata": {},
   "outputs": [
    {
     "data": {
      "text/plain": [
       "105932"
      ]
     },
     "execution_count": 58,
     "metadata": {},
     "output_type": "execute_result"
    }
   ],
   "source": [
    "len(df_unchanged)"
   ]
  },
  {
   "cell_type": "code",
   "execution_count": 59,
   "id": "11108f1b",
   "metadata": {},
   "outputs": [],
   "source": [
    "df.to_csv(\"errors.csv\", index=False)"
   ]
  },
  {
   "cell_type": "markdown",
   "id": "8f8d3f00",
   "metadata": {},
   "source": [
    "## Seq to Seq with attention Preparation"
   ]
  },
  {
   "cell_type": "code",
   "execution_count": 60,
   "id": "19db7c58",
   "metadata": {},
   "outputs": [
    {
     "data": {
      "text/html": [
       "<div>\n",
       "<style scoped>\n",
       "    .dataframe tbody tr th:only-of-type {\n",
       "        vertical-align: middle;\n",
       "    }\n",
       "\n",
       "    .dataframe tbody tr th {\n",
       "        vertical-align: top;\n",
       "    }\n",
       "\n",
       "    .dataframe thead th {\n",
       "        text-align: right;\n",
       "    }\n",
       "</style>\n",
       "<table border=\"1\" class=\"dataframe\">\n",
       "  <thead>\n",
       "    <tr style=\"text-align: right;\">\n",
       "      <th></th>\n",
       "      <th>sent</th>\n",
       "      <th>syllable</th>\n",
       "      <th>error_sent</th>\n",
       "    </tr>\n",
       "  </thead>\n",
       "  <tbody>\n",
       "    <tr>\n",
       "      <th>0</th>\n",
       "      <td>ကံ က ဆိုး ချင် တော့ နေ စရာ အိမ် ရော သူ တို့ နှစ်ယောက် ရဲ့ ချစ်လှ စွာ သော မဟေသီ နှစ်ယောက် ပါ မ တွေ့ တော့ နှစ်ကောင် လုံး ဘုံပျောက် ပြီ ပေါ့</td>\n",
       "      <td>ကံ က ဆိုး ချင် တော့ နေ စ ရာ အိမ် ရော သူ တို့ နှစ် ယောက် ရဲ့ ချစ် လှ စွာ သော မ ဟေ သီ နှစ် ယောက် ပါ မ တွေ့ တော့ နှစ် ကောင် လုံး ဘုံ ပျောက် ပြီ ပေါ့</td>\n",
       "      <td>ကံ က ဆိုး ချင် တော့ နေ စ ရာ အိမ် ရော သူ တို နှစ် ယောက် ရဲ ချစ် လှ စွာ သော မ ဟေ သီ နှစ် ယောက် ပါ မ တွေ တော့ နှစ် ကောင် လုံး ဘုံ ပျောက် ပြီ ပေါ</td>\n",
       "    </tr>\n",
       "    <tr>\n",
       "      <th>1</th>\n",
       "      <td>ကံ က ဆိုး ချင် တော့ သူရိန်မင်း က သူ့ မိန်းမ အတွယ်တာ ကလေးမွေး တဲ့ နေ့ မှာ ဆုံး သွား ပြီ တဲ့</td>\n",
       "      <td>ကံ က ဆိုး ချင် တော့ သူ ရိန် မင်း က သူ့ မိန်း မ အ တွယ် တာ က လေး မွေး တဲ့ နေ့ မှာ ဆုံး သွား ပြီ တဲ့</td>\n",
       "      <td>ကံ က ဆို ချင် တော့ သူ ရိန် မင်း က သူ မိန် မ အ တွယ် တာ က လေ မွေ တဲ နေ မှာ ဆုံ သွာ ပီ တဲ</td>\n",
       "    </tr>\n",
       "    <tr>\n",
       "      <th>2</th>\n",
       "      <td>ကံကြမ္မာ က ကျွန်တော် တို့ အောင်မြင် ဖို့ ကျွန်တော် တို့ ကို မျက်နှာသာ ပေး ခဲ့ တယ်</td>\n",
       "      <td>ကံ ကြမ္မာ က ကျွန် တော် တို့ အောင် မြင် ဖို့ ကျွန် တော် တို့ ကို မျက် နှာ သာ ပေး ခဲ့ တယ်</td>\n",
       "      <td>ကံ ကြမ္မာ က ကျွန်် တော်် တိို့ အောင် မြင်် ဖိို့ ကျွန်် တော်် တိို့ ကိို မျက်် နှာ သာ ပေး ခဲဲ့ တယ််</td>\n",
       "    </tr>\n",
       "    <tr>\n",
       "      <th>3</th>\n",
       "      <td>ကံကြမ္မာ က ကျွန်တော် တို့ အောင်မြင် ဖို့ မျက်နှာသာ ပေး ခဲ့ တယ်</td>\n",
       "      <td>ကံ ကြမ္မာ က ကျွန် တော် တို့ အောင် မြင် ဖို့ မျက် နှာ သာ ပေး ခဲ့ တယ်</td>\n",
       "      <td>ကံံ ကြမ္မာ က ကျွန် တော် တို့ အောင် မြင် ဖို့ မျက် နှာ သာ ပေး ခဲ့ တယ်</td>\n",
       "    </tr>\n",
       "    <tr>\n",
       "      <th>4</th>\n",
       "      <td>ကံကြမ္မာ က ရဲရင့် သူ ကို အခွင့်အရေး ပေး တယ်</td>\n",
       "      <td>ကံ ကြမ္မာ က ရဲ ရင့် သူ ကို အ ခွင့် အ ရေး ပေး တယ်</td>\n",
       "      <td>ကံ ကြမ္မာ က ရဲ ရင့် သူ ဂို အ ခွင့် အ ရေး ပေး တယ်</td>\n",
       "    </tr>\n",
       "  </tbody>\n",
       "</table>\n",
       "</div>"
      ],
      "text/plain": [
       "                                                                                                                                        sent  \\\n",
       "0  ကံ က ဆိုး ချင် တော့ နေ စရာ အိမ် ရော သူ တို့ နှစ်ယောက် ရဲ့ ချစ်လှ စွာ သော မဟေသီ နှစ်ယောက် ပါ မ တွေ့ တော့ နှစ်ကောင် လုံး ဘုံပျောက် ပြီ ပေါ့   \n",
       "1  ကံ က ဆိုး ချင် တော့ သူရိန်မင်း က သူ့ မိန်းမ အတွယ်တာ ကလေးမွေး တဲ့ နေ့ မှာ ဆုံး သွား ပြီ တဲ့                                                  \n",
       "2  ကံကြမ္မာ က ကျွန်တော် တို့ အောင်မြင် ဖို့ ကျွန်တော် တို့ ကို မျက်နှာသာ ပေး ခဲ့ တယ်                                                           \n",
       "3  ကံကြမ္မာ က ကျွန်တော် တို့ အောင်မြင် ဖို့ မျက်နှာသာ ပေး ခဲ့ တယ်                                                                              \n",
       "4  ကံကြမ္မာ က ရဲရင့် သူ ကို အခွင့်အရေး ပေး တယ်                                                                                                 \n",
       "\n",
       "                                                                                                                                            syllable  \\\n",
       "0  ကံ က ဆိုး ချင် တော့ နေ စ ရာ အိမ် ရော သူ တို့ နှစ် ယောက် ရဲ့ ချစ် လှ စွာ သော မ ဟေ သီ နှစ် ယောက် ပါ မ တွေ့ တော့ နှစ် ကောင် လုံး ဘုံ ပျောက် ပြီ ပေါ့   \n",
       "1  ကံ က ဆိုး ချင် တော့ သူ ရိန် မင်း က သူ့ မိန်း မ အ တွယ် တာ က လေး မွေး တဲ့ နေ့ မှာ ဆုံး သွား ပြီ တဲ့                                                   \n",
       "2  ကံ ကြမ္မာ က ကျွန် တော် တို့ အောင် မြင် ဖို့ ကျွန် တော် တို့ ကို မျက် နှာ သာ ပေး ခဲ့ တယ်                                                             \n",
       "3  ကံ ကြမ္မာ က ကျွန် တော် တို့ အောင် မြင် ဖို့ မျက် နှာ သာ ပေး ခဲ့ တယ်                                                                                 \n",
       "4  ကံ ကြမ္မာ က ရဲ ရင့် သူ ကို အ ခွင့် အ ရေး ပေး တယ်                                                                                                    \n",
       "\n",
       "                                                                                                                                      error_sent  \n",
       "0  ကံ က ဆိုး ချင် တော့ နေ စ ရာ အိမ် ရော သူ တို နှစ် ယောက် ရဲ ချစ် လှ စွာ သော မ ဟေ သီ နှစ် ယောက် ပါ မ တွေ တော့ နှစ် ကောင် လုံး ဘုံ ပျောက် ပြီ ပေါ  \n",
       "1  ကံ က ဆို ချင် တော့ သူ ရိန် မင်း က သူ မိန် မ အ တွယ် တာ က လေ မွေ တဲ နေ မှာ ဆုံ သွာ ပီ တဲ                                                         \n",
       "2  ကံ ကြမ္မာ က ကျွန်် တော်် တိို့ အောင် မြင်် ဖိို့ ကျွန်် တော်် တိို့ ကိို မျက်် နှာ သာ ပေး ခဲဲ့ တယ််                                            \n",
       "3  ကံံ ကြမ္မာ က ကျွန် တော် တို့ အောင် မြင် ဖို့ မျက် နှာ သာ ပေး ခဲ့ တယ်                                                                           \n",
       "4  ကံ ကြမ္မာ က ရဲ ရင့် သူ ဂို အ ခွင့် အ ရေး ပေး တယ်                                                                                               "
      ]
     },
     "execution_count": 60,
     "metadata": {},
     "output_type": "execute_result"
    }
   ],
   "source": [
    "import pandas as pd\n",
    "df = pd.read_csv(\"errors.csv\")\n",
    "df.head()"
   ]
  },
  {
   "cell_type": "code",
   "execution_count": 61,
   "id": "3dd25b1f",
   "metadata": {},
   "outputs": [
    {
     "data": {
      "text/plain": [
       "302791"
      ]
     },
     "execution_count": 61,
     "metadata": {},
     "output_type": "execute_result"
    }
   ],
   "source": [
    "len(df)"
   ]
  },
  {
   "cell_type": "code",
   "execution_count": 62,
   "id": "d673e32e",
   "metadata": {},
   "outputs": [
    {
     "data": {
      "text/html": [
       "<div>\n",
       "<style scoped>\n",
       "    .dataframe tbody tr th:only-of-type {\n",
       "        vertical-align: middle;\n",
       "    }\n",
       "\n",
       "    .dataframe tbody tr th {\n",
       "        vertical-align: top;\n",
       "    }\n",
       "\n",
       "    .dataframe thead th {\n",
       "        text-align: right;\n",
       "    }\n",
       "</style>\n",
       "<table border=\"1\" class=\"dataframe\">\n",
       "  <thead>\n",
       "    <tr style=\"text-align: right;\">\n",
       "      <th></th>\n",
       "      <th>syllable</th>\n",
       "      <th>error_sent</th>\n",
       "    </tr>\n",
       "  </thead>\n",
       "  <tbody>\n",
       "    <tr>\n",
       "      <th>0</th>\n",
       "      <td>ကံ က ဆိုး ချင် တော့ နေ စ ရာ အိမ် ရော သူ တို့ နှစ် ယောက် ရဲ့ ချစ် လှ စွာ သော မ ဟေ သီ နှစ် ယောက် ပါ မ တွေ့ တော့ နှစ် ကောင် လုံး ဘုံ ပျောက် ပြီ ပေါ့</td>\n",
       "      <td>ကံ က ဆိုး ချင် တော့ နေ စ ရာ အိမ် ရော သူ တို နှစ် ယောက် ရဲ ချစ် လှ စွာ သော မ ဟေ သီ နှစ် ယောက် ပါ မ တွေ တော့ နှစ် ကောင် လုံး ဘုံ ပျောက် ပြီ ပေါ</td>\n",
       "    </tr>\n",
       "    <tr>\n",
       "      <th>1</th>\n",
       "      <td>ကံ က ဆိုး ချင် တော့ သူ ရိန် မင်း က သူ့ မိန်း မ အ တွယ် တာ က လေး မွေး တဲ့ နေ့ မှာ ဆုံး သွား ပြီ တဲ့</td>\n",
       "      <td>ကံ က ဆို ချင် တော့ သူ ရိန် မင်း က သူ မိန် မ အ တွယ် တာ က လေ မွေ တဲ နေ မှာ ဆုံ သွာ ပီ တဲ</td>\n",
       "    </tr>\n",
       "    <tr>\n",
       "      <th>2</th>\n",
       "      <td>ကံ ကြမ္မာ က ကျွန် တော် တို့ အောင် မြင် ဖို့ ကျွန် တော် တို့ ကို မျက် နှာ သာ ပေး ခဲ့ တယ်</td>\n",
       "      <td>ကံ ကြမ္မာ က ကျွန်် တော်် တိို့ အောင် မြင်် ဖိို့ ကျွန်် တော်် တိို့ ကိို မျက်် နှာ သာ ပေး ခဲဲ့ တယ််</td>\n",
       "    </tr>\n",
       "    <tr>\n",
       "      <th>3</th>\n",
       "      <td>ကံ ကြမ္မာ က ကျွန် တော် တို့ အောင် မြင် ဖို့ မျက် နှာ သာ ပေး ခဲ့ တယ်</td>\n",
       "      <td>ကံံ ကြမ္မာ က ကျွန် တော် တို့ အောင် မြင် ဖို့ မျက် နှာ သာ ပေး ခဲ့ တယ်</td>\n",
       "    </tr>\n",
       "    <tr>\n",
       "      <th>4</th>\n",
       "      <td>ကံ ကြမ္မာ က ရဲ ရင့် သူ ကို အ ခွင့် အ ရေး ပေး တယ်</td>\n",
       "      <td>ကံ ကြမ္မာ က ရဲ ရင့် သူ ဂို အ ခွင့် အ ရေး ပေး တယ်</td>\n",
       "    </tr>\n",
       "  </tbody>\n",
       "</table>\n",
       "</div>"
      ],
      "text/plain": [
       "                                                                                                                                            syllable  \\\n",
       "0  ကံ က ဆိုး ချင် တော့ နေ စ ရာ အိမ် ရော သူ တို့ နှစ် ယောက် ရဲ့ ချစ် လှ စွာ သော မ ဟေ သီ နှစ် ယောက် ပါ မ တွေ့ တော့ နှစ် ကောင် လုံး ဘုံ ပျောက် ပြီ ပေါ့   \n",
       "1  ကံ က ဆိုး ချင် တော့ သူ ရိန် မင်း က သူ့ မိန်း မ အ တွယ် တာ က လေး မွေး တဲ့ နေ့ မှာ ဆုံး သွား ပြီ တဲ့                                                   \n",
       "2  ကံ ကြမ္မာ က ကျွန် တော် တို့ အောင် မြင် ဖို့ ကျွန် တော် တို့ ကို မျက် နှာ သာ ပေး ခဲ့ တယ်                                                             \n",
       "3  ကံ ကြမ္မာ က ကျွန် တော် တို့ အောင် မြင် ဖို့ မျက် နှာ သာ ပေး ခဲ့ တယ်                                                                                 \n",
       "4  ကံ ကြမ္မာ က ရဲ ရင့် သူ ကို အ ခွင့် အ ရေး ပေး တယ်                                                                                                    \n",
       "\n",
       "                                                                                                                                      error_sent  \n",
       "0  ကံ က ဆိုး ချင် တော့ နေ စ ရာ အိမ် ရော သူ တို နှစ် ယောက် ရဲ ချစ် လှ စွာ သော မ ဟေ သီ နှစ် ယောက် ပါ မ တွေ တော့ နှစ် ကောင် လုံး ဘုံ ပျောက် ပြီ ပေါ  \n",
       "1  ကံ က ဆို ချင် တော့ သူ ရိန် မင်း က သူ မိန် မ အ တွယ် တာ က လေ မွေ တဲ နေ မှာ ဆုံ သွာ ပီ တဲ                                                         \n",
       "2  ကံ ကြမ္မာ က ကျွန်် တော်် တိို့ အောင် မြင်် ဖိို့ ကျွန်် တော်် တိို့ ကိို မျက်် နှာ သာ ပေး ခဲဲ့ တယ််                                            \n",
       "3  ကံံ ကြမ္မာ က ကျွန် တော် တို့ အောင် မြင် ဖို့ မျက် နှာ သာ ပေး ခဲ့ တယ်                                                                           \n",
       "4  ကံ ကြမ္မာ က ရဲ ရင့် သူ ဂို အ ခွင့် အ ရေး ပေး တယ်                                                                                               "
      ]
     },
     "execution_count": 62,
     "metadata": {},
     "output_type": "execute_result"
    }
   ],
   "source": [
    "df = df.drop(columns='sent')\n",
    "df.head()"
   ]
  },
  {
   "cell_type": "code",
   "execution_count": 63,
   "id": "8a457445",
   "metadata": {},
   "outputs": [],
   "source": [
    "import os \n",
    "\n",
    "path = '/home/user/Documents/workspace_mt/Spell_checker/'\n",
    "    \n",
    "with open(path+ 'parallel_corpus.csv','w') as outFile:\n",
    "    for syl, err in zip(df['syllable'], df['error_sent']):\n",
    "        outFile.write(syl + '\\t' + err + '\\n')\n",
    "outFile.close()"
   ]
  },
  {
   "cell_type": "code",
   "execution_count": null,
   "id": "4ff97e18",
   "metadata": {},
   "outputs": [],
   "source": []
  }
 ],
 "metadata": {
  "kernelspec": {
   "display_name": "mt_env",
   "language": "python",
   "name": "mt_env"
  },
  "language_info": {
   "codemirror_mode": {
    "name": "ipython",
    "version": 3
   },
   "file_extension": ".py",
   "mimetype": "text/x-python",
   "name": "python",
   "nbconvert_exporter": "python",
   "pygments_lexer": "ipython3",
   "version": "3.8.16"
  },
  "toc": {
   "base_numbering": 1,
   "nav_menu": {},
   "number_sections": true,
   "sideBar": true,
   "skip_h1_title": false,
   "title_cell": "Table of Contents",
   "title_sidebar": "Contents",
   "toc_cell": false,
   "toc_position": {},
   "toc_section_display": true,
   "toc_window_display": true
  }
 },
 "nbformat": 4,
 "nbformat_minor": 5
}
