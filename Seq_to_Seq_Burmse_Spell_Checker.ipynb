{
 "cells": [
  {
   "cell_type": "markdown",
   "metadata": {
    "id": "cn0PrDP6OxPh"
   },
   "source": [
    "# Setup"
   ]
  },
  {
   "cell_type": "code",
   "execution_count": 1,
   "metadata": {
    "colab": {
     "base_uri": "https://localhost:8080/"
    },
    "id": "as9x7MgFO94o",
    "outputId": "46356220-b68b-46bf-bbc0-2e3e4fabe642"
   },
   "outputs": [],
   "source": [
    "#pip install einops"
   ]
  },
  {
   "cell_type": "code",
   "execution_count": 2,
   "metadata": {
    "id": "38ZEbqYtO_Kg"
   },
   "outputs": [
    {
     "name": "stderr",
     "output_type": "stream",
     "text": [
      "2023-08-06 17:47:25.030877: I tensorflow/core/util/util.cc:169] oneDNN custom operations are on. You may see slightly different numerical results due to floating-point round-off errors from different computation orders. To turn them off, set the environment variable `TF_ENABLE_ONEDNN_OPTS=0`.\n"
     ]
    }
   ],
   "source": [
    "# Modified from https://www.tensorflow.org/text/tutorials/nmt_with_attention\n",
    "import numpy as np\n",
    "\n",
    "import typing\n",
    "from typing import Any, Tuple\n",
    "\n",
    "import einops\n",
    "import matplotlib.pyplot as plt\n",
    "import matplotlib.ticker as ticker\n",
    "\n",
    "import tensorflow as tf\n",
    "import tensorflow_text as tf_text"
   ]
  },
  {
   "cell_type": "code",
   "execution_count": 3,
   "metadata": {
    "id": "yHJ3j9c4v2Go"
   },
   "outputs": [],
   "source": [
    "class ShapeChecker():\n",
    "  def __init__(self):\n",
    "    self.shapes = {}\n",
    "\n",
    "  def __call__(self, tensor, names, broadcast=False):\n",
    "    if not tf.executing_eagerly():\n",
    "      return\n",
    "\n",
    "    parsed = einops.parse_shape(tensor, names)\n",
    "\n",
    "    for name, new_dim in parsed.items():\n",
    "      old_dim = self.shapes.get(name, None)\n",
    "\n",
    "      if (broadcast and new_dim == 1):\n",
    "        continue\n",
    "\n",
    "      if old_dim is None:\n",
    "        self.shapes[name] = new_dim\n",
    "        continue\n",
    "\n",
    "      if new_dim != old_dim:\n",
    "        raise ValueError(f\"Shape mismatch for dimension: '{name}'\\n\"\n",
    "                         f\"    found: {new_dim}\\n\"\n",
    "                         f\"    expected: {old_dim}\\n\")"
   ]
  },
  {
   "cell_type": "markdown",
   "metadata": {
    "id": "EgDzm6_EQW9e"
   },
   "source": [
    "# Prepare Dataset"
   ]
  },
  {
   "cell_type": "code",
   "execution_count": 4,
   "metadata": {
    "colab": {
     "base_uri": "https://localhost:8080/"
    },
    "id": "vUhsCmFhWu_O",
    "outputId": "52820868-3caf-4685-c0fa-7fc21ed7dab9"
   },
   "outputs": [
    {
     "name": "stdout",
     "output_type": "stream",
     "text": [
      "/bin/bash: /home/ai-server/anaconda3/envs/hmp_tf/lib/libtinfo.so.6: no version information available (required by /bin/bash)\r\n",
      "ကံ က ဆိုး ချင် တော့ နေ စ ရာ အိမ် ရော သူ တို့ နှစ် ယောက် ရဲ့ ချစ် လှ စွာ သော မ ဟေ သီ နှစ် ယောက် ပါ မ တွေ့ တော့ နှစ် ကောင် လုံး ဘုံ ပျောက် ပြီ ပေါ့\tကံ က ဆိုး ချင် တော့ နေ စ ရာ အိမ်် ရော သူ တိို့ နှစ်် ယောက်် ရဲဲ့ ချစ်် လှ စွာ သော မ ဟေ သီီ နှစ်် ယောက်် ပါ မ တွေ့ တော့ နှစ်် ကောင်် လုံး ဘုံ ပျောက်် ပြီီ ပေါ့\r\n",
      "ကံ က ဆိုး ချင် တော့ သူ ရိန် မင်း က သူ့ မိန်း မ အ တွယ် တာ က လေး မွေး တဲ့ နေ့ မှာ ဆုံး သွား ပြီ တဲ့\tကံ က ဆိုး ချင် တော့ သူ ရိန် မင်း က သူ့ မိန်း မ အ တွယ် တာ က လေး မွေး တဲ့ နေ့ မှာ ဆုံး သွား ပြီ တဲ့\r\n",
      "ကံ ကြမ္မာ က ကျွန် တော် တို့ အောင် မြင် ဖို့ ကျွန် တော် တို့ ကို မျက် နှာ သာ ပေး ခဲ့ တယ်\tကံ ကြမ္မာ က ကျွန် တော် တို့ အောင် မြင် ဖို့ ကျွန် တော် တို့ ကို မျက် နှာ သာ ပေး ခ့ဲ တယ်\r\n",
      "ကံ ကြမ္မာ က ကျွန် တော် တို့ အောင် မြင် ဖို့ မျက် နှာ သာ ပေး ခဲ့ တယ်\tကံ့ ကြမ္မာ က ကျွန် တော့် တို့ အောင့် မြင့် ဖို့ မျက် နှာ သာ ပေး ခဲ့ တယ့်\r\n",
      "ကံ ကြမ္မာ က ရဲ ရင့် သူ ကို အ ခွင့် အ ရေး ပေး တယ်\tကံ ကြမ္မာ က ၇ဲ ၇င့် သူ ကို အ ခွင့် အ ၇ေး ပေး တယ်\r\n",
      "ကံ ကြမ္မာ ကို စိတ် ဝင် စား သူ တိုင်း လေ့ လာ သင့် တဲ့ စာ အုပ် ပါ ပဲ\tကံ ကြမ္မာ ကို စိတ် ဝင် စာ သူ တိုင်း လေ လာ သင့် တဲ စာ အုပ် ပါ ပဲ\r\n",
      "ကံ ကြမ္မာ ကို ညှိုး မယ် ဖွဲ့ လိုက် နေ့ ရက် တိုင်း ကို သက် ပြင်း ချ လိုက် တ ခြား သူ ရဲ့ အောင် မြင် မှု တွေ ကို အား ကျ လိုက် နဲ့ ပဲ ကိုယ် လျှောက် တဲ့ လမ်း ကို အ ဆိုး မြင် ပစ် လိုက် တယ်\tကံ ကြမ္မာ ကို ညှိုး မယ် ဖွဲ့ လိုက် နေ့ ရက် တိုင်း ကို သက် ပြင်း ချ လိုက် တ ခြား သူး ရဲ့ အောင် မြင် မှု တွေး ကို အား ကျ လိုက် နဲ့ ပဲ ကိုယ် လျှောက် တဲ့ လမ်း ကို အ ဆိုး မြင် ပစ် လိုက် တယ်\r\n",
      "ကံ ကြမ္မာ ကို ယုံ ကြည် ပါ တယ်\tကံ ကြမ္မာ ကို ယုံ ကြည် ပါ တယ်\r\n",
      "ကံ ကြမ္မာ ကို အ ပြစ် တင် တယ်\tကံ ကြမ္မာ ကို အ ပြစ် တင် တယ်\r\n",
      "ကံ ကြမ္မာ ဆို တာ ဈေး ကွက် နဲ့ သဏ္ဌာန် တူ တယ်\tကံ ကြမ္မာ ဆို တာ စျေး ကွက် နဲ့ သဏ္ဌာန် တူ တယ်\r\n"
     ]
    }
   ],
   "source": [
    "!head parallel_corpus.csv"
   ]
  },
  {
   "cell_type": "code",
   "execution_count": 5,
   "metadata": {
    "colab": {
     "base_uri": "https://localhost:8080/"
    },
    "id": "Atth4JD3TgQJ",
    "outputId": "d31e9f0b-0703-4eb8-aad1-5d4c808207ae"
   },
   "outputs": [
    {
     "name": "stdout",
     "output_type": "stream",
     "text": [
      "/bin/bash: /home/ai-server/anaconda3/envs/hmp_tf/lib/libtinfo.so.6: no version information available (required by /bin/bash)\r\n",
      "297746 parallel_corpus.csv\r\n"
     ]
    }
   ],
   "source": [
    "!wc -l parallel_corpus.csv"
   ]
  },
  {
   "cell_type": "code",
   "execution_count": 6,
   "metadata": {
    "colab": {
     "base_uri": "https://localhost:8080/"
    },
    "id": "jA_hPQV_Wite",
    "outputId": "64b264ab-a0e1-4d6f-d954-1bfe7948679e"
   },
   "outputs": [
    {
     "name": "stdout",
     "output_type": "stream",
     "text": [
      "/bin/bash: /home/ai-server/anaconda3/envs/hmp_tf/lib/libtinfo.so.6: no version information available (required by /bin/bash)\n",
      "/bin/bash: /home/ai-server/anaconda3/envs/hmp_tf/lib/libtinfo.so.6: no version information available (required by /bin/bash)\n",
      "မြန် မာ ပြည် တစ် ပြည် လုံး နီး ပါး မြို့ ကြီး ပေါင်း တစ် ရာ့ လေး ဆယ် ကျော် မှာ ပန်း ပို့ ကိုယ် စား လှယ် လေး တွေ ရှိ ပါ တယ်\tမြန် မာ ပြည် တစ် ပြည် လုံး နီ ပါ မြို ကြီ ပေါင် တစ် ရာ လေ ဆယ် ကျော် မှာ ပန် ပို ကိုယ် စာ လှယ် လေ တေ ရှိ ပါ တယ်\n",
      "က လေး နည်း နည်း ကြီး ရင် ရင် ညွန့် ရိုး မှာ တစ် လက် မ အ ထိ အောက် ကျ သွား အောင် ထိ ပါ\tက လေး နည်း နည်း ကြီး ရင် ရင် ညွန့် ရုိး မှာ တစ် လက် မ အ ထိ အောက် ကျ သွား အောင် ထိ ပါ\n",
      "အ ပူ သည် ကိုယ် ထည် များ ကို ကျယ် ပြန့် စေ သ လား\tအ ပူ့ သည့် ကိုယ့် ထည့် များ ကို ကျယ် ပြန့် စေ သ လား\n",
      "ပြဋ္ဌာန်း ထား သော ဥ ပ ဒေ နည်း ဥ ပ ဒေ များ မှ တား မြစ် ချက် တစ် ရပ် ရပ် ကို ဖောက် ဖျက် ကျူး လွန် ပြီး ပြစ် မှု ထင် ရှား ပါ က သုံး နှစ် ထက် မ ပို သော ထောင် ဒဏ် ဖြစ် စေ ငွေ ဒဏ် သုံး သိန်း ဖြစ် စေ ပြစ် ဒဏ် နှစ် ရပ် လုံး ဖြစ် စေ ချ မှတ် ခံ ရ မည် ဖြစ် သည်\tပြဋ္ဌာန်း ထား သော ဥ ပ ဒေ နည်း ဥ ပ ဒေ များ မှ တား မြစ် ချက် တစ် ရပ် ရပ် ကို ဖောက် ဖျက် ကျူး လွန် ပြီး ပြစ် မှု ထင် ရှား ပါ က သုံး နှစ် ထက် မ ပို သော ထောင် ဒဏ် ဖြစ် စေ ငွေ ဒဏ် သုံး သိန်း ဖြစ် စေ ပြစ် ဒဏ် နှစ် ရပ် လုံး ဖြစ် စေ ချ မှတ် ခံ ရ မည် ဖြစ် သည်\n",
      "မည် သည့် အ စား အ စာ မှ ပါး စပ် မှ မ ကျွေး ပါ နှင့်\tမည် သည့် အ စား အ စာ မှ ပါး စပ့် မှ မ ကျွေး ပါ နှင့့်\n",
      "ကျွန် တော် လို ချင် တဲ့ အ ခါ တိုင်း တစ် ရက် ကျွန် တော် အ နား ယူ နိုင် တယ်\tကျွန် တော် လို ချင် တဲ့ အ ခါ တိုင်း တစ် ရက် ကျွန် တော် အ နား ယူ နိုင် တယ်\n",
      "ဆေး သွင်း ပြီး ရင် ဘယ် လို မှ ကို မ ခံ စား ရ ဘူး\tဆေး သွင််း ပြီး ရင်် ဘယ်် လို မှ ကို မ ခံ စား ရ ဘူး\n",
      "ရှင် ဒါ ကို ယုံ နိုင် ရဲ့ လား\tရှင်် ဒါ ကို ယုံ နိုင် ရဲ့ လား\n",
      "လော က ကြီး အ တွက် ကောင်း ရာ ကောင်း ကြောင်း တွေ ကို လည်း ဖန် တီး နိုင် တယ်\tလော က ကြီီး အ တွက် ကောင််း ရာ ကောင််း ကြောင်း တွေ ကို လည်း ဖန် တီး နိုင် တယ်\n",
      "မ တူ တဲ့ ထင် မြင် ယူ ဆ ချက် တစ် ခု ကြောင့် ပါ\tမ တူ တဲ့ ထင် မြင် ယူ ဆ ချက် တစ် ခု ကြောင့့် ပါ\n"
     ]
    }
   ],
   "source": [
    "#shuffle data\n",
    "!shuf parallel_corpus.csv > parallel_corpus.shuf.csv\n",
    "!head parallel_corpus.shuf.csv"
   ]
  },
  {
   "cell_type": "code",
   "execution_count": 7,
   "metadata": {
    "id": "yylnBVMASVNb"
   },
   "outputs": [],
   "source": [
    "path_to_file = \"parallel_corpus.shuf.csv\""
   ]
  },
  {
   "cell_type": "code",
   "execution_count": 8,
   "metadata": {
    "id": "1n3HLqp1Ypon"
   },
   "outputs": [],
   "source": [
    "from pathlib import Path\n",
    "def load_data(path):\n",
    "  path = Path (path)\n",
    "  text = path.read_text(encoding='utf-8')\n",
    "\n",
    "  lines = text.splitlines()\n",
    "  pairs = [line.split('\\t') for line in lines]\n",
    "\n",
    "  context = np.array([context for target, context in pairs])\n",
    "  target = np.array([target for target, context in pairs])\n",
    "\n",
    "  return target, context"
   ]
  },
  {
   "cell_type": "code",
   "execution_count": 9,
   "metadata": {
    "colab": {
     "base_uri": "https://localhost:8080/"
    },
    "id": "kwMU43JUY3nX",
    "outputId": "3e42e5d6-7e1c-44aa-d5b9-096b87e0daf8"
   },
   "outputs": [
    {
     "name": "stdout",
     "output_type": "stream",
     "text": [
      "ကျွန်် တော် တို့ ခင် ဗျား ကို မ ယုံ ခဲ့ လိို့ လား\n"
     ]
    }
   ],
   "source": [
    "target_raw, context_raw = load_data(path_to_file)\n",
    "print(context_raw[-1])"
   ]
  },
  {
   "cell_type": "code",
   "execution_count": 10,
   "metadata": {
    "colab": {
     "base_uri": "https://localhost:8080/"
    },
    "id": "Wmc6YZO9Y72n",
    "outputId": "ffd1046a-2f95-4bed-f62b-fd2bce850fac"
   },
   "outputs": [
    {
     "name": "stdout",
     "output_type": "stream",
     "text": [
      "ကျွန် တော် တို့ ခင် ဗျား ကို မ ယုံ ခဲ့ လို့ လား\n"
     ]
    }
   ],
   "source": [
    "print(target_raw[-1])"
   ]
  },
  {
   "cell_type": "markdown",
   "metadata": {
    "id": "nFbVWUy7Y9Iv"
   },
   "source": [
    "## Create a tf.data dataset"
   ]
  },
  {
   "cell_type": "markdown",
   "metadata": {
    "id": "GH5mcwPRZD-H"
   },
   "source": [
    "create a tf.data.Dataset of strings that shuffles and batches them efficiently:"
   ]
  },
  {
   "cell_type": "code",
   "execution_count": 11,
   "metadata": {
    "id": "Lxjb38IAZHHp"
   },
   "outputs": [
    {
     "name": "stderr",
     "output_type": "stream",
     "text": [
      "2023-08-06 17:47:34.732118: I tensorflow/stream_executor/cuda/cuda_gpu_executor.cc:975] successful NUMA node read from SysFS had negative value (-1), but there must be at least one NUMA node, so returning NUMA node zero\n",
      "2023-08-06 17:47:34.758699: I tensorflow/stream_executor/cuda/cuda_gpu_executor.cc:975] successful NUMA node read from SysFS had negative value (-1), but there must be at least one NUMA node, so returning NUMA node zero\n",
      "2023-08-06 17:47:34.758853: I tensorflow/stream_executor/cuda/cuda_gpu_executor.cc:975] successful NUMA node read from SysFS had negative value (-1), but there must be at least one NUMA node, so returning NUMA node zero\n",
      "2023-08-06 17:47:34.759253: I tensorflow/core/platform/cpu_feature_guard.cc:193] This TensorFlow binary is optimized with oneAPI Deep Neural Network Library (oneDNN) to use the following CPU instructions in performance-critical operations:  AVX2 AVX512F AVX512_VNNI FMA\n",
      "To enable them in other operations, rebuild TensorFlow with the appropriate compiler flags.\n",
      "2023-08-06 17:47:34.759567: I tensorflow/stream_executor/cuda/cuda_gpu_executor.cc:975] successful NUMA node read from SysFS had negative value (-1), but there must be at least one NUMA node, so returning NUMA node zero\n",
      "2023-08-06 17:47:34.759691: I tensorflow/stream_executor/cuda/cuda_gpu_executor.cc:975] successful NUMA node read from SysFS had negative value (-1), but there must be at least one NUMA node, so returning NUMA node zero\n",
      "2023-08-06 17:47:34.759798: I tensorflow/stream_executor/cuda/cuda_gpu_executor.cc:975] successful NUMA node read from SysFS had negative value (-1), but there must be at least one NUMA node, so returning NUMA node zero\n",
      "2023-08-06 17:47:35.024336: I tensorflow/stream_executor/cuda/cuda_gpu_executor.cc:975] successful NUMA node read from SysFS had negative value (-1), but there must be at least one NUMA node, so returning NUMA node zero\n",
      "2023-08-06 17:47:35.024475: I tensorflow/stream_executor/cuda/cuda_gpu_executor.cc:975] successful NUMA node read from SysFS had negative value (-1), but there must be at least one NUMA node, so returning NUMA node zero\n",
      "2023-08-06 17:47:35.024573: I tensorflow/stream_executor/cuda/cuda_gpu_executor.cc:975] successful NUMA node read from SysFS had negative value (-1), but there must be at least one NUMA node, so returning NUMA node zero\n",
      "2023-08-06 17:47:35.024660: I tensorflow/core/common_runtime/gpu/gpu_device.cc:1532] Created device /job:localhost/replica:0/task:0/device:GPU:0 with 10216 MB memory:  -> device: 0, name: NVIDIA GeForce RTX 3060, pci bus id: 0000:01:00.0, compute capability: 8.6\n"
     ]
    }
   ],
   "source": [
    "BUFFER_SIZE = len(context_raw)\n",
    "BATCH_SIZE = 32\n",
    "\n",
    "is_train = np.random.uniform(size=(len(target_raw),)) < 0.8\n",
    "\n",
    "train_raw = (\n",
    "    tf.data.Dataset\n",
    "    .from_tensor_slices((context_raw[is_train], target_raw[is_train]))\n",
    "    .shuffle(BUFFER_SIZE)\n",
    "    .batch(BATCH_SIZE))\n",
    "val_raw = (\n",
    "    tf.data.Dataset\n",
    "    .from_tensor_slices((context_raw[~is_train], target_raw[~is_train]))\n",
    "    .shuffle(BUFFER_SIZE)\n",
    "    .batch(BATCH_SIZE))"
   ]
  },
  {
   "cell_type": "markdown",
   "metadata": {
    "id": "_PVoFZtrZVJf"
   },
   "source": [
    "## Text Preprocessing"
   ]
  },
  {
   "cell_type": "code",
   "execution_count": 12,
   "metadata": {
    "id": "vyy_gNkdP592"
   },
   "outputs": [],
   "source": [
    "# standardization\n",
    "def standardize(text):\n",
    "  text = tf.strings.strip(text)\n",
    "\n",
    "  text = tf.strings.join(['[START]', text, '[END]'], separator=' ')\n",
    "  return text"
   ]
  },
  {
   "cell_type": "code",
   "execution_count": 13,
   "metadata": {
    "id": "G3_uRGFAWz-4"
   },
   "outputs": [],
   "source": [
    "# vectorization\n",
    "max_vocab_size = 15000\n",
    "\n",
    "context_text_processor = tf.keras.layers.TextVectorization(\n",
    "    standardize=standardize,\n",
    "    max_tokens=max_vocab_size,\n",
    "    ragged=True)"
   ]
  },
  {
   "cell_type": "code",
   "execution_count": 14,
   "metadata": {
    "colab": {
     "base_uri": "https://localhost:8080/"
    },
    "id": "XAufkaohXHRl",
    "outputId": "89e9ef00-e59e-45e7-f7ee-1146491cf415"
   },
   "outputs": [
    {
     "data": {
      "text/plain": [
       "['', '[UNK]', 'အ', '[START]', '[END]', 'ပါ', 'က', 'မ', 'တယ်', 'ကို']"
      ]
     },
     "execution_count": 14,
     "metadata": {},
     "output_type": "execute_result"
    }
   ],
   "source": [
    "context_text_processor.adapt(train_raw.map(lambda context, target: context))\n",
    "context_text_processor.get_vocabulary()[:10]"
   ]
  },
  {
   "cell_type": "code",
   "execution_count": 15,
   "metadata": {
    "colab": {
     "base_uri": "https://localhost:8080/"
    },
    "id": "3Lyx5iArd595",
    "outputId": "6b94314e-71f1-4d5b-ceaf-af48ca1c6777"
   },
   "outputs": [
    {
     "data": {
      "text/plain": [
       "['', '[UNK]', 'အ', '[START]', '[END]', 'ပါ', 'ကို', 'တယ်', 'က', 'မ']"
      ]
     },
     "execution_count": 15,
     "metadata": {},
     "output_type": "execute_result"
    }
   ],
   "source": [
    "target_text_processor = tf.keras.layers.TextVectorization(\n",
    "    standardize=standardize,\n",
    "    max_tokens=max_vocab_size,\n",
    "    ragged=True)\n",
    "\n",
    "target_text_processor.adapt(train_raw.map(lambda context, target: target))\n",
    "target_text_processor.get_vocabulary()[:10]"
   ]
  },
  {
   "cell_type": "code",
   "execution_count": 16,
   "metadata": {
    "colab": {
     "base_uri": "https://localhost:8080/"
    },
    "id": "669Njj8Xzfov",
    "outputId": "355d632c-52ba-4775-d036-31909d771f25"
   },
   "outputs": [
    {
     "data": {
      "text/plain": [
       "5179"
      ]
     },
     "execution_count": 16,
     "metadata": {},
     "output_type": "execute_result"
    }
   ],
   "source": [
    "len(target_text_processor.get_vocabulary())"
   ]
  },
  {
   "cell_type": "code",
   "execution_count": 17,
   "metadata": {
    "colab": {
     "base_uri": "https://localhost:8080/"
    },
    "id": "D5V1mS8rT1kR",
    "outputId": "2e6df095-662d-497c-d178-f2c3bfb04c0f"
   },
   "outputs": [
    {
     "data": {
      "text/plain": [
       "12044"
      ]
     },
     "execution_count": 17,
     "metadata": {},
     "output_type": "execute_result"
    }
   ],
   "source": [
    "len(context_text_processor.get_vocabulary())"
   ]
  },
  {
   "cell_type": "markdown",
   "metadata": {
    "id": "Rfuh2X6UjG9L"
   },
   "source": [
    "# Process the dataset"
   ]
  },
  {
   "cell_type": "markdown",
   "metadata": {
    "id": "y6IgIWLujbjQ"
   },
   "source": [
    "The process_text function below converts the Datasets of strings, into 0-padded tensors of token IDs. It also converts from a (context, target) pair to an ((context, target_in), target_out) pair for training with keras.Model.fit. Keras expects (inputs, labels) pairs, the inputs are the (context, target_in) and the labels are target_out. The difference between target_in and target_out is that they are shifted by one step relative to eachother, so that at each location the label is the next token."
   ]
  },
  {
   "cell_type": "code",
   "execution_count": 18,
   "metadata": {
    "id": "oFlxhe9tjIGh"
   },
   "outputs": [],
   "source": [
    "def process_text(context, target):\n",
    "  context = context_text_processor(context).to_tensor()\n",
    "  target = target_text_processor(target)\n",
    "  targ_in = target[:,:-1].to_tensor()\n",
    "  targ_out = target[:,1:].to_tensor()\n",
    "  return (context, targ_in), targ_out\n",
    "\n",
    "train_ds = train_raw.map(process_text, tf.data.AUTOTUNE)\n",
    "val_ds = val_raw.map(process_text, tf.data.AUTOTUNE)"
   ]
  },
  {
   "cell_type": "code",
   "execution_count": 19,
   "metadata": {
    "colab": {
     "base_uri": "https://localhost:8080/"
    },
    "id": "UEZ5fXkVjfbA",
    "outputId": "438a026f-d1bf-4e51-b617-b6e9db808ba0"
   },
   "outputs": [
    {
     "name": "stdout",
     "output_type": "stream",
     "text": [
      "[   3  423   12  162    6  900 2530  248   58    2]\n",
      "\n",
      "[   3  398   14   10    8  834 1510  214   54    2]\n",
      "[ 398   14   10    8  834 1510  214   54    2   94]\n"
     ]
    }
   ],
   "source": [
    "for (ex_context_tok, ex_tar_in), ex_tar_out in train_ds.take(1):\n",
    "  print(ex_context_tok[0, :10].numpy())\n",
    "  print()\n",
    "  print(ex_tar_in[0, :10].numpy())\n",
    "  print(ex_tar_out[0, :10].numpy())"
   ]
  },
  {
   "cell_type": "markdown",
   "metadata": {
    "id": "QiQw-JV2kC7j"
   },
   "source": [
    "# Encoder"
   ]
  },
  {
   "cell_type": "markdown",
   "metadata": {
    "id": "85SRfgSsk8eZ"
   },
   "source": [
    "The encoder: bidirectional RNN\n",
    "\n",
    "Takes a list of token IDs (from context_text_processor).\n",
    "\n",
    "Looks up an embedding vector for each token (Using a layers.Embedding).\n",
    "\n",
    "Processes the embeddings into a new sequence (Using a bidirectional layers.GRU).\n",
    "\n",
    "Returns the processed sequence. This will be passed to the attention head."
   ]
  },
  {
   "cell_type": "code",
   "execution_count": 20,
   "metadata": {
    "id": "ni3J0s2skBDb"
   },
   "outputs": [],
   "source": [
    "UNITS = 512"
   ]
  },
  {
   "cell_type": "code",
   "execution_count": 21,
   "metadata": {
    "id": "6ygq6mdhlFoJ"
   },
   "outputs": [],
   "source": [
    "class Encoder(tf.keras.layers.Layer):\n",
    "  def __init__(self, text_processor, units):\n",
    "    super(Encoder, self).__init__()\n",
    "    self.text_processor = text_processor\n",
    "    self.vocab_size = text_processor.vocabulary_size()\n",
    "    self.units = units\n",
    "\n",
    "    self.embedding = tf.keras.layers.Embedding(self.vocab_size, units,\n",
    "                                               mask_zero=True)\n",
    "\n",
    "    self.rnn = tf.keras.layers.Bidirectional(\n",
    "        merge_mode='sum',\n",
    "        layer=tf.keras.layers.GRU(units,\n",
    "                            return_sequences=True,\n",
    "                            recurrent_initializer='glorot_uniform'))\n",
    "\n",
    "  def call(self, x):\n",
    "    shape_checker = ShapeChecker()\n",
    "    shape_checker(x, 'batch s')\n",
    "\n",
    "    x = self.embedding(x)\n",
    "    shape_checker(x, 'batch s units')\n",
    "\n",
    "    x = self.rnn(x)\n",
    "    shape_checker(x, 'batch s units')\n",
    "    x = self.rnn(x)\n",
    "    shape_checker(x, 'batch s units')\n",
    "\n",
    "    return x\n",
    "\n",
    "  def convert_input(self, texts):\n",
    "    texts = tf.convert_to_tensor(texts)\n",
    "    if len(texts.shape) == 0:\n",
    "      texts = tf.convert_to_tensor(texts)[tf.newaxis]\n",
    "    context = self.text_processor(texts).to_tensor()\n",
    "    context = self(context)\n",
    "    return context"
   ]
  },
  {
   "cell_type": "code",
   "execution_count": 22,
   "metadata": {
    "colab": {
     "base_uri": "https://localhost:8080/"
    },
    "id": "2NjIA5QvlHph",
    "outputId": "90f94945-5d04-4770-9b1f-4ee801ec6b4f"
   },
   "outputs": [
    {
     "name": "stdout",
     "output_type": "stream",
     "text": [
      "Context tokens, shape (batch, s): (32, 46)\n",
      "Encoder output, shape (batch, s, units): (32, 46, 512)\n"
     ]
    },
    {
     "name": "stderr",
     "output_type": "stream",
     "text": [
      "2023-08-06 17:47:43.823807: I tensorflow/stream_executor/cuda/cuda_dnn.cc:384] Loaded cuDNN version 8600\n"
     ]
    }
   ],
   "source": [
    "# Encode the input sequence.\n",
    "encoder = Encoder(context_text_processor, UNITS)\n",
    "ex_context = encoder(ex_context_tok)\n",
    "\n",
    "print(f'Context tokens, shape (batch, s): {ex_context_tok.shape}')\n",
    "print(f'Encoder output, shape (batch, s, units): {ex_context.shape}')"
   ]
  },
  {
   "cell_type": "markdown",
   "metadata": {
    "id": "FFuSmCTVmkON"
   },
   "source": [
    "# The attention layer"
   ]
  },
  {
   "cell_type": "markdown",
   "metadata": {
    "id": "Nj3rys8umzYL"
   },
   "source": [
    "The attention layer lets the decoder access the information extracted by the encoder. It computes a vector from the entire context sequence, and adds that to the decoder's output."
   ]
  },
  {
   "cell_type": "code",
   "execution_count": 23,
   "metadata": {
    "id": "5ZPoX8xJmWdU"
   },
   "outputs": [],
   "source": [
    "class CrossAttention(tf.keras.layers.Layer):\n",
    "  def __init__(self, units, **kwargs):\n",
    "    super().__init__()\n",
    "    self.mha = tf.keras.layers.MultiHeadAttention(key_dim=units, num_heads=1, **kwargs)\n",
    "    self.layernorm = tf.keras.layers.LayerNormalization()\n",
    "    self.add = tf.keras.layers.Add()\n",
    "\n",
    "  def call(self, x, context):\n",
    "    shape_checker = ShapeChecker()\n",
    "\n",
    "    shape_checker(x, 'batch t units')\n",
    "    shape_checker(context, 'batch s units')\n",
    "\n",
    "    attn_output, attn_scores = self.mha(\n",
    "        query=x,\n",
    "        value=context,\n",
    "        return_attention_scores=True)\n",
    "\n",
    "    shape_checker(x, 'batch t units')\n",
    "    shape_checker(attn_scores, 'batch heads t s')\n",
    "    attn_scores = tf.reduce_mean(attn_scores, axis=1)\n",
    "    shape_checker(attn_scores, 'batch t s')\n",
    "    self.last_attention_weights = attn_scores\n",
    "\n",
    "    x = self.add([x, attn_output])\n",
    "    x = self.layernorm(x)\n",
    "\n",
    "    return x"
   ]
  },
  {
   "cell_type": "code",
   "execution_count": 24,
   "metadata": {
    "colab": {
     "base_uri": "https://localhost:8080/"
    },
    "id": "Xa0oxwt7m7uo",
    "outputId": "cadc247e-e98a-404f-8582-cc63358ccede"
   },
   "outputs": [
    {
     "name": "stdout",
     "output_type": "stream",
     "text": [
      "Context sequence, shape (batch, s, units): (32, 46, 512)\n",
      "Target sequence, shape (batch, t, units): (32, 45, 512)\n",
      "Attention result, shape (batch, t, units): (32, 45, 512)\n",
      "Attention weights, shape (batch, t, s):    (32, 45, 46)\n"
     ]
    },
    {
     "name": "stderr",
     "output_type": "stream",
     "text": [
      "2023-08-06 17:47:44.045760: I tensorflow/stream_executor/cuda/cuda_blas.cc:1786] TensorFloat-32 will be used for the matrix multiplication. This will only be logged once.\n"
     ]
    }
   ],
   "source": [
    "attention_layer = CrossAttention(UNITS)\n",
    "embed = tf.keras.layers.Embedding(target_text_processor.vocabulary_size(),\n",
    "                                  output_dim=UNITS, mask_zero=True)\n",
    "ex_tar_embed = embed(ex_tar_in)\n",
    "\n",
    "result = attention_layer(ex_tar_embed, ex_context)\n",
    "\n",
    "print(f'Context sequence, shape (batch, s, units): {ex_context.shape}')\n",
    "print(f'Target sequence, shape (batch, t, units): {ex_tar_embed.shape}')\n",
    "print(f'Attention result, shape (batch, t, units): {result.shape}')\n",
    "print(f'Attention weights, shape (batch, t, s):    {attention_layer.last_attention_weights.shape}')"
   ]
  },
  {
   "cell_type": "markdown",
   "metadata": {
    "id": "B1UlZIJLpa7F"
   },
   "source": [
    "The attention weights will sum to 1 over the context sequence, at each location in the target sequence."
   ]
  },
  {
   "cell_type": "code",
   "execution_count": 25,
   "metadata": {
    "colab": {
     "base_uri": "https://localhost:8080/"
    },
    "id": "12d8FFLUnLYD",
    "outputId": "643bf4e1-c896-41bf-a686-652bf4b443d6"
   },
   "outputs": [
    {
     "data": {
      "text/plain": [
       "array([1.        , 0.99999994, 0.99999994, 1.        , 0.9999999 ,\n",
       "       0.99999994, 0.9999999 , 1.0000001 , 1.        , 1.        ,\n",
       "       0.9999999 , 1.        , 1.        , 0.9999999 , 1.        ,\n",
       "       0.99999994, 1.        , 1.        , 1.        , 1.        ,\n",
       "       1.        , 1.        , 1.        , 1.        , 1.        ,\n",
       "       1.        , 1.        , 1.        , 1.        , 1.        ,\n",
       "       1.        , 1.        , 1.        , 1.        , 1.        ,\n",
       "       1.        , 1.        , 1.        , 1.        , 1.        ,\n",
       "       1.        , 1.        , 1.        , 1.        , 1.        ],\n",
       "      dtype=float32)"
      ]
     },
     "execution_count": 25,
     "metadata": {},
     "output_type": "execute_result"
    }
   ],
   "source": [
    "attention_layer.last_attention_weights[0].numpy().sum(axis=-1)"
   ]
  },
  {
   "cell_type": "markdown",
   "metadata": {
    "id": "Yz93OJFhpjTe"
   },
   "source": [
    "# The decoder"
   ]
  },
  {
   "cell_type": "markdown",
   "metadata": {
    "id": "mgInQQjnpnll"
   },
   "source": [
    "Decoder : unidirectional RNN\n",
    "\n",
    "The decoder's job is to generate predictions for the next token at each location in the target sequence.\n",
    "\n",
    "It looks up embeddings for each token in the target sequence.\n",
    "\n",
    "It uses an RNN to process the target sequence, and keep track of what it has generated so far.\n",
    "\n",
    "It uses RNN output as the \"query\" to the attention layer, when attending to the encoder's output.\n",
    "\n",
    "At each location in the output it predicts the next token."
   ]
  },
  {
   "cell_type": "code",
   "execution_count": 26,
   "metadata": {
    "id": "tzyY_mz1pylp"
   },
   "outputs": [],
   "source": [
    "class Decoder(tf.keras.layers.Layer):\n",
    "  @classmethod\n",
    "  def add_method(cls, fun):\n",
    "    setattr(cls, fun.__name__, fun)\n",
    "    return fun\n",
    "\n",
    "  def __init__(self, text_processor, units):\n",
    "    super(Decoder, self).__init__()\n",
    "    self.text_processor = text_processor\n",
    "    self.vocab_size = text_processor.vocabulary_size()\n",
    "    self.word_to_id = tf.keras.layers.StringLookup(\n",
    "        vocabulary=text_processor.get_vocabulary(),\n",
    "        mask_token='', oov_token='[UNK]')\n",
    "    self.id_to_word = tf.keras.layers.StringLookup(\n",
    "        vocabulary=text_processor.get_vocabulary(),\n",
    "        mask_token='', oov_token='[UNK]',\n",
    "        invert=True)\n",
    "    self.start_token = self.word_to_id('[START]')\n",
    "    self.end_token = self.word_to_id('[END]')\n",
    "\n",
    "    self.units = units\n",
    "\n",
    "    self.embedding = tf.keras.layers.Embedding(self.vocab_size,\n",
    "                                               units, mask_zero=True)\n",
    "\n",
    "    self.rnn = tf.keras.layers.GRU(units,\n",
    "                                   return_sequences=True,\n",
    "                                   return_state=True,\n",
    "                                   recurrent_initializer='glorot_uniform')\n",
    "\n",
    "    self.attention = CrossAttention(units)\n",
    "\n",
    "    self.output_layer = tf.keras.layers.Dense(self.vocab_size)"
   ]
  },
  {
   "cell_type": "code",
   "execution_count": 27,
   "metadata": {
    "id": "DUImPV2-qGT2"
   },
   "outputs": [],
   "source": [
    "@Decoder.add_method\n",
    "def call(self,\n",
    "         context, x,\n",
    "         state=None,\n",
    "         return_state=False):\n",
    "  shape_checker = ShapeChecker()\n",
    "  shape_checker(x, 'batch t')\n",
    "  shape_checker(context, 'batch s units')\n",
    "\n",
    "  x = self.embedding(x)\n",
    "  shape_checker(x, 'batch t units')\n",
    "\n",
    "  x, state = self.rnn(x, initial_state=state)\n",
    "  shape_checker(x, 'batch t units')\n",
    "\n",
    "  x = self.attention(x, context)\n",
    "  self.last_attention_weights = self.attention.last_attention_weights\n",
    "  shape_checker(x, 'batch t units')\n",
    "  shape_checker(self.last_attention_weights, 'batch t s')\n",
    "\n",
    "  logits = self.output_layer(x)\n",
    "  shape_checker(logits, 'batch t target_vocab_size')\n",
    "\n",
    "  if return_state:\n",
    "    return logits, state\n",
    "  else:\n",
    "    return logits"
   ]
  },
  {
   "cell_type": "code",
   "execution_count": 28,
   "metadata": {
    "id": "kO23zSwJqRvU"
   },
   "outputs": [],
   "source": [
    "decoder = Decoder(target_text_processor, UNITS)"
   ]
  },
  {
   "cell_type": "code",
   "execution_count": 29,
   "metadata": {
    "colab": {
     "base_uri": "https://localhost:8080/"
    },
    "id": "sZCgho3DqVyt",
    "outputId": "2f859e4a-bd7a-4a22-f9b8-712892f0baff"
   },
   "outputs": [
    {
     "name": "stdout",
     "output_type": "stream",
     "text": [
      "encoder output shape: (batch, s, units) (32, 46, 512)\n",
      "input target tokens shape: (batch, t) (32, 45)\n",
      "logits shape shape: (batch, target_vocabulary_size) (32, 45, 5179)\n"
     ]
    }
   ],
   "source": [
    "logits = decoder(ex_context, ex_tar_in)\n",
    "\n",
    "print(f'encoder output shape: (batch, s, units) {ex_context.shape}')\n",
    "print(f'input target tokens shape: (batch, t) {ex_tar_in.shape}')\n",
    "print(f'logits shape shape: (batch, target_vocabulary_size) {logits.shape}')"
   ]
  },
  {
   "cell_type": "markdown",
   "metadata": {
    "id": "dwvFpBzNqfQX"
   },
   "source": [
    "# Inference"
   ]
  },
  {
   "cell_type": "code",
   "execution_count": 30,
   "metadata": {
    "id": "eNi1YXIGqgMI"
   },
   "outputs": [],
   "source": [
    "@Decoder.add_method\n",
    "def get_initial_state(self, context):\n",
    "  batch_size = tf.shape(context)[0]\n",
    "  start_tokens = tf.fill([batch_size, 1], self.start_token)\n",
    "  done = tf.zeros([batch_size, 1], dtype=tf.bool)\n",
    "  embedded = self.embedding(start_tokens)\n",
    "  return start_tokens, done, self.rnn.get_initial_state(embedded)[0]"
   ]
  },
  {
   "cell_type": "code",
   "execution_count": 31,
   "metadata": {
    "id": "SmgpYvciqj3l"
   },
   "outputs": [],
   "source": [
    "@Decoder.add_method\n",
    "def tokens_to_text(self, tokens):\n",
    "  words = self.id_to_word(tokens)\n",
    "  result = tf.strings.reduce_join(words, axis=-1, separator=' ')\n",
    "  result = tf.strings.regex_replace(result, '^ *\\[START\\] *', '')\n",
    "  result = tf.strings.regex_replace(result, ' *\\[END\\] *$', '')\n",
    "  return result"
   ]
  },
  {
   "cell_type": "code",
   "execution_count": 32,
   "metadata": {
    "id": "CJhwmlRsqlwr"
   },
   "outputs": [],
   "source": [
    "@Decoder.add_method\n",
    "def get_next_token(self, context, next_token, done, state, temperature = 0.0):\n",
    "  logits, state = self(\n",
    "    context, next_token,\n",
    "    state = state,\n",
    "    return_state=True)\n",
    "\n",
    "  if temperature == 0.0:\n",
    "    next_token = tf.argmax(logits, axis=-1)\n",
    "  else:\n",
    "    logits = logits[:, -1, :]/temperature\n",
    "    next_token = tf.random.categorical(logits, num_samples=1)\n",
    "\n",
    "  done = done | (next_token == self.end_token)\n",
    "  next_token = tf.where(done, tf.constant(0, dtype=tf.int64), next_token)\n",
    "\n",
    "  return next_token, done, state"
   ]
  },
  {
   "cell_type": "code",
   "execution_count": 33,
   "metadata": {
    "id": "mRLa7-MUqp5D"
   },
   "outputs": [],
   "source": [
    "next_token, done, state = decoder.get_initial_state(ex_context)\n",
    "tokens = []\n",
    "\n",
    "for n in range(10):\n",
    "  next_token, done, state = decoder.get_next_token(\n",
    "      ex_context, next_token, done, state, temperature=1.0)\n",
    "  tokens.append(next_token)\n",
    "\n",
    "\n",
    "tokens = tf.concat(tokens, axis=-1)\n",
    "\n",
    "result = decoder.tokens_to_text(tokens)"
   ]
  },
  {
   "cell_type": "markdown",
   "metadata": {
    "id": "dY6ucD6iq0rt"
   },
   "source": [
    "# The model"
   ]
  },
  {
   "cell_type": "code",
   "execution_count": 34,
   "metadata": {
    "id": "oMAiqR4qqusB"
   },
   "outputs": [],
   "source": [
    "class Translator(tf.keras.Model):\n",
    "  @classmethod\n",
    "  def add_method(cls, fun):\n",
    "    setattr(cls, fun.__name__, fun)\n",
    "    return fun\n",
    "\n",
    "  def __init__(self, units,\n",
    "               context_text_processor,\n",
    "               target_text_processor):\n",
    "    super().__init__()\n",
    "\n",
    "    encoder = Encoder(context_text_processor, units)\n",
    "    decoder = Decoder(target_text_processor, units)\n",
    "\n",
    "    self.encoder = encoder\n",
    "    self.decoder = decoder\n",
    "\n",
    "  def call(self, inputs):\n",
    "    context, x = inputs\n",
    "    context = self.encoder(context)\n",
    "    logits = self.decoder(context, x)\n",
    "\n",
    "    try:\n",
    "      del logits._keras_mask\n",
    "    except AttributeError:\n",
    "      pass\n",
    "\n",
    "    return logits"
   ]
  },
  {
   "cell_type": "code",
   "execution_count": 35,
   "metadata": {
    "colab": {
     "base_uri": "https://localhost:8080/"
    },
    "id": "GDTr_8xvqrL6",
    "outputId": "2ed2e60b-fbae-4b41-9efa-fb1eabb69eac"
   },
   "outputs": [
    {
     "name": "stdout",
     "output_type": "stream",
     "text": [
      "Context tokens, shape: (batch, s, units) (32, 46)\n",
      "Target tokens, shape: (batch, t) (32, 45)\n",
      "logits, shape: (batch, t, target_vocabulary_size) (32, 45, 5179)\n"
     ]
    }
   ],
   "source": [
    "model = Translator(UNITS, context_text_processor, target_text_processor)\n",
    "\n",
    "logits = model((ex_context_tok, ex_tar_in))\n",
    "\n",
    "print(f'Context tokens, shape: (batch, s, units) {ex_context_tok.shape}')\n",
    "print(f'Target tokens, shape: (batch, t) {ex_tar_in.shape}')\n",
    "print(f'logits, shape: (batch, t, target_vocabulary_size) {logits.shape}')"
   ]
  },
  {
   "cell_type": "markdown",
   "metadata": {
    "id": "-ax-QwxjrBGg"
   },
   "source": [
    "# Train"
   ]
  },
  {
   "cell_type": "code",
   "execution_count": 36,
   "metadata": {
    "id": "Al5znQ6bq_Ih"
   },
   "outputs": [],
   "source": [
    "def masked_loss(y_true, y_pred):\n",
    "    loss_fn = tf.keras.losses.SparseCategoricalCrossentropy(\n",
    "        from_logits=True, reduction='none')\n",
    "    loss = loss_fn(y_true, y_pred)\n",
    "\n",
    "    # Mask off the losses on padding.\n",
    "    mask = tf.cast(y_true != 0, loss.dtype)\n",
    "    loss *= mask\n",
    "    return tf.reduce_sum(loss)/tf.reduce_sum(mask)"
   ]
  },
  {
   "cell_type": "code",
   "execution_count": 37,
   "metadata": {
    "id": "r5PPzuldrEj9"
   },
   "outputs": [],
   "source": [
    "def masked_acc(y_true, y_pred):\n",
    "    # Calculate the loss for each item in the batch.\n",
    "    y_pred = tf.argmax(y_pred, axis=-1)\n",
    "    y_pred = tf.cast(y_pred, y_true.dtype)\n",
    "\n",
    "    match = tf.cast(y_true == y_pred, tf.float32)\n",
    "    mask = tf.cast(y_true != 0, tf.float32)\n",
    "\n",
    "    return tf.reduce_sum(match)/tf.reduce_sum(mask)"
   ]
  },
  {
   "cell_type": "code",
   "execution_count": 38,
   "metadata": {
    "id": "llsf5nxirG4U"
   },
   "outputs": [],
   "source": [
    "model.compile(optimizer='adam',\n",
    "              loss=masked_loss,\n",
    "              metrics=[masked_acc, masked_loss])"
   ]
  },
  {
   "cell_type": "markdown",
   "metadata": {
    "id": "TUEjE4_VrwoC"
   },
   "source": [
    "The model is randomly initialized, and should give roughly uniform output probabilities. So it's easy to predict what the initial values of the metrics should be:"
   ]
  },
  {
   "cell_type": "code",
   "execution_count": 39,
   "metadata": {
    "colab": {
     "base_uri": "https://localhost:8080/"
    },
    "id": "4z_DBL3lrLBW",
    "outputId": "a651939e-fb0e-40bf-974c-1de9d83a611a"
   },
   "outputs": [
    {
     "data": {
      "text/plain": [
       "{'expected_loss': 8.552367, 'expected_acc': 0.00019308746862328635}"
      ]
     },
     "execution_count": 39,
     "metadata": {},
     "output_type": "execute_result"
    }
   ],
   "source": [
    "vocab_size = 1.0 * target_text_processor.vocabulary_size()\n",
    "\n",
    "{\"expected_loss\": tf.math.log(vocab_size).numpy(),\n",
    " \"expected_acc\": 1/vocab_size}"
   ]
  },
  {
   "cell_type": "markdown",
   "metadata": {
    "id": "LoidseQSrzbB"
   },
   "source": [
    "That should roughly match the values returned by running a few steps of evaluation:"
   ]
  },
  {
   "cell_type": "code",
   "execution_count": 40,
   "metadata": {
    "colab": {
     "base_uri": "https://localhost:8080/"
    },
    "id": "Dl0rMEL0rM7k",
    "outputId": "cc0effc0-11ba-4fce-8ef5-7a488c7b7a4a"
   },
   "outputs": [
    {
     "name": "stdout",
     "output_type": "stream",
     "text": [
      "20/20 [==============================] - 6s 20ms/step - loss: 8.5539 - masked_acc: 1.3495e-04 - masked_loss: 8.5539\n"
     ]
    },
    {
     "data": {
      "text/plain": [
       "{'loss': 8.553900718688965,\n",
       " 'masked_acc': 0.00013495275925379246,\n",
       " 'masked_loss': 8.553900718688965}"
      ]
     },
     "execution_count": 40,
     "metadata": {},
     "output_type": "execute_result"
    }
   ],
   "source": [
    "model.evaluate(val_ds, steps=20, return_dict=True)"
   ]
  },
  {
   "cell_type": "code",
   "execution_count": 41,
   "metadata": {
    "colab": {
     "base_uri": "https://localhost:8080/"
    },
    "id": "-ZHqSzUnrVKJ",
    "outputId": "34fb54ff-0ad6-4c89-9f04-1bebd0451c61"
   },
   "outputs": [
    {
     "name": "stdout",
     "output_type": "stream",
     "text": [
      "Epoch 1/100\n"
     ]
    },
    {
     "name": "stderr",
     "output_type": "stream",
     "text": [
      "2023-08-06 17:48:12.303791: W tensorflow/core/common_runtime/forward_type_inference.cc:231] Type inference failed. This indicates an invalid graph that escaped type checking. Error message: INVALID_ARGUMENT: expected compatible input types, but input 1:\n",
      "type_id: TFT_OPTIONAL\n",
      "args {\n",
      "  type_id: TFT_PRODUCT\n",
      "  args {\n",
      "    type_id: TFT_TENSOR\n",
      "    args {\n",
      "      type_id: TFT_INT32\n",
      "    }\n",
      "  }\n",
      "}\n",
      " is neither a subtype nor a supertype of the combined inputs preceding it:\n",
      "type_id: TFT_OPTIONAL\n",
      "args {\n",
      "  type_id: TFT_PRODUCT\n",
      "  args {\n",
      "    type_id: TFT_TENSOR\n",
      "    args {\n",
      "      type_id: TFT_INT8\n",
      "    }\n",
      "  }\n",
      "}\n",
      "\n",
      "\twhile inferring type of node 'cond_41/output/_22'\n"
     ]
    },
    {
     "name": "stdout",
     "output_type": "stream",
     "text": [
      "100/100 [==============================] - 14s 46ms/step - loss: 5.5318 - masked_acc: 0.1162 - masked_loss: 5.5318 - val_loss: 4.6397 - val_masked_acc: 0.1959 - val_masked_loss: 4.6397\n",
      "Epoch 2/100\n",
      "100/100 [==============================] - 4s 45ms/step - loss: 4.3541 - masked_acc: 0.2282 - masked_loss: 4.3541 - val_loss: 4.1435 - val_masked_acc: 0.2547 - val_masked_loss: 4.1435\n",
      "Epoch 3/100\n",
      "100/100 [==============================] - 5s 46ms/step - loss: 3.9924 - masked_acc: 0.2712 - masked_loss: 3.9924 - val_loss: 3.8764 - val_masked_acc: 0.2845 - val_masked_loss: 3.8764\n",
      "Epoch 4/100\n",
      "100/100 [==============================] - 5s 45ms/step - loss: 3.4108 - masked_acc: 0.3646 - masked_loss: 3.4108 - val_loss: 2.5920 - val_masked_acc: 0.5099 - val_masked_loss: 2.5920\n",
      "Epoch 5/100\n",
      "100/100 [==============================] - 5s 45ms/step - loss: 2.0598 - masked_acc: 0.6050 - masked_loss: 2.0598 - val_loss: 1.3541 - val_masked_acc: 0.7338 - val_masked_loss: 1.3541\n",
      "Epoch 6/100\n",
      "100/100 [==============================] - 4s 44ms/step - loss: 1.0512 - masked_acc: 0.8016 - masked_loss: 1.0512 - val_loss: 0.9113 - val_masked_acc: 0.8317 - val_masked_loss: 0.9113\n",
      "Epoch 7/100\n",
      "100/100 [==============================] - 4s 45ms/step - loss: 0.5999 - masked_acc: 0.8902 - masked_loss: 0.5999 - val_loss: 0.4037 - val_masked_acc: 0.9244 - val_masked_loss: 0.4037\n",
      "Epoch 8/100\n",
      "100/100 [==============================] - 4s 44ms/step - loss: 0.3633 - masked_acc: 0.9349 - masked_loss: 0.3633 - val_loss: 0.3001 - val_masked_acc: 0.9456 - val_masked_loss: 0.3001\n",
      "Epoch 9/100\n",
      "100/100 [==============================] - 4s 44ms/step - loss: 0.2926 - masked_acc: 0.9477 - masked_loss: 0.2926 - val_loss: 0.2568 - val_masked_acc: 0.9528 - val_masked_loss: 0.2568\n",
      "Epoch 10/100\n",
      "100/100 [==============================] - 4s 43ms/step - loss: 0.2513 - masked_acc: 0.9542 - masked_loss: 0.2513 - val_loss: 0.1944 - val_masked_acc: 0.9645 - val_masked_loss: 0.1944\n",
      "Epoch 11/100\n",
      "100/100 [==============================] - 4s 45ms/step - loss: 0.2310 - masked_acc: 0.9571 - masked_loss: 0.2310 - val_loss: 0.1987 - val_masked_acc: 0.9626 - val_masked_loss: 0.1987\n",
      "Epoch 12/100\n",
      "100/100 [==============================] - 5s 45ms/step - loss: 0.2166 - masked_acc: 0.9600 - masked_loss: 0.2166 - val_loss: 0.2577 - val_masked_acc: 0.9601 - val_masked_loss: 0.2577\n",
      "Epoch 13/100\n",
      "100/100 [==============================] - 4s 44ms/step - loss: 0.2120 - masked_acc: 0.9602 - masked_loss: 0.2120 - val_loss: 0.1828 - val_masked_acc: 0.9655 - val_masked_loss: 0.1828\n",
      "Epoch 14/100\n",
      "100/100 [==============================] - 5s 45ms/step - loss: 0.1666 - masked_acc: 0.9680 - masked_loss: 0.1666 - val_loss: 0.1891 - val_masked_acc: 0.9633 - val_masked_loss: 0.1891\n",
      "Epoch 15/100\n",
      "100/100 [==============================] - 4s 45ms/step - loss: 0.2507 - masked_acc: 0.9571 - masked_loss: 0.2507 - val_loss: 0.2067 - val_masked_acc: 0.9611 - val_masked_loss: 0.2067\n",
      "Epoch 16/100\n",
      "100/100 [==============================] - 5s 45ms/step - loss: 0.1800 - masked_acc: 0.9659 - masked_loss: 0.1800 - val_loss: 0.1654 - val_masked_acc: 0.9699 - val_masked_loss: 0.1654\n",
      "Epoch 17/100\n",
      "100/100 [==============================] - 4s 44ms/step - loss: 0.1539 - masked_acc: 0.9705 - masked_loss: 0.1539 - val_loss: 0.1428 - val_masked_acc: 0.9725 - val_masked_loss: 0.1428\n",
      "Epoch 18/100\n",
      "100/100 [==============================] - 5s 45ms/step - loss: 0.1406 - masked_acc: 0.9719 - masked_loss: 0.1406 - val_loss: 0.1315 - val_masked_acc: 0.9737 - val_masked_loss: 0.1315\n",
      "Epoch 19/100\n",
      "100/100 [==============================] - 4s 45ms/step - loss: 0.1468 - masked_acc: 0.9716 - masked_loss: 0.1468 - val_loss: 0.1336 - val_masked_acc: 0.9732 - val_masked_loss: 0.1336\n",
      "Epoch 20/100\n",
      "100/100 [==============================] - 5s 46ms/step - loss: 0.1470 - masked_acc: 0.9713 - masked_loss: 0.1470 - val_loss: 0.1471 - val_masked_acc: 0.9720 - val_masked_loss: 0.1471\n",
      "Epoch 21/100\n",
      "100/100 [==============================] - 5s 46ms/step - loss: 0.1349 - masked_acc: 0.9735 - masked_loss: 0.1349 - val_loss: 0.1531 - val_masked_acc: 0.9724 - val_masked_loss: 0.1531\n"
     ]
    }
   ],
   "source": [
    "history = model.fit(\n",
    "    train_ds.repeat(),\n",
    "    epochs=100,\n",
    "    steps_per_epoch = 100,\n",
    "    validation_data=val_ds,\n",
    "    validation_steps = 20,\n",
    "    callbacks=[\n",
    "        tf.keras.callbacks.EarlyStopping(patience=3)])"
   ]
  },
  {
   "cell_type": "code",
   "execution_count": 42,
   "metadata": {
    "colab": {
     "base_uri": "https://localhost:8080/",
     "height": 467
    },
    "id": "ncRsOzZbuf_c",
    "outputId": "a3c2c2d2-8e35-4988-91c4-65ff627a9555"
   },
   "outputs": [
    {
     "data": {
      "text/plain": [
       "<matplotlib.legend.Legend at 0x7fb605aa04c0>"
      ]
     },
     "execution_count": 42,
     "metadata": {},
     "output_type": "execute_result"
    },
    {
     "data": {
      "image/png": "[encoded data removed]",
      "text/plain": [
       "<Figure size 640x480 with 1 Axes>"
      ]
     },
     "metadata": {},
     "output_type": "display_data"
    }
   ],
   "source": [
    "plt.plot(history.history['loss'], label='loss')\n",
    "plt.plot(history.history['val_loss'], label='val_loss')\n",
    "plt.ylim([0, max(plt.ylim())])\n",
    "plt.xlabel('Epoch #')\n",
    "plt.ylabel('CE/token')\n",
    "plt.legend()"
   ]
  },
  {
   "cell_type": "code",
   "execution_count": 43,
   "metadata": {
    "colab": {
     "base_uri": "https://localhost:8080/",
     "height": 468
    },
    "id": "zxELzFnfuoeE",
    "outputId": "b4eef793-dc10-4c60-ecfa-eb35d400e3af"
   },
   "outputs": [
    {
     "data": {
      "text/plain": [
       "<matplotlib.legend.Legend at 0x7fb62e571e80>"
      ]
     },
     "execution_count": 43,
     "metadata": {},
     "output_type": "execute_result"
    },
    {
     "data": {
      "image/png": "[encoded data removed]",
      "text/plain": [
       "<Figure size 640x480 with 1 Axes>"
      ]
     },
     "metadata": {},
     "output_type": "display_data"
    }
   ],
   "source": [
    "plt.plot(history.history['masked_acc'], label='accuracy')\n",
    "plt.plot(history.history['val_masked_acc'], label='val_accuracy')\n",
    "plt.ylim([0, max(plt.ylim())])\n",
    "plt.xlabel('Epoch #')\n",
    "plt.ylabel('CE/token')\n",
    "plt.legend()"
   ]
  },
  {
   "cell_type": "markdown",
   "metadata": {
    "id": "UvvGo0TsusSe"
   },
   "source": [
    "# Translate"
   ]
  },
  {
   "cell_type": "code",
   "execution_count": 44,
   "metadata": {
    "id": "EV6RNnx9vmIu"
   },
   "outputs": [],
   "source": [
    "@Translator.add_method\n",
    "def translate(self,\n",
    "              texts, *,\n",
    "              max_length=300,\n",
    "              temperature=0.5):\n",
    "  # Process the input texts\n",
    "  context = self.encoder.convert_input(texts)\n",
    "  batch_size = tf.shape(texts)[0]\n",
    "\n",
    "  # Setup the loop inputs\n",
    "  tokens = []\n",
    "  attention_weights = []\n",
    "  next_token, done, state = self.decoder.get_initial_state(context)\n",
    "\n",
    "  for _ in range(max_length):\n",
    "    # Generate the next token\n",
    "    next_token, done, state = self.decoder.get_next_token(\n",
    "        context, next_token, done,  state, temperature)\n",
    "\n",
    "    # Collect the generated tokens\n",
    "    tokens.append(next_token)\n",
    "    attention_weights.append(self.decoder.last_attention_weights)\n",
    "\n",
    "    if tf.executing_eagerly() and tf.reduce_all(done):\n",
    "      break\n",
    "\n",
    "  # Stack the lists of tokens and attention weights.\n",
    "  tokens = tf.concat(tokens, axis=-1)\n",
    "  self.last_attention_weights = tf.concat(attention_weights, axis=1)\n",
    "  result = self.decoder.tokens_to_text(tokens)\n",
    "  return result"
   ]
  },
  {
   "cell_type": "code",
   "execution_count": 45,
   "metadata": {
    "id": "QmSwJjOByD14"
   },
   "outputs": [],
   "source": [
    "inputs = [\n",
    "    'ဘာ တေ ဖစ် နေ တာ လဲ မ သိ ဝူး',\n",
    "    'သူ တစ် ယောက် တည်း လည်း အ ဆင် မ ပြေ နိုင် ဘူး',\n",
    "    'အ လျှော့ ပေး လည်း ပြတ် တဲ့ ကြိုး က ပြတ် တာ ပါ ပဲ',\n",
    "    'သူ ဘယ် သွား တာ လဲ ရှင်',\n",
    "    'ဒါ ပေ မဲ့ လည်း အ လျှော့ ပေး ရင်း နဲ့ က ပြတ် တောက် သွား တဲ့ ဆက် ဆံ ရေး တွေ အ ကြောင်း တော့ လူ ဒေ မ သိ တာ များ တယ်',\n",
    "    'ငါ တို ရှင် သန် ရာ ပတ်် ဝန်း ကျင်',\n",
    "    'လက် ညှိုး တေ များ ဒယ်',\n",
    "    'တစ် လှမ်း ချင်း လျှောက် လည်း ရောက် ၇ မယ်',\n",
    "]"
   ]
  },
  {
   "cell_type": "code",
   "execution_count": 46,
   "metadata": {
    "colab": {
     "base_uri": "https://localhost:8080/"
    },
    "id": "iRZuunVXV8C2",
    "outputId": "9a417d39-d30d-4945-fb00-3dbd3086adca"
   },
   "outputs": [
    {
     "name": "stdout",
     "output_type": "stream",
     "text": [
      "ဘာ တွေ ဖြစ် နေ တာ လဲ မ သိ ဘူး \n",
      "သူ တစ် ယောက် တည်း လည်း အ ဆင် မ ပြေ နိုင် ဘူး \n",
      "အ လျှော့ ပေး လည်း ပြတ် တဲ့ ကြိုး က ပြတ် တာ ပါ ပဲ \n",
      "သူ ဘယ် သွား တာ လဲ ရှင် \n",
      "ဒါ ပေ မဲ့ လည်း အ လျှော့ ပေး ရင်း နဲ့ က ပြတ် တောက် သွား တဲ့ ဆက် ဆံ ရေး တွေ အ ကြောင်း တော့ လူ တွေ မ သိ တာ များ တယ် \n",
      "ငါ တို့ ရှင် သန် ရာ ပတ် ဝန်း ကျင် \n",
      "လက် ညှိုး တွေ များ တယ် \n",
      "တစ် လှမ်း ချင်း လျှောက် လည်း ရောက် ရ မယ် \n",
      "\n"
     ]
    }
   ],
   "source": [
    "for t in inputs:\n",
    "    print(model.translate([t])[0].numpy().decode())\n",
    "print()"
   ]
  },
  {
   "cell_type": "markdown",
   "metadata": {
    "id": "Il1YYf010DGw"
   },
   "source": [
    "# Export"
   ]
  },
  {
   "cell_type": "code",
   "execution_count": 47,
   "metadata": {
    "id": "kSzzEgclz7lf"
   },
   "outputs": [],
   "source": [
    "class Export(tf.Module):\n",
    "  def __init__(self, model):\n",
    "    self.model = model\n",
    "\n",
    "  @tf.function(input_signature=[tf.TensorSpec(dtype=tf.string, shape=[None])])\n",
    "  def translate(self, inputs):\n",
    "    return self.model.translate(inputs)"
   ]
  },
  {
   "cell_type": "code",
   "execution_count": 48,
   "metadata": {
    "colab": {
     "base_uri": "https://localhost:8080/",
     "height": 171
    },
    "id": "V1zideVd0KK7",
    "outputId": "ce1c02de-38be-4587-8038-c0981e23eda1"
   },
   "outputs": [],
   "source": [
    "export = Export(model)"
   ]
  },
  {
   "cell_type": "code",
   "execution_count": 49,
   "metadata": {
    "colab": {
     "base_uri": "https://localhost:8080/",
     "height": 190
    },
    "id": "36haf5DU0USF",
    "outputId": "930add5d-4cdd-4bc8-e487-99553f317bb3"
   },
   "outputs": [
    {
     "name": "stderr",
     "output_type": "stream",
     "text": [
      "WARNING:absl:Found untraced functions such as embedding_3_layer_call_fn, embedding_3_layer_call_and_return_conditional_losses, embedding_4_layer_call_fn, embedding_4_layer_call_and_return_conditional_losses, cross_attention_2_layer_call_fn while saving (showing 5 of 32). These functions will not be directly callable after loading.\n"
     ]
    },
    {
     "name": "stdout",
     "output_type": "stream",
     "text": [
      "INFO:tensorflow:Assets written to: translator/assets\n"
     ]
    },
    {
     "name": "stderr",
     "output_type": "stream",
     "text": [
      "INFO:tensorflow:Assets written to: translator/assets\n"
     ]
    }
   ],
   "source": [
    "tf.saved_model.save(export, 'translator',\n",
    "                    signatures={'serving_default': export.translate})"
   ]
  },
  {
   "cell_type": "code",
   "execution_count": null,
   "metadata": {},
   "outputs": [],
   "source": []
  }
 ],
 "metadata": {
  "accelerator": "GPU",
  "colab": {
   "gpuType": "T4",
   "provenance": []
  },
  "kernelspec": {
   "display_name": "hmp_tf",
   "language": "python",
   "name": "hmp_tf"
  },
  "language_info": {
   "codemirror_mode": {
    "name": "ipython",
    "version": 3
   },
   "file_extension": ".py",
   "mimetype": "text/x-python",
   "name": "python",
   "nbconvert_exporter": "python",
   "pygments_lexer": "ipython3",
   "version": "3.9.16"
  }
 },
 "nbformat": 4,
 "nbformat_minor": 1
}
